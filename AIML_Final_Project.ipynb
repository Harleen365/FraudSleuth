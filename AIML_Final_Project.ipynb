{
 "cells": [
  {
   "cell_type": "code",
   "execution_count": 1,
   "id": "c5c54d71",
   "metadata": {},
   "outputs": [
    {
     "name": "stderr",
     "output_type": "stream",
     "text": [
      "C:\\Users\\kharl\\anaconda3\\lib\\site-packages\\pandas\\core\\computation\\expressions.py:21: UserWarning: Pandas requires version '2.8.4' or newer of 'numexpr' (version '2.8.1' currently installed).\n",
      "  from pandas.core.computation.check import NUMEXPR_INSTALLED\n",
      "C:\\Users\\kharl\\anaconda3\\lib\\site-packages\\pandas\\core\\arrays\\masked.py:60: UserWarning: Pandas requires version '1.3.6' or newer of 'bottleneck' (version '1.3.4' currently installed).\n",
      "  from pandas.core import (\n",
      "C:\\Users\\kharl\\AppData\\Local\\Temp\\ipykernel_12116\\2695946109.py:4: DeprecationWarning: \n",
      "Pyarrow will become a required dependency of pandas in the next major release of pandas (pandas 3.0),\n",
      "(to allow more performant data types, such as the Arrow string type, and better interoperability with other libraries)\n",
      "but was not found to be installed on your system.\n",
      "If this would cause problems for you,\n",
      "please provide us feedback at https://github.com/pandas-dev/pandas/issues/54466\n",
      "        \n",
      "  import pandas as pd\n",
      "C:\\Users\\kharl\\anaconda3\\lib\\site-packages\\scipy\\__init__.py:146: UserWarning: A NumPy version >=1.16.5 and <1.23.0 is required for this version of SciPy (detected version 1.26.3\n",
      "  warnings.warn(f\"A NumPy version >={np_minversion} and <{np_maxversion}\"\n"
     ]
    }
   ],
   "source": [
    "#ONLINE FRAUD DETECTION\n",
    "\n",
    "import numpy as np\n",
    "import pandas as pd\n",
    "import matplotlib.pyplot as plt \n",
    "import seaborn as sb \n",
    "\n",
    "df=pd.read_csv(r'C:\\Users\\kharl\\Downloads\\onlinefraud(1).csv')"
   ]
  },
  {
   "cell_type": "code",
   "execution_count": 2,
   "id": "ea41169c",
   "metadata": {},
   "outputs": [
    {
     "data": {
      "text/html": [
       "<div>\n",
       "<style scoped>\n",
       "    .dataframe tbody tr th:only-of-type {\n",
       "        vertical-align: middle;\n",
       "    }\n",
       "\n",
       "    .dataframe tbody tr th {\n",
       "        vertical-align: top;\n",
       "    }\n",
       "\n",
       "    .dataframe thead th {\n",
       "        text-align: right;\n",
       "    }\n",
       "</style>\n",
       "<table border=\"1\" class=\"dataframe\">\n",
       "  <thead>\n",
       "    <tr style=\"text-align: right;\">\n",
       "      <th></th>\n",
       "      <th>step</th>\n",
       "      <th>type</th>\n",
       "      <th>amount</th>\n",
       "      <th>nameOrig</th>\n",
       "      <th>oldbalanceOrg</th>\n",
       "      <th>newbalanceOrig</th>\n",
       "      <th>nameDest</th>\n",
       "      <th>oldbalanceDest</th>\n",
       "      <th>newbalanceDest</th>\n",
       "      <th>isFraud</th>\n",
       "      <th>isFlaggedFraud</th>\n",
       "    </tr>\n",
       "  </thead>\n",
       "  <tbody>\n",
       "    <tr>\n",
       "      <th>0</th>\n",
       "      <td>1</td>\n",
       "      <td>PAYMENT</td>\n",
       "      <td>9839.64</td>\n",
       "      <td>C1231006815</td>\n",
       "      <td>170136.00</td>\n",
       "      <td>160296.36</td>\n",
       "      <td>M1979787155</td>\n",
       "      <td>0.00</td>\n",
       "      <td>0.00</td>\n",
       "      <td>0</td>\n",
       "      <td>0</td>\n",
       "    </tr>\n",
       "    <tr>\n",
       "      <th>1</th>\n",
       "      <td>1</td>\n",
       "      <td>PAYMENT</td>\n",
       "      <td>1864.28</td>\n",
       "      <td>C1666544295</td>\n",
       "      <td>21249.00</td>\n",
       "      <td>19384.72</td>\n",
       "      <td>M2044282225</td>\n",
       "      <td>0.00</td>\n",
       "      <td>0.00</td>\n",
       "      <td>0</td>\n",
       "      <td>0</td>\n",
       "    </tr>\n",
       "    <tr>\n",
       "      <th>2</th>\n",
       "      <td>1</td>\n",
       "      <td>TRANSFER</td>\n",
       "      <td>181.00</td>\n",
       "      <td>C1305486145</td>\n",
       "      <td>181.00</td>\n",
       "      <td>0.00</td>\n",
       "      <td>C553264065</td>\n",
       "      <td>0.00</td>\n",
       "      <td>0.00</td>\n",
       "      <td>1</td>\n",
       "      <td>0</td>\n",
       "    </tr>\n",
       "    <tr>\n",
       "      <th>3</th>\n",
       "      <td>1</td>\n",
       "      <td>CASH_OUT</td>\n",
       "      <td>181.00</td>\n",
       "      <td>C840083671</td>\n",
       "      <td>181.00</td>\n",
       "      <td>0.00</td>\n",
       "      <td>C38997010</td>\n",
       "      <td>21182.00</td>\n",
       "      <td>0.00</td>\n",
       "      <td>1</td>\n",
       "      <td>0</td>\n",
       "    </tr>\n",
       "    <tr>\n",
       "      <th>4</th>\n",
       "      <td>1</td>\n",
       "      <td>PAYMENT</td>\n",
       "      <td>11668.14</td>\n",
       "      <td>C2048537720</td>\n",
       "      <td>41554.00</td>\n",
       "      <td>29885.86</td>\n",
       "      <td>M1230701703</td>\n",
       "      <td>0.00</td>\n",
       "      <td>0.00</td>\n",
       "      <td>0</td>\n",
       "      <td>0</td>\n",
       "    </tr>\n",
       "    <tr>\n",
       "      <th>...</th>\n",
       "      <td>...</td>\n",
       "      <td>...</td>\n",
       "      <td>...</td>\n",
       "      <td>...</td>\n",
       "      <td>...</td>\n",
       "      <td>...</td>\n",
       "      <td>...</td>\n",
       "      <td>...</td>\n",
       "      <td>...</td>\n",
       "      <td>...</td>\n",
       "      <td>...</td>\n",
       "    </tr>\n",
       "    <tr>\n",
       "      <th>6362615</th>\n",
       "      <td>743</td>\n",
       "      <td>CASH_OUT</td>\n",
       "      <td>339682.13</td>\n",
       "      <td>C786484425</td>\n",
       "      <td>339682.13</td>\n",
       "      <td>0.00</td>\n",
       "      <td>C776919290</td>\n",
       "      <td>0.00</td>\n",
       "      <td>339682.13</td>\n",
       "      <td>1</td>\n",
       "      <td>0</td>\n",
       "    </tr>\n",
       "    <tr>\n",
       "      <th>6362616</th>\n",
       "      <td>743</td>\n",
       "      <td>TRANSFER</td>\n",
       "      <td>6311409.28</td>\n",
       "      <td>C1529008245</td>\n",
       "      <td>6311409.28</td>\n",
       "      <td>0.00</td>\n",
       "      <td>C1881841831</td>\n",
       "      <td>0.00</td>\n",
       "      <td>0.00</td>\n",
       "      <td>1</td>\n",
       "      <td>0</td>\n",
       "    </tr>\n",
       "    <tr>\n",
       "      <th>6362617</th>\n",
       "      <td>743</td>\n",
       "      <td>CASH_OUT</td>\n",
       "      <td>6311409.28</td>\n",
       "      <td>C1162922333</td>\n",
       "      <td>6311409.28</td>\n",
       "      <td>0.00</td>\n",
       "      <td>C1365125890</td>\n",
       "      <td>68488.84</td>\n",
       "      <td>6379898.11</td>\n",
       "      <td>1</td>\n",
       "      <td>0</td>\n",
       "    </tr>\n",
       "    <tr>\n",
       "      <th>6362618</th>\n",
       "      <td>743</td>\n",
       "      <td>TRANSFER</td>\n",
       "      <td>850002.52</td>\n",
       "      <td>C1685995037</td>\n",
       "      <td>850002.52</td>\n",
       "      <td>0.00</td>\n",
       "      <td>C2080388513</td>\n",
       "      <td>0.00</td>\n",
       "      <td>0.00</td>\n",
       "      <td>1</td>\n",
       "      <td>0</td>\n",
       "    </tr>\n",
       "    <tr>\n",
       "      <th>6362619</th>\n",
       "      <td>743</td>\n",
       "      <td>CASH_OUT</td>\n",
       "      <td>850002.52</td>\n",
       "      <td>C1280323807</td>\n",
       "      <td>850002.52</td>\n",
       "      <td>0.00</td>\n",
       "      <td>C873221189</td>\n",
       "      <td>6510099.11</td>\n",
       "      <td>7360101.63</td>\n",
       "      <td>1</td>\n",
       "      <td>0</td>\n",
       "    </tr>\n",
       "  </tbody>\n",
       "</table>\n",
       "<p>6362620 rows × 11 columns</p>\n",
       "</div>"
      ],
      "text/plain": [
       "         step      type      amount     nameOrig  oldbalanceOrg  \\\n",
       "0           1   PAYMENT     9839.64  C1231006815      170136.00   \n",
       "1           1   PAYMENT     1864.28  C1666544295       21249.00   \n",
       "2           1  TRANSFER      181.00  C1305486145         181.00   \n",
       "3           1  CASH_OUT      181.00   C840083671         181.00   \n",
       "4           1   PAYMENT    11668.14  C2048537720       41554.00   \n",
       "...       ...       ...         ...          ...            ...   \n",
       "6362615   743  CASH_OUT   339682.13   C786484425      339682.13   \n",
       "6362616   743  TRANSFER  6311409.28  C1529008245     6311409.28   \n",
       "6362617   743  CASH_OUT  6311409.28  C1162922333     6311409.28   \n",
       "6362618   743  TRANSFER   850002.52  C1685995037      850002.52   \n",
       "6362619   743  CASH_OUT   850002.52  C1280323807      850002.52   \n",
       "\n",
       "         newbalanceOrig     nameDest  oldbalanceDest  newbalanceDest  isFraud  \\\n",
       "0             160296.36  M1979787155            0.00            0.00        0   \n",
       "1              19384.72  M2044282225            0.00            0.00        0   \n",
       "2                  0.00   C553264065            0.00            0.00        1   \n",
       "3                  0.00    C38997010        21182.00            0.00        1   \n",
       "4              29885.86  M1230701703            0.00            0.00        0   \n",
       "...                 ...          ...             ...             ...      ...   \n",
       "6362615            0.00   C776919290            0.00       339682.13        1   \n",
       "6362616            0.00  C1881841831            0.00            0.00        1   \n",
       "6362617            0.00  C1365125890        68488.84      6379898.11        1   \n",
       "6362618            0.00  C2080388513            0.00            0.00        1   \n",
       "6362619            0.00   C873221189      6510099.11      7360101.63        1   \n",
       "\n",
       "         isFlaggedFraud  \n",
       "0                     0  \n",
       "1                     0  \n",
       "2                     0  \n",
       "3                     0  \n",
       "4                     0  \n",
       "...                 ...  \n",
       "6362615               0  \n",
       "6362616               0  \n",
       "6362617               0  \n",
       "6362618               0  \n",
       "6362619               0  \n",
       "\n",
       "[6362620 rows x 11 columns]"
      ]
     },
     "execution_count": 2,
     "metadata": {},
     "output_type": "execute_result"
    }
   ],
   "source": [
    "df"
   ]
  },
  {
   "cell_type": "code",
   "execution_count": 3,
   "id": "7d999bd2",
   "metadata": {},
   "outputs": [
    {
     "data": {
      "text/html": [
       "<div>\n",
       "<style scoped>\n",
       "    .dataframe tbody tr th:only-of-type {\n",
       "        vertical-align: middle;\n",
       "    }\n",
       "\n",
       "    .dataframe tbody tr th {\n",
       "        vertical-align: top;\n",
       "    }\n",
       "\n",
       "    .dataframe thead th {\n",
       "        text-align: right;\n",
       "    }\n",
       "</style>\n",
       "<table border=\"1\" class=\"dataframe\">\n",
       "  <thead>\n",
       "    <tr style=\"text-align: right;\">\n",
       "      <th></th>\n",
       "      <th>step</th>\n",
       "      <th>type</th>\n",
       "      <th>amount</th>\n",
       "      <th>nameOrig</th>\n",
       "      <th>oldbalanceOrg</th>\n",
       "      <th>newbalanceOrig</th>\n",
       "      <th>nameDest</th>\n",
       "      <th>oldbalanceDest</th>\n",
       "      <th>newbalanceDest</th>\n",
       "      <th>isFraud</th>\n",
       "      <th>isFlaggedFraud</th>\n",
       "    </tr>\n",
       "  </thead>\n",
       "  <tbody>\n",
       "    <tr>\n",
       "      <th>0</th>\n",
       "      <td>1</td>\n",
       "      <td>PAYMENT</td>\n",
       "      <td>9839.64</td>\n",
       "      <td>C1231006815</td>\n",
       "      <td>170136.00</td>\n",
       "      <td>160296.36</td>\n",
       "      <td>M1979787155</td>\n",
       "      <td>0.0</td>\n",
       "      <td>0.00</td>\n",
       "      <td>0</td>\n",
       "      <td>0</td>\n",
       "    </tr>\n",
       "    <tr>\n",
       "      <th>1</th>\n",
       "      <td>1</td>\n",
       "      <td>PAYMENT</td>\n",
       "      <td>1864.28</td>\n",
       "      <td>C1666544295</td>\n",
       "      <td>21249.00</td>\n",
       "      <td>19384.72</td>\n",
       "      <td>M2044282225</td>\n",
       "      <td>0.0</td>\n",
       "      <td>0.00</td>\n",
       "      <td>0</td>\n",
       "      <td>0</td>\n",
       "    </tr>\n",
       "    <tr>\n",
       "      <th>2</th>\n",
       "      <td>1</td>\n",
       "      <td>TRANSFER</td>\n",
       "      <td>181.00</td>\n",
       "      <td>C1305486145</td>\n",
       "      <td>181.00</td>\n",
       "      <td>0.00</td>\n",
       "      <td>C553264065</td>\n",
       "      <td>0.0</td>\n",
       "      <td>0.00</td>\n",
       "      <td>1</td>\n",
       "      <td>0</td>\n",
       "    </tr>\n",
       "    <tr>\n",
       "      <th>3</th>\n",
       "      <td>1</td>\n",
       "      <td>CASH_OUT</td>\n",
       "      <td>181.00</td>\n",
       "      <td>C840083671</td>\n",
       "      <td>181.00</td>\n",
       "      <td>0.00</td>\n",
       "      <td>C38997010</td>\n",
       "      <td>21182.0</td>\n",
       "      <td>0.00</td>\n",
       "      <td>1</td>\n",
       "      <td>0</td>\n",
       "    </tr>\n",
       "    <tr>\n",
       "      <th>4</th>\n",
       "      <td>1</td>\n",
       "      <td>PAYMENT</td>\n",
       "      <td>11668.14</td>\n",
       "      <td>C2048537720</td>\n",
       "      <td>41554.00</td>\n",
       "      <td>29885.86</td>\n",
       "      <td>M1230701703</td>\n",
       "      <td>0.0</td>\n",
       "      <td>0.00</td>\n",
       "      <td>0</td>\n",
       "      <td>0</td>\n",
       "    </tr>\n",
       "    <tr>\n",
       "      <th>5</th>\n",
       "      <td>1</td>\n",
       "      <td>PAYMENT</td>\n",
       "      <td>7817.71</td>\n",
       "      <td>C90045638</td>\n",
       "      <td>53860.00</td>\n",
       "      <td>46042.29</td>\n",
       "      <td>M573487274</td>\n",
       "      <td>0.0</td>\n",
       "      <td>0.00</td>\n",
       "      <td>0</td>\n",
       "      <td>0</td>\n",
       "    </tr>\n",
       "    <tr>\n",
       "      <th>6</th>\n",
       "      <td>1</td>\n",
       "      <td>PAYMENT</td>\n",
       "      <td>7107.77</td>\n",
       "      <td>C154988899</td>\n",
       "      <td>183195.00</td>\n",
       "      <td>176087.23</td>\n",
       "      <td>M408069119</td>\n",
       "      <td>0.0</td>\n",
       "      <td>0.00</td>\n",
       "      <td>0</td>\n",
       "      <td>0</td>\n",
       "    </tr>\n",
       "    <tr>\n",
       "      <th>7</th>\n",
       "      <td>1</td>\n",
       "      <td>PAYMENT</td>\n",
       "      <td>7861.64</td>\n",
       "      <td>C1912850431</td>\n",
       "      <td>176087.23</td>\n",
       "      <td>168225.59</td>\n",
       "      <td>M633326333</td>\n",
       "      <td>0.0</td>\n",
       "      <td>0.00</td>\n",
       "      <td>0</td>\n",
       "      <td>0</td>\n",
       "    </tr>\n",
       "    <tr>\n",
       "      <th>8</th>\n",
       "      <td>1</td>\n",
       "      <td>PAYMENT</td>\n",
       "      <td>4024.36</td>\n",
       "      <td>C1265012928</td>\n",
       "      <td>2671.00</td>\n",
       "      <td>0.00</td>\n",
       "      <td>M1176932104</td>\n",
       "      <td>0.0</td>\n",
       "      <td>0.00</td>\n",
       "      <td>0</td>\n",
       "      <td>0</td>\n",
       "    </tr>\n",
       "    <tr>\n",
       "      <th>9</th>\n",
       "      <td>1</td>\n",
       "      <td>DEBIT</td>\n",
       "      <td>5337.77</td>\n",
       "      <td>C712410124</td>\n",
       "      <td>41720.00</td>\n",
       "      <td>36382.23</td>\n",
       "      <td>C195600860</td>\n",
       "      <td>41898.0</td>\n",
       "      <td>40348.79</td>\n",
       "      <td>0</td>\n",
       "      <td>0</td>\n",
       "    </tr>\n",
       "  </tbody>\n",
       "</table>\n",
       "</div>"
      ],
      "text/plain": [
       "   step      type    amount     nameOrig  oldbalanceOrg  newbalanceOrig  \\\n",
       "0     1   PAYMENT   9839.64  C1231006815      170136.00       160296.36   \n",
       "1     1   PAYMENT   1864.28  C1666544295       21249.00        19384.72   \n",
       "2     1  TRANSFER    181.00  C1305486145         181.00            0.00   \n",
       "3     1  CASH_OUT    181.00   C840083671         181.00            0.00   \n",
       "4     1   PAYMENT  11668.14  C2048537720       41554.00        29885.86   \n",
       "5     1   PAYMENT   7817.71    C90045638       53860.00        46042.29   \n",
       "6     1   PAYMENT   7107.77   C154988899      183195.00       176087.23   \n",
       "7     1   PAYMENT   7861.64  C1912850431      176087.23       168225.59   \n",
       "8     1   PAYMENT   4024.36  C1265012928        2671.00            0.00   \n",
       "9     1     DEBIT   5337.77   C712410124       41720.00        36382.23   \n",
       "\n",
       "      nameDest  oldbalanceDest  newbalanceDest  isFraud  isFlaggedFraud  \n",
       "0  M1979787155             0.0            0.00        0               0  \n",
       "1  M2044282225             0.0            0.00        0               0  \n",
       "2   C553264065             0.0            0.00        1               0  \n",
       "3    C38997010         21182.0            0.00        1               0  \n",
       "4  M1230701703             0.0            0.00        0               0  \n",
       "5   M573487274             0.0            0.00        0               0  \n",
       "6   M408069119             0.0            0.00        0               0  \n",
       "7   M633326333             0.0            0.00        0               0  \n",
       "8  M1176932104             0.0            0.00        0               0  \n",
       "9   C195600860         41898.0        40348.79        0               0  "
      ]
     },
     "execution_count": 3,
     "metadata": {},
     "output_type": "execute_result"
    }
   ],
   "source": [
    "df.head(10)"
   ]
  },
  {
   "cell_type": "code",
   "execution_count": 4,
   "id": "7f4e6632",
   "metadata": {},
   "outputs": [
    {
     "data": {
      "text/plain": [
       "(6362620, 11)"
      ]
     },
     "execution_count": 4,
     "metadata": {},
     "output_type": "execute_result"
    }
   ],
   "source": [
    "df.shape #rows->rows,col->feature"
   ]
  },
  {
   "cell_type": "code",
   "execution_count": 5,
   "id": "6232b6df",
   "metadata": {},
   "outputs": [
    {
     "name": "stdout",
     "output_type": "stream",
     "text": [
      "<class 'pandas.core.frame.DataFrame'>\n",
      "RangeIndex: 6362620 entries, 0 to 6362619\n",
      "Data columns (total 11 columns):\n",
      " #   Column          Dtype  \n",
      "---  ------          -----  \n",
      " 0   step            int64  \n",
      " 1   type            object \n",
      " 2   amount          float64\n",
      " 3   nameOrig        object \n",
      " 4   oldbalanceOrg   float64\n",
      " 5   newbalanceOrig  float64\n",
      " 6   nameDest        object \n",
      " 7   oldbalanceDest  float64\n",
      " 8   newbalanceDest  float64\n",
      " 9   isFraud         int64  \n",
      " 10  isFlaggedFraud  int64  \n",
      "dtypes: float64(5), int64(3), object(3)\n",
      "memory usage: 534.0+ MB\n"
     ]
    }
   ],
   "source": [
    "df.info()"
   ]
  },
  {
   "cell_type": "code",
   "execution_count": 6,
   "id": "47824a1d",
   "metadata": {},
   "outputs": [
    {
     "data": {
      "text/html": [
       "<div>\n",
       "<style scoped>\n",
       "    .dataframe tbody tr th:only-of-type {\n",
       "        vertical-align: middle;\n",
       "    }\n",
       "\n",
       "    .dataframe tbody tr th {\n",
       "        vertical-align: top;\n",
       "    }\n",
       "\n",
       "    .dataframe thead th {\n",
       "        text-align: right;\n",
       "    }\n",
       "</style>\n",
       "<table border=\"1\" class=\"dataframe\">\n",
       "  <thead>\n",
       "    <tr style=\"text-align: right;\">\n",
       "      <th></th>\n",
       "      <th>step</th>\n",
       "      <th>amount</th>\n",
       "      <th>oldbalanceOrg</th>\n",
       "      <th>newbalanceOrig</th>\n",
       "      <th>oldbalanceDest</th>\n",
       "      <th>newbalanceDest</th>\n",
       "      <th>isFraud</th>\n",
       "      <th>isFlaggedFraud</th>\n",
       "    </tr>\n",
       "  </thead>\n",
       "  <tbody>\n",
       "    <tr>\n",
       "      <th>count</th>\n",
       "      <td>6.362620e+06</td>\n",
       "      <td>6.362620e+06</td>\n",
       "      <td>6.362620e+06</td>\n",
       "      <td>6.362620e+06</td>\n",
       "      <td>6.362620e+06</td>\n",
       "      <td>6.362620e+06</td>\n",
       "      <td>6.362620e+06</td>\n",
       "      <td>6.362620e+06</td>\n",
       "    </tr>\n",
       "    <tr>\n",
       "      <th>mean</th>\n",
       "      <td>2.433972e+02</td>\n",
       "      <td>1.798619e+05</td>\n",
       "      <td>8.338831e+05</td>\n",
       "      <td>8.551137e+05</td>\n",
       "      <td>1.100702e+06</td>\n",
       "      <td>1.224996e+06</td>\n",
       "      <td>1.290820e-03</td>\n",
       "      <td>2.514687e-06</td>\n",
       "    </tr>\n",
       "    <tr>\n",
       "      <th>std</th>\n",
       "      <td>1.423320e+02</td>\n",
       "      <td>6.038582e+05</td>\n",
       "      <td>2.888243e+06</td>\n",
       "      <td>2.924049e+06</td>\n",
       "      <td>3.399180e+06</td>\n",
       "      <td>3.674129e+06</td>\n",
       "      <td>3.590480e-02</td>\n",
       "      <td>1.585775e-03</td>\n",
       "    </tr>\n",
       "    <tr>\n",
       "      <th>min</th>\n",
       "      <td>1.000000e+00</td>\n",
       "      <td>0.000000e+00</td>\n",
       "      <td>0.000000e+00</td>\n",
       "      <td>0.000000e+00</td>\n",
       "      <td>0.000000e+00</td>\n",
       "      <td>0.000000e+00</td>\n",
       "      <td>0.000000e+00</td>\n",
       "      <td>0.000000e+00</td>\n",
       "    </tr>\n",
       "    <tr>\n",
       "      <th>25%</th>\n",
       "      <td>1.560000e+02</td>\n",
       "      <td>1.338957e+04</td>\n",
       "      <td>0.000000e+00</td>\n",
       "      <td>0.000000e+00</td>\n",
       "      <td>0.000000e+00</td>\n",
       "      <td>0.000000e+00</td>\n",
       "      <td>0.000000e+00</td>\n",
       "      <td>0.000000e+00</td>\n",
       "    </tr>\n",
       "    <tr>\n",
       "      <th>50%</th>\n",
       "      <td>2.390000e+02</td>\n",
       "      <td>7.487194e+04</td>\n",
       "      <td>1.420800e+04</td>\n",
       "      <td>0.000000e+00</td>\n",
       "      <td>1.327057e+05</td>\n",
       "      <td>2.146614e+05</td>\n",
       "      <td>0.000000e+00</td>\n",
       "      <td>0.000000e+00</td>\n",
       "    </tr>\n",
       "    <tr>\n",
       "      <th>75%</th>\n",
       "      <td>3.350000e+02</td>\n",
       "      <td>2.087215e+05</td>\n",
       "      <td>1.073152e+05</td>\n",
       "      <td>1.442584e+05</td>\n",
       "      <td>9.430367e+05</td>\n",
       "      <td>1.111909e+06</td>\n",
       "      <td>0.000000e+00</td>\n",
       "      <td>0.000000e+00</td>\n",
       "    </tr>\n",
       "    <tr>\n",
       "      <th>max</th>\n",
       "      <td>7.430000e+02</td>\n",
       "      <td>9.244552e+07</td>\n",
       "      <td>5.958504e+07</td>\n",
       "      <td>4.958504e+07</td>\n",
       "      <td>3.560159e+08</td>\n",
       "      <td>3.561793e+08</td>\n",
       "      <td>1.000000e+00</td>\n",
       "      <td>1.000000e+00</td>\n",
       "    </tr>\n",
       "  </tbody>\n",
       "</table>\n",
       "</div>"
      ],
      "text/plain": [
       "               step        amount  oldbalanceOrg  newbalanceOrig  \\\n",
       "count  6.362620e+06  6.362620e+06   6.362620e+06    6.362620e+06   \n",
       "mean   2.433972e+02  1.798619e+05   8.338831e+05    8.551137e+05   \n",
       "std    1.423320e+02  6.038582e+05   2.888243e+06    2.924049e+06   \n",
       "min    1.000000e+00  0.000000e+00   0.000000e+00    0.000000e+00   \n",
       "25%    1.560000e+02  1.338957e+04   0.000000e+00    0.000000e+00   \n",
       "50%    2.390000e+02  7.487194e+04   1.420800e+04    0.000000e+00   \n",
       "75%    3.350000e+02  2.087215e+05   1.073152e+05    1.442584e+05   \n",
       "max    7.430000e+02  9.244552e+07   5.958504e+07    4.958504e+07   \n",
       "\n",
       "       oldbalanceDest  newbalanceDest       isFraud  isFlaggedFraud  \n",
       "count    6.362620e+06    6.362620e+06  6.362620e+06    6.362620e+06  \n",
       "mean     1.100702e+06    1.224996e+06  1.290820e-03    2.514687e-06  \n",
       "std      3.399180e+06    3.674129e+06  3.590480e-02    1.585775e-03  \n",
       "min      0.000000e+00    0.000000e+00  0.000000e+00    0.000000e+00  \n",
       "25%      0.000000e+00    0.000000e+00  0.000000e+00    0.000000e+00  \n",
       "50%      1.327057e+05    2.146614e+05  0.000000e+00    0.000000e+00  \n",
       "75%      9.430367e+05    1.111909e+06  0.000000e+00    0.000000e+00  \n",
       "max      3.560159e+08    3.561793e+08  1.000000e+00    1.000000e+00  "
      ]
     },
     "execution_count": 6,
     "metadata": {},
     "output_type": "execute_result"
    }
   ],
   "source": [
    "df.describe()"
   ]
  },
  {
   "cell_type": "code",
   "execution_count": 7,
   "id": "5ee96abe",
   "metadata": {},
   "outputs": [
    {
     "data": {
      "text/plain": [
       "step              0\n",
       "type              0\n",
       "amount            0\n",
       "nameOrig          0\n",
       "oldbalanceOrg     0\n",
       "newbalanceOrig    0\n",
       "nameDest          0\n",
       "oldbalanceDest    0\n",
       "newbalanceDest    0\n",
       "isFraud           0\n",
       "isFlaggedFraud    0\n",
       "dtype: int64"
      ]
     },
     "execution_count": 7,
     "metadata": {},
     "output_type": "execute_result"
    }
   ],
   "source": [
    "df.isnull().sum()  #there are none"
   ]
  },
  {
   "cell_type": "code",
   "execution_count": 8,
   "id": "870e7d20",
   "metadata": {},
   "outputs": [
    {
     "data": {
      "text/plain": [
       "nameOrig\n",
       "C1902386530    3\n",
       "C363736674     3\n",
       "C545315117     3\n",
       "C724452879     3\n",
       "C1784010646    3\n",
       "              ..\n",
       "C98968405      1\n",
       "C720209255     1\n",
       "C1567523029    1\n",
       "C644777639     1\n",
       "C1280323807    1\n",
       "Name: count, Length: 6353307, dtype: int64"
      ]
     },
     "execution_count": 8,
     "metadata": {},
     "output_type": "execute_result"
    }
   ],
   "source": [
    "df.nameOrig.value_counts()"
   ]
  },
  {
   "cell_type": "code",
   "execution_count": 9,
   "id": "e17a87e8",
   "metadata": {},
   "outputs": [
    {
     "data": {
      "text/plain": [
       "nameDest\n",
       "C1286084959    113\n",
       "C985934102     109\n",
       "C665576141     105\n",
       "C2083562754    102\n",
       "C248609774     101\n",
       "              ... \n",
       "M1470027725      1\n",
       "M1330329251      1\n",
       "M1784358659      1\n",
       "M2081431099      1\n",
       "C2080388513      1\n",
       "Name: count, Length: 2722362, dtype: int64"
      ]
     },
     "execution_count": 9,
     "metadata": {},
     "output_type": "execute_result"
    }
   ],
   "source": [
    "df.nameDest.value_counts()"
   ]
  },
  {
   "cell_type": "code",
   "execution_count": 10,
   "id": "8495a751",
   "metadata": {},
   "outputs": [
    {
     "data": {
      "text/plain": [
       "type\n",
       "CASH_OUT    2237500\n",
       "PAYMENT     2151495\n",
       "CASH_IN     1399284\n",
       "TRANSFER     532909\n",
       "DEBIT         41432\n",
       "Name: count, dtype: int64"
      ]
     },
     "execution_count": 10,
     "metadata": {},
     "output_type": "execute_result"
    }
   ],
   "source": [
    "df.type.value_counts()"
   ]
  },
  {
   "cell_type": "code",
   "execution_count": 11,
   "id": "02838128",
   "metadata": {},
   "outputs": [
    {
     "data": {
      "text/plain": [
       "isFraud\n",
       "0    6354407\n",
       "1       8213\n",
       "Name: count, dtype: int64"
      ]
     },
     "execution_count": 11,
     "metadata": {},
     "output_type": "execute_result"
    }
   ],
   "source": [
    "df.isFraud.value_counts()"
   ]
  },
  {
   "cell_type": "code",
   "execution_count": 12,
   "id": "551a3ddd",
   "metadata": {},
   "outputs": [
    {
     "data": {
      "text/plain": [
       "isFlaggedFraud\n",
       "0    6362604\n",
       "1         16\n",
       "Name: count, dtype: int64"
      ]
     },
     "execution_count": 12,
     "metadata": {},
     "output_type": "execute_result"
    }
   ],
   "source": [
    "df.isFlaggedFraud.value_counts()"
   ]
  },
  {
   "cell_type": "code",
   "execution_count": 13,
   "id": "d3877de4",
   "metadata": {},
   "outputs": [],
   "source": [
    "# 8213 frauds out of which only 16 were flagged\n"
   ]
  },
  {
   "cell_type": "code",
   "execution_count": 14,
   "id": "83c85901",
   "metadata": {},
   "outputs": [],
   "source": [
    "#FEATURE EXTRACTION"
   ]
  },
  {
   "cell_type": "code",
   "execution_count": 15,
   "id": "a6d6f4c3",
   "metadata": {},
   "outputs": [],
   "source": [
    "#feature indicating balance changes\n",
    "\n",
    "\n",
    "df['balance_change_org'] = df['newbalanceOrig'] - df['oldbalanceOrg']\n",
    "df['balance_change_dest'] = df['newbalanceDest'] - df['oldbalanceDest']\n"
   ]
  },
  {
   "cell_type": "code",
   "execution_count": 16,
   "id": "5ed2fbda",
   "metadata": {},
   "outputs": [
    {
     "name": "stdout",
     "output_type": "stream",
     "text": [
      "   step      type    amount  balance_change_org  balance_change_dest  isFraud\n",
      "0     1   PAYMENT   9839.64            -9839.64                  0.0        0\n",
      "1     1   PAYMENT   1864.28            -1864.28                  0.0        0\n",
      "2     1  TRANSFER    181.00             -181.00                  0.0        1\n",
      "3     1  CASH_OUT    181.00             -181.00             -21182.0        1\n",
      "4     1   PAYMENT  11668.14           -11668.14                  0.0        0\n"
     ]
    }
   ],
   "source": [
    "print(df[['step', 'type', 'amount', 'balance_change_org', 'balance_change_dest','isFraud']].head())"
   ]
  },
  {
   "cell_type": "code",
   "execution_count": 17,
   "id": "f204fcdc",
   "metadata": {},
   "outputs": [],
   "source": [
    "#relative balance changes.\n",
    "\n",
    "df['rel_balance_change_org'] = df['balance_change_org'] / df['oldbalanceOrg']\n",
    "df['rel_balance_change_dest'] = df['balance_change_dest'] / df['oldbalanceDest']\n"
   ]
  },
  {
   "cell_type": "code",
   "execution_count": 18,
   "id": "7f37339e",
   "metadata": {},
   "outputs": [
    {
     "name": "stdout",
     "output_type": "stream",
     "text": [
      "   step      type    amount  rel_balance_change_org  rel_balance_change_dest  \\\n",
      "0     1   PAYMENT   9839.64               -0.057834                      NaN   \n",
      "1     1   PAYMENT   1864.28               -0.087735                      NaN   \n",
      "2     1  TRANSFER    181.00               -1.000000                      NaN   \n",
      "3     1  CASH_OUT    181.00               -1.000000                     -1.0   \n",
      "4     1   PAYMENT  11668.14               -0.280795                      NaN   \n",
      "\n",
      "   isFraud  \n",
      "0        0  \n",
      "1        0  \n",
      "2        1  \n",
      "3        1  \n",
      "4        0  \n"
     ]
    }
   ],
   "source": [
    "print(df[['step', 'type', 'amount', 'rel_balance_change_org', 'rel_balance_change_dest','isFraud']].head())"
   ]
  },
  {
   "cell_type": "code",
   "execution_count": null,
   "id": "9aedc0d9",
   "metadata": {},
   "outputs": [],
   "source": []
  },
  {
   "cell_type": "code",
   "execution_count": 19,
   "id": "c24c7bc7",
   "metadata": {},
   "outputs": [],
   "source": [
    "####EDA"
   ]
  },
  {
   "cell_type": "code",
   "execution_count": 20,
   "id": "c3220c90",
   "metadata": {},
   "outputs": [],
   "source": [
    "import matplotlib.pyplot as plt\n"
   ]
  },
  {
   "cell_type": "code",
   "execution_count": 21,
   "id": "c50c9b81",
   "metadata": {},
   "outputs": [
    {
     "data": {
      "image/png": "[encoded data removed]",
      "text/plain": [
       "<Figure size 864x432 with 1 Axes>"
      ]
     },
     "metadata": {
      "needs_background": "light"
     },
     "output_type": "display_data"
    }
   ],
   "source": [
    "plt.xlabel('step')\n",
    "df['step'].plot(kind='hist', bins=5, figsize=(12,6), facecolor='pink',edgecolor='black')\n",
    "plt.show()"
   ]
  },
  {
   "cell_type": "code",
   "execution_count": 22,
   "id": "bcae6f09",
   "metadata": {},
   "outputs": [
    {
     "data": {
      "image/png": "[encoded data removed]",
      "text/plain": [
       "<Figure size 864x432 with 1 Axes>"
      ]
     },
     "metadata": {
      "needs_background": "light"
     },
     "output_type": "display_data"
    }
   ],
   "source": [
    "\n",
    "plt.xlabel('amount')\n",
    "df['amount'].plot(kind='hist', bins=5, figsize=(12,6), facecolor='pink',edgecolor='black')\n",
    "plt.show()"
   ]
  },
  {
   "cell_type": "code",
   "execution_count": 23,
   "id": "9fea334d",
   "metadata": {},
   "outputs": [
    {
     "data": {
      "image/png": "[encoded data removed]",
      "text/plain": [
       "<Figure size 864x432 with 1 Axes>"
      ]
     },
     "metadata": {
      "needs_background": "light"
     },
     "output_type": "display_data"
    }
   ],
   "source": [
    "\n",
    "plt.xlabel('oldbalanceOrg')\n",
    "df['oldbalanceOrg'].plot(kind='hist', bins=5, figsize=(12,6), facecolor='pink',edgecolor='black')\n",
    "plt.show()"
   ]
  },
  {
   "cell_type": "code",
   "execution_count": 24,
   "id": "b06ca99b",
   "metadata": {},
   "outputs": [
    {
     "data": {
      "image/png": "[encoded data removed]",
      "text/plain": [
       "<Figure size 864x432 with 1 Axes>"
      ]
     },
     "metadata": {
      "needs_background": "light"
     },
     "output_type": "display_data"
    }
   ],
   "source": [
    "plt.xlabel('newbalanceOrig')\n",
    "df['newbalanceOrig'].plot(kind='hist', bins=5, figsize=(12,6), facecolor='pink',edgecolor='black')\n",
    "plt.show()"
   ]
  },
  {
   "cell_type": "code",
   "execution_count": 25,
   "id": "3e111fcf",
   "metadata": {},
   "outputs": [
    {
     "data": {
      "image/png": "[encoded data removed]",
      "text/plain": [
       "<Figure size 864x432 with 1 Axes>"
      ]
     },
     "metadata": {
      "needs_background": "light"
     },
     "output_type": "display_data"
    }
   ],
   "source": [
    "plt.xlabel('newbalanceDest')\n",
    "df['newbalanceDest'].plot(kind='hist', bins=5, figsize=(12,6), facecolor='pink',edgecolor='black')\n",
    "plt.show()"
   ]
  },
  {
   "cell_type": "code",
   "execution_count": 26,
   "id": "ee5cee64",
   "metadata": {},
   "outputs": [
    {
     "data": {
      "image/png": "[encoded data removed]",
      "text/plain": [
       "<Figure size 864x432 with 1 Axes>"
      ]
     },
     "metadata": {
      "needs_background": "light"
     },
     "output_type": "display_data"
    }
   ],
   "source": [
    "plt.xlabel('oldbalanceDest')\n",
    "df['oldbalanceDest'].plot(kind='hist', bins=5, figsize=(12,6), facecolor='pink',edgecolor='black')\n",
    "plt.show()"
   ]
  },
  {
   "cell_type": "code",
   "execution_count": 27,
   "id": "4875e107",
   "metadata": {},
   "outputs": [],
   "source": [
    "##OUTLIERS"
   ]
  },
  {
   "cell_type": "code",
   "execution_count": 28,
   "id": "299fa8df",
   "metadata": {},
   "outputs": [
    {
     "data": {
      "image/png": "[encoded data removed]",
      "text/plain": [
       "<Figure size 432x288 with 1 Axes>"
      ]
     },
     "metadata": {
      "needs_background": "light"
     },
     "output_type": "display_data"
    }
   ],
   "source": [
    "sb.boxplot(df.oldbalanceOrg)\n",
    "plt.show()\n"
   ]
  },
  {
   "cell_type": "code",
   "execution_count": 29,
   "id": "6c5cd411",
   "metadata": {},
   "outputs": [
    {
     "name": "stdout",
     "output_type": "stream",
     "text": [
      "<class 'pandas.core.frame.DataFrame'>\n",
      "RangeIndex: 6362620 entries, 0 to 6362619\n",
      "Data columns (total 15 columns):\n",
      " #   Column                   Dtype  \n",
      "---  ------                   -----  \n",
      " 0   step                     int64  \n",
      " 1   type                     object \n",
      " 2   amount                   float64\n",
      " 3   nameOrig                 object \n",
      " 4   oldbalanceOrg            float64\n",
      " 5   newbalanceOrig           float64\n",
      " 6   nameDest                 object \n",
      " 7   oldbalanceDest           float64\n",
      " 8   newbalanceDest           float64\n",
      " 9   isFraud                  int64  \n",
      " 10  isFlaggedFraud           int64  \n",
      " 11  balance_change_org       float64\n",
      " 12  balance_change_dest      float64\n",
      " 13  rel_balance_change_org   float64\n",
      " 14  rel_balance_change_dest  float64\n",
      "dtypes: float64(9), int64(3), object(3)\n",
      "memory usage: 728.1+ MB\n"
     ]
    }
   ],
   "source": [
    "df.info()\n"
   ]
  },
  {
   "cell_type": "code",
   "execution_count": 30,
   "id": "0161ec46",
   "metadata": {},
   "outputs": [
    {
     "data": {
      "image/png": "[encoded data removed]",
      "text/plain": [
       "<Figure size 432x288 with 1 Axes>"
      ]
     },
     "metadata": {
      "needs_background": "light"
     },
     "output_type": "display_data"
    }
   ],
   "source": [
    "\n",
    "sb.boxplot(df['newbalanceDest'])\n",
    "plt.show()"
   ]
  },
  {
   "cell_type": "code",
   "execution_count": 31,
   "id": "4cb0a5c5",
   "metadata": {},
   "outputs": [
    {
     "data": {
      "image/png": "[encoded data removed]",
      "text/plain": [
       "<Figure size 432x288 with 1 Axes>"
      ]
     },
     "metadata": {
      "needs_background": "light"
     },
     "output_type": "display_data"
    }
   ],
   "source": [
    "plt.scatter(df.oldbalanceOrg, df.newbalanceDest)\n",
    "plt.show()"
   ]
  },
  {
   "cell_type": "code",
   "execution_count": 32,
   "id": "967ed9c4",
   "metadata": {},
   "outputs": [],
   "source": [
    "\n",
    "#Now we'll remove the outlier (skewness -measure of asymmetry)\n",
    "#jitni 0 ke paas utni better hai#The interquartile range (IQR) is a measure of statistical dispersion, specifically a measure of variability in a dataset\n",
    "Q1 = np.percentile(df['amount'], 25,\n",
    "                   interpolation = 'midpoint')\n",
    " \n",
    "Q3 = np.percentile(df['amount'], 75,\n",
    "                   interpolation = 'midpoint')\n",
    "IQR = Q3 - Q1"
   ]
  },
  {
   "cell_type": "code",
   "execution_count": 33,
   "id": "2683ec67",
   "metadata": {},
   "outputs": [
    {
     "data": {
      "text/plain": [
       "195331.935"
      ]
     },
     "execution_count": 33,
     "metadata": {},
     "output_type": "execute_result"
    }
   ],
   "source": [
    "IQR"
   ]
  },
  {
   "cell_type": "code",
   "execution_count": 34,
   "id": "3c9010e0",
   "metadata": {},
   "outputs": [],
   "source": [
    "upper = Q3 +1.5*IQR\n",
    "lower = Q1 - 1.5*IQR"
   ]
  },
  {
   "cell_type": "code",
   "execution_count": 35,
   "id": "3ec7014c",
   "metadata": {},
   "outputs": [],
   "source": [
    "upper = np.where(df['amount'] >= (Q3+1.5*IQR))\n",
    "lower = np.where(df['amount'] <= (Q1-1.5*IQR))"
   ]
  },
  {
   "cell_type": "code",
   "execution_count": 36,
   "id": "e7385a52",
   "metadata": {},
   "outputs": [],
   "source": [
    "df.drop(upper[0], inplace = True)\n",
    "df.drop(lower[0], inplace = True)"
   ]
  },
  {
   "cell_type": "code",
   "execution_count": 37,
   "id": "be225f13",
   "metadata": {},
   "outputs": [
    {
     "data": {
      "text/plain": [
       "0            1\n",
       "1            1\n",
       "2            1\n",
       "3            1\n",
       "4            1\n",
       "          ... \n",
       "6362609    742\n",
       "6362610    742\n",
       "6362611    742\n",
       "6362614    743\n",
       "6362615    743\n",
       "Name: step, Length: 6024543, dtype: int64"
      ]
     },
     "execution_count": 37,
     "metadata": {},
     "output_type": "execute_result"
    }
   ],
   "source": [
    "df.step"
   ]
  },
  {
   "cell_type": "code",
   "execution_count": 38,
   "id": "7c747ba4",
   "metadata": {},
   "outputs": [
    {
     "data": {
      "image/png": "[encoded data removed]",
      "text/plain": [
       "<Figure size 864x432 with 1 Axes>"
      ]
     },
     "metadata": {
      "needs_background": "light"
     },
     "output_type": "display_data"
    }
   ],
   "source": [
    "plt.xlabel('step')\n",
    "df['step'].plot(kind='hist', bins=5, figsize=(12,6), facecolor='pink',edgecolor='black')\n",
    "plt.show()"
   ]
  },
  {
   "cell_type": "code",
   "execution_count": 39,
   "id": "0a9fe878",
   "metadata": {},
   "outputs": [
    {
     "data": {
      "image/png": "[encoded data removed]",
      "text/plain": [
       "<Figure size 864x432 with 1 Axes>"
      ]
     },
     "metadata": {
      "needs_background": "light"
     },
     "output_type": "display_data"
    }
   ],
   "source": [
    "plt.xlabel('amount')\n",
    "df['amount'].plot(kind='hist', bins=5, figsize=(12,6), facecolor='pink',edgecolor='black')\n",
    "plt.show()"
   ]
  },
  {
   "cell_type": "code",
   "execution_count": 40,
   "id": "a4cb28ea",
   "metadata": {},
   "outputs": [
    {
     "data": {
      "image/png": "[encoded data removed]",
      "text/plain": [
       "<Figure size 864x432 with 1 Axes>"
      ]
     },
     "metadata": {
      "needs_background": "light"
     },
     "output_type": "display_data"
    }
   ],
   "source": [
    "plt.xlabel('amount')\n",
    "df['amount'].plot(kind='hist', bins=5, figsize=(12,6), facecolor='pink',edgecolor='black')\n",
    "plt.show()"
   ]
  },
  {
   "cell_type": "code",
   "execution_count": 41,
   "id": "6cf86599",
   "metadata": {},
   "outputs": [
    {
     "data": {
      "image/png": "[encoded data removed]",
      "text/plain": [
       "<Figure size 864x432 with 1 Axes>"
      ]
     },
     "metadata": {
      "needs_background": "light"
     },
     "output_type": "display_data"
    }
   ],
   "source": [
    "plt.xlabel('newbalanceOrig')\n",
    "df['newbalanceOrig'].plot(kind='hist', bins=5, figsize=(12,6), facecolor='pink',edgecolor='black')\n",
    "plt.show()"
   ]
  },
  {
   "cell_type": "code",
   "execution_count": 42,
   "id": "179ede73",
   "metadata": {},
   "outputs": [
    {
     "data": {
      "image/png": "[encoded data removed]",
      "text/plain": [
       "<Figure size 864x432 with 1 Axes>"
      ]
     },
     "metadata": {
      "needs_background": "light"
     },
     "output_type": "display_data"
    }
   ],
   "source": [
    "plt.xlabel('newbalanceDest')\n",
    "df['newbalanceDest'].plot(kind='hist', bins=5, figsize=(12,6), facecolor='pink',edgecolor='black')\n",
    "plt.show()"
   ]
  },
  {
   "cell_type": "code",
   "execution_count": 43,
   "id": "e1b9766a",
   "metadata": {},
   "outputs": [
    {
     "data": {
      "image/png": "[encoded data removed]",
      "text/plain": [
       "<Figure size 864x432 with 1 Axes>"
      ]
     },
     "metadata": {
      "needs_background": "light"
     },
     "output_type": "display_data"
    }
   ],
   "source": [
    "plt.xlabel('oldbalanceDest')\n",
    "df['oldbalanceDest'].plot(kind='hist', bins=5, figsize=(12,6), facecolor='pink',edgecolor='black')\n",
    "plt.show()"
   ]
  },
  {
   "cell_type": "code",
   "execution_count": 44,
   "id": "11669d28",
   "metadata": {},
   "outputs": [
    {
     "data": {
      "text/plain": [
       "0           PAYMENT\n",
       "1           PAYMENT\n",
       "2          TRANSFER\n",
       "3          CASH_OUT\n",
       "4           PAYMENT\n",
       "             ...   \n",
       "6362609    CASH_OUT\n",
       "6362610    TRANSFER\n",
       "6362611    CASH_OUT\n",
       "6362614    TRANSFER\n",
       "6362615    CASH_OUT\n",
       "Name: type, Length: 6024543, dtype: object"
      ]
     },
     "execution_count": 44,
     "metadata": {},
     "output_type": "execute_result"
    }
   ],
   "source": [
    "###TYPE\n",
    "df.type\n"
   ]
  },
  {
   "cell_type": "code",
   "execution_count": 45,
   "id": "d2d6fe68",
   "metadata": {},
   "outputs": [
    {
     "data": {
      "text/plain": [
       "array(['PAYMENT', 'TRANSFER', 'CASH_OUT', 'DEBIT', 'CASH_IN'],\n",
       "      dtype=object)"
      ]
     },
     "execution_count": 45,
     "metadata": {},
     "output_type": "execute_result"
    }
   ],
   "source": [
    "df.type.unique()"
   ]
  },
  {
   "cell_type": "code",
   "execution_count": 46,
   "id": "344668d9",
   "metadata": {},
   "outputs": [
    {
     "data": {
      "text/plain": [
       "type\n",
       "CASH_OUT    2185250\n",
       "PAYMENT     2151495\n",
       "CASH_IN     1373826\n",
       "TRANSFER     272542\n",
       "DEBIT         41430\n",
       "Name: count, dtype: int64"
      ]
     },
     "execution_count": 46,
     "metadata": {},
     "output_type": "execute_result"
    }
   ],
   "source": [
    "payment = df.type.value_counts()\n",
    "payment"
   ]
  },
  {
   "cell_type": "code",
   "execution_count": 47,
   "id": "ff1afaa3",
   "metadata": {},
   "outputs": [
    {
     "data": {
      "text/plain": [
       "<AxesSubplot:xlabel='type'>"
      ]
     },
     "execution_count": 47,
     "metadata": {},
     "output_type": "execute_result"
    },
    {
     "data": {
      "image/png": "[encoded data removed]",
      "text/plain": [
       "<Figure size 432x288 with 1 Axes>"
      ]
     },
     "metadata": {
      "needs_background": "light"
     },
     "output_type": "display_data"
    }
   ],
   "source": [
    "payment.plot(kind='bar',facecolor='yellow',edgecolor='black')"
   ]
  },
  {
   "cell_type": "code",
   "execution_count": 53,
   "id": "045159ac",
   "metadata": {},
   "outputs": [
    {
     "data": {
      "text/plain": [
       "<AxesSubplot:xlabel='type', ylabel='count'>"
      ]
     },
     "execution_count": 53,
     "metadata": {},
     "output_type": "execute_result"
    },
    {
     "data": {
      "image/png": "[encoded data removed]",
      "text/plain": [
       "<Figure size 432x288 with 1 Axes>"
      ]
     },
     "metadata": {
      "needs_background": "light"
     },
     "output_type": "display_data"
    }
   ],
   "source": [
    "import seaborn as sns\n",
    "sns.countplot(x='type', data=df)"
   ]
  },
  {
   "cell_type": "code",
   "execution_count": 54,
   "id": "36ca87f9",
   "metadata": {},
   "outputs": [
    {
     "data": {
      "text/html": [
       "<div>\n",
       "<style scoped>\n",
       "    .dataframe tbody tr th:only-of-type {\n",
       "        vertical-align: middle;\n",
       "    }\n",
       "\n",
       "    .dataframe tbody tr th {\n",
       "        vertical-align: top;\n",
       "    }\n",
       "\n",
       "    .dataframe thead th {\n",
       "        text-align: right;\n",
       "    }\n",
       "</style>\n",
       "<table border=\"1\" class=\"dataframe\">\n",
       "  <thead>\n",
       "    <tr style=\"text-align: right;\">\n",
       "      <th>isFraud</th>\n",
       "      <th>0</th>\n",
       "      <th>1</th>\n",
       "    </tr>\n",
       "    <tr>\n",
       "      <th>type</th>\n",
       "      <th></th>\n",
       "      <th></th>\n",
       "    </tr>\n",
       "  </thead>\n",
       "  <tbody>\n",
       "    <tr>\n",
       "      <th>CASH_IN</th>\n",
       "      <td>1373826</td>\n",
       "      <td>0</td>\n",
       "    </tr>\n",
       "    <tr>\n",
       "      <th>CASH_OUT</th>\n",
       "      <td>2183053</td>\n",
       "      <td>2197</td>\n",
       "    </tr>\n",
       "    <tr>\n",
       "      <th>DEBIT</th>\n",
       "      <td>41430</td>\n",
       "      <td>0</td>\n",
       "    </tr>\n",
       "    <tr>\n",
       "      <th>PAYMENT</th>\n",
       "      <td>2151495</td>\n",
       "      <td>0</td>\n",
       "    </tr>\n",
       "    <tr>\n",
       "      <th>TRANSFER</th>\n",
       "      <td>270380</td>\n",
       "      <td>2162</td>\n",
       "    </tr>\n",
       "  </tbody>\n",
       "</table>\n",
       "</div>"
      ],
      "text/plain": [
       "isFraud         0     1\n",
       "type                   \n",
       "CASH_IN   1373826     0\n",
       "CASH_OUT  2183053  2197\n",
       "DEBIT       41430     0\n",
       "PAYMENT   2151495     0\n",
       "TRANSFER   270380  2162"
      ]
     },
     "execution_count": 54,
     "metadata": {},
     "output_type": "execute_result"
    }
   ],
   "source": [
    "CrosstabResult=pd.crosstab(index=df.type,columns=df.isFraud)\n",
    "CrosstabResult"
   ]
  },
  {
   "cell_type": "code",
   "execution_count": 55,
   "id": "bb94760e",
   "metadata": {},
   "outputs": [],
   "source": [
    "#Calculating fraud percentage in cash_out and transfer"
   ]
  },
  {
   "cell_type": "code",
   "execution_count": 56,
   "id": "2ddda7ab",
   "metadata": {},
   "outputs": [
    {
     "data": {
      "text/plain": [
       "0.1005376959157991"
      ]
     },
     "execution_count": 56,
     "metadata": {},
     "output_type": "execute_result"
    }
   ],
   "source": [
    "cashout=2183053+2197\n",
    "cashout_fraud= 2197/(cashout) * 100\n",
    "cashout_fraud\n",
    "#0.10 % denotes the percentage of fraud happened in total cashout mode type, which is less%"
   ]
  },
  {
   "cell_type": "code",
   "execution_count": 57,
   "id": "921885ef",
   "metadata": {},
   "outputs": [
    {
     "data": {
      "text/plain": [
       "0.7932722296013093"
      ]
     },
     "execution_count": 57,
     "metadata": {},
     "output_type": "execute_result"
    }
   ],
   "source": [
    "transfer= 270380+2162\n",
    "transfer_fraud = 2162/(transfer) * 100\n",
    "transfer_fraud\n",
    "\n",
    "#0.79 % denotes the percentage of fraud happened in total tranfer mode type, which is  less%"
   ]
  },
  {
   "cell_type": "code",
   "execution_count": 58,
   "id": "ecd732cc",
   "metadata": {},
   "outputs": [],
   "source": [
    "###amount"
   ]
  },
  {
   "cell_type": "code",
   "execution_count": 59,
   "id": "0c5f3a42",
   "metadata": {},
   "outputs": [
    {
     "data": {
      "text/plain": [
       "0            9839.64\n",
       "1            1864.28\n",
       "2             181.00\n",
       "3             181.00\n",
       "4           11668.14\n",
       "             ...    \n",
       "6362609    258355.42\n",
       "6362610     63416.99\n",
       "6362611     63416.99\n",
       "6362614    339682.13\n",
       "6362615    339682.13\n",
       "Name: amount, Length: 6024543, dtype: float64"
      ]
     },
     "execution_count": 59,
     "metadata": {},
     "output_type": "execute_result"
    }
   ],
   "source": [
    "df.amount"
   ]
  },
  {
   "cell_type": "code",
   "execution_count": 60,
   "id": "b5931537",
   "metadata": {},
   "outputs": [
    {
     "data": {
      "text/plain": [
       "<AxesSubplot:ylabel='amount'>"
      ]
     },
     "execution_count": 60,
     "metadata": {},
     "output_type": "execute_result"
    },
    {
     "data": {
      "image/png": "[encoded data removed]",
      "text/plain": [
       "<Figure size 720x720 with 1 Axes>"
      ]
     },
     "metadata": {
      "needs_background": "light"
     },
     "output_type": "display_data"
    }
   ],
   "source": [
    "import seaborn as sns\n",
    "plt.figure(figsize=(10,10))\n",
    "sns.stripplot(y=df.amount)\n"
   ]
  },
  {
   "cell_type": "code",
   "execution_count": 61,
   "id": "49ac34f1",
   "metadata": {},
   "outputs": [
    {
     "name": "stdout",
     "output_type": "stream",
     "text": [
      "Minimum:  0.0\n",
      "Maximum:  501719.38\n"
     ]
    }
   ],
   "source": [
    "print('Minimum: ',df.amount.min())\n",
    "print('Maximum: ',df.amount.max())"
   ]
  },
  {
   "cell_type": "code",
   "execution_count": 62,
   "id": "72da2901",
   "metadata": {},
   "outputs": [
    {
     "data": {
      "text/plain": [
       "<AxesSubplot:title={'center':'amount'}, xlabel='isFraud'>"
      ]
     },
     "execution_count": 62,
     "metadata": {},
     "output_type": "execute_result"
    },
    {
     "data": {
      "image/png": "[encoded data removed]",
      "text/plain": [
       "<Figure size 432x288 with 1 Axes>"
      ]
     },
     "metadata": {
      "needs_background": "light"
     },
     "output_type": "display_data"
    }
   ],
   "source": [
    "df.boxplot(column='amount', by='isFraud')"
   ]
  },
  {
   "cell_type": "code",
   "execution_count": 63,
   "id": "6b61215a",
   "metadata": {},
   "outputs": [],
   "source": [
    "###isFlaggedFraud"
   ]
  },
  {
   "cell_type": "code",
   "execution_count": 64,
   "id": "c6e80db5",
   "metadata": {},
   "outputs": [
    {
     "data": {
      "text/plain": [
       "isFlaggedFraud\n",
       "0    6024541\n",
       "1          2\n",
       "Name: count, dtype: int64"
      ]
     },
     "execution_count": 64,
     "metadata": {},
     "output_type": "execute_result"
    }
   ],
   "source": [
    "df.isFlaggedFraud.value_counts()"
   ]
  },
  {
   "cell_type": "code",
   "execution_count": 65,
   "id": "f4c25a1c",
   "metadata": {},
   "outputs": [
    {
     "data": {
      "text/html": [
       "<div>\n",
       "<style scoped>\n",
       "    .dataframe tbody tr th:only-of-type {\n",
       "        vertical-align: middle;\n",
       "    }\n",
       "\n",
       "    .dataframe tbody tr th {\n",
       "        vertical-align: top;\n",
       "    }\n",
       "\n",
       "    .dataframe thead th {\n",
       "        text-align: right;\n",
       "    }\n",
       "</style>\n",
       "<table border=\"1\" class=\"dataframe\">\n",
       "  <thead>\n",
       "    <tr style=\"text-align: right;\">\n",
       "      <th></th>\n",
       "      <th>step</th>\n",
       "      <th>type</th>\n",
       "      <th>amount</th>\n",
       "      <th>nameOrig</th>\n",
       "      <th>oldbalanceOrg</th>\n",
       "      <th>newbalanceOrig</th>\n",
       "      <th>nameDest</th>\n",
       "      <th>oldbalanceDest</th>\n",
       "      <th>newbalanceDest</th>\n",
       "      <th>isFraud</th>\n",
       "      <th>isFlaggedFraud</th>\n",
       "      <th>balance_change_org</th>\n",
       "      <th>balance_change_dest</th>\n",
       "      <th>rel_balance_change_org</th>\n",
       "      <th>rel_balance_change_dest</th>\n",
       "    </tr>\n",
       "  </thead>\n",
       "  <tbody>\n",
       "    <tr>\n",
       "      <th>6205439</th>\n",
       "      <td>586</td>\n",
       "      <td>TRANSFER</td>\n",
       "      <td>353874.22</td>\n",
       "      <td>C1684585475</td>\n",
       "      <td>353874.22</td>\n",
       "      <td>353874.22</td>\n",
       "      <td>C1770418982</td>\n",
       "      <td>0.0</td>\n",
       "      <td>0.0</td>\n",
       "      <td>1</td>\n",
       "      <td>1</td>\n",
       "      <td>0.0</td>\n",
       "      <td>0.0</td>\n",
       "      <td>0.0</td>\n",
       "      <td>NaN</td>\n",
       "    </tr>\n",
       "    <tr>\n",
       "      <th>6281484</th>\n",
       "      <td>646</td>\n",
       "      <td>TRANSFER</td>\n",
       "      <td>399045.08</td>\n",
       "      <td>C724693370</td>\n",
       "      <td>10399045.08</td>\n",
       "      <td>10399045.08</td>\n",
       "      <td>C1909486199</td>\n",
       "      <td>0.0</td>\n",
       "      <td>0.0</td>\n",
       "      <td>1</td>\n",
       "      <td>1</td>\n",
       "      <td>0.0</td>\n",
       "      <td>0.0</td>\n",
       "      <td>0.0</td>\n",
       "      <td>NaN</td>\n",
       "    </tr>\n",
       "  </tbody>\n",
       "</table>\n",
       "</div>"
      ],
      "text/plain": [
       "         step      type     amount     nameOrig  oldbalanceOrg  \\\n",
       "6205439   586  TRANSFER  353874.22  C1684585475      353874.22   \n",
       "6281484   646  TRANSFER  399045.08   C724693370    10399045.08   \n",
       "\n",
       "         newbalanceOrig     nameDest  oldbalanceDest  newbalanceDest  isFraud  \\\n",
       "6205439       353874.22  C1770418982             0.0             0.0        1   \n",
       "6281484     10399045.08  C1909486199             0.0             0.0        1   \n",
       "\n",
       "         isFlaggedFraud  balance_change_org  balance_change_dest  \\\n",
       "6205439               1                 0.0                  0.0   \n",
       "6281484               1                 0.0                  0.0   \n",
       "\n",
       "         rel_balance_change_org  rel_balance_change_dest  \n",
       "6205439                     0.0                      NaN  \n",
       "6281484                     0.0                      NaN  "
      ]
     },
     "execution_count": 65,
     "metadata": {},
     "output_type": "execute_result"
    }
   ],
   "source": [
    "flagged_fraud_records = df[(df.isFraud==1) & (df.isFlaggedFraud==1)]\n",
    "flagged_fraud_records"
   ]
  },
  {
   "cell_type": "code",
   "execution_count": 66,
   "id": "f6824655",
   "metadata": {},
   "outputs": [
    {
     "data": {
      "text/plain": [
       "(2, 15)"
      ]
     },
     "execution_count": 66,
     "metadata": {},
     "output_type": "execute_result"
    }
   ],
   "source": [
    "flagged_fraud_records.shape"
   ]
  },
  {
   "cell_type": "code",
   "execution_count": 67,
   "id": "207a876a",
   "metadata": {},
   "outputs": [
    {
     "data": {
      "text/plain": [
       "4359"
      ]
     },
     "execution_count": 67,
     "metadata": {},
     "output_type": "execute_result"
    }
   ],
   "source": [
    "total_fraud= df[df.isFraud ==1]\n",
    "total_fraud = total_fraud.shape[0]\n",
    "total_fraud\n"
   ]
  },
  {
   "cell_type": "code",
   "execution_count": 68,
   "id": "6e91426f",
   "metadata": {},
   "outputs": [
    {
     "data": {
      "text/plain": [
       "2"
      ]
     },
     "execution_count": 68,
     "metadata": {},
     "output_type": "execute_result"
    }
   ],
   "source": [
    "total_isflaggedFraud= flagged_fraud_records.shape[0]\n",
    "total_isflaggedFraud"
   ]
  },
  {
   "cell_type": "code",
   "execution_count": 69,
   "id": "679568b9",
   "metadata": {},
   "outputs": [
    {
     "name": "stdout",
     "output_type": "stream",
     "text": [
      "Percentage of flagged fraud:  0.046\n",
      "Percentage of incorrectly flagged fraud:  99.954\n"
     ]
    }
   ],
   "source": [
    "flagged_percent = total_isflaggedFraud/total_fraud * 100\n",
    "print('Percentage of flagged fraud: ',round(flagged_percent,3))\n",
    "\n",
    "unflagged_percent= (total_fraud-total_isflaggedFraud)/total_fraud * 100\n",
    "print('Percentage of incorrectly flagged fraud: ',round(unflagged_percent,3))"
   ]
  },
  {
   "cell_type": "code",
   "execution_count": 70,
   "id": "fc638fcc",
   "metadata": {},
   "outputs": [],
   "source": [
    "##isFraud"
   ]
  },
  {
   "cell_type": "code",
   "execution_count": 71,
   "id": "fdeb3996",
   "metadata": {},
   "outputs": [
    {
     "data": {
      "text/plain": [
       "0.07235403581649263"
      ]
     },
     "execution_count": 71,
     "metadata": {},
     "output_type": "execute_result"
    }
   ],
   "source": [
    "total_transactions = df.shape[0]\n",
    "\n",
    "fraud_transaction = df[df.isFraud==1].shape[0]\n",
    "\n",
    "fraud_percent= fraud_transaction/total_transactions * 100\n",
    "fraud_percent"
   ]
  },
  {
   "cell_type": "code",
   "execution_count": 72,
   "id": "9434f349",
   "metadata": {},
   "outputs": [
    {
     "name": "stdout",
     "output_type": "stream",
     "text": [
      "Total transactions:  6024543\n",
      "Total fraud transactions happened:  4359\n",
      "Total fraud transaction percent:  0.07\n"
     ]
    }
   ],
   "source": [
    "print('Total transactions: ',total_transactions)\n",
    "print('Total fraud transactions happened: ',fraud_transaction)\n",
    "print(\"Total fraud transaction percent: \",round(fraud_percent,2))"
   ]
  },
  {
   "cell_type": "code",
   "execution_count": 73,
   "id": "f220cdcc",
   "metadata": {},
   "outputs": [
    {
     "data": {
      "text/html": [
       "<div>\n",
       "<style scoped>\n",
       "    .dataframe tbody tr th:only-of-type {\n",
       "        vertical-align: middle;\n",
       "    }\n",
       "\n",
       "    .dataframe tbody tr th {\n",
       "        vertical-align: top;\n",
       "    }\n",
       "\n",
       "    .dataframe thead th {\n",
       "        text-align: right;\n",
       "    }\n",
       "</style>\n",
       "<table border=\"1\" class=\"dataframe\">\n",
       "  <thead>\n",
       "    <tr style=\"text-align: right;\">\n",
       "      <th></th>\n",
       "      <th>step</th>\n",
       "      <th>type</th>\n",
       "      <th>amount</th>\n",
       "      <th>nameOrig</th>\n",
       "      <th>oldbalanceOrg</th>\n",
       "      <th>newbalanceOrig</th>\n",
       "      <th>nameDest</th>\n",
       "      <th>oldbalanceDest</th>\n",
       "      <th>newbalanceDest</th>\n",
       "      <th>isFraud</th>\n",
       "      <th>isFlaggedFraud</th>\n",
       "      <th>balance_change_org</th>\n",
       "      <th>balance_change_dest</th>\n",
       "      <th>rel_balance_change_org</th>\n",
       "      <th>rel_balance_change_dest</th>\n",
       "    </tr>\n",
       "  </thead>\n",
       "  <tbody>\n",
       "    <tr>\n",
       "      <th>1059647</th>\n",
       "      <td>111</td>\n",
       "      <td>CASH_OUT</td>\n",
       "      <td>501496.31</td>\n",
       "      <td>C279192006</td>\n",
       "      <td>501496.31</td>\n",
       "      <td>0.0</td>\n",
       "      <td>C2046472223</td>\n",
       "      <td>0.00</td>\n",
       "      <td>501496.31</td>\n",
       "      <td>1</td>\n",
       "      <td>0</td>\n",
       "      <td>-501496.31</td>\n",
       "      <td>501496.31</td>\n",
       "      <td>-1.0</td>\n",
       "      <td>inf</td>\n",
       "    </tr>\n",
       "    <tr>\n",
       "      <th>1059646</th>\n",
       "      <td>111</td>\n",
       "      <td>TRANSFER</td>\n",
       "      <td>501496.31</td>\n",
       "      <td>C1595104027</td>\n",
       "      <td>501496.31</td>\n",
       "      <td>0.0</td>\n",
       "      <td>C643646528</td>\n",
       "      <td>0.00</td>\n",
       "      <td>0.00</td>\n",
       "      <td>1</td>\n",
       "      <td>0</td>\n",
       "      <td>-501496.31</td>\n",
       "      <td>0.00</td>\n",
       "      <td>-1.0</td>\n",
       "      <td>NaN</td>\n",
       "    </tr>\n",
       "    <tr>\n",
       "      <th>6362385</th>\n",
       "      <td>724</td>\n",
       "      <td>CASH_OUT</td>\n",
       "      <td>501425.84</td>\n",
       "      <td>C1112202399</td>\n",
       "      <td>501425.84</td>\n",
       "      <td>0.0</td>\n",
       "      <td>C1546219364</td>\n",
       "      <td>0.00</td>\n",
       "      <td>501425.84</td>\n",
       "      <td>1</td>\n",
       "      <td>0</td>\n",
       "      <td>-501425.84</td>\n",
       "      <td>501425.84</td>\n",
       "      <td>-1.0</td>\n",
       "      <td>inf</td>\n",
       "    </tr>\n",
       "    <tr>\n",
       "      <th>6362384</th>\n",
       "      <td>724</td>\n",
       "      <td>TRANSFER</td>\n",
       "      <td>501425.84</td>\n",
       "      <td>C241686740</td>\n",
       "      <td>501425.84</td>\n",
       "      <td>0.0</td>\n",
       "      <td>C2071832199</td>\n",
       "      <td>0.00</td>\n",
       "      <td>0.00</td>\n",
       "      <td>1</td>\n",
       "      <td>0</td>\n",
       "      <td>-501425.84</td>\n",
       "      <td>0.00</td>\n",
       "      <td>-1.0</td>\n",
       "      <td>NaN</td>\n",
       "    </tr>\n",
       "    <tr>\n",
       "      <th>6117046</th>\n",
       "      <td>528</td>\n",
       "      <td>TRANSFER</td>\n",
       "      <td>501101.41</td>\n",
       "      <td>C1409061891</td>\n",
       "      <td>501101.41</td>\n",
       "      <td>0.0</td>\n",
       "      <td>C1663472922</td>\n",
       "      <td>0.00</td>\n",
       "      <td>0.00</td>\n",
       "      <td>1</td>\n",
       "      <td>0</td>\n",
       "      <td>-501101.41</td>\n",
       "      <td>0.00</td>\n",
       "      <td>-1.0</td>\n",
       "      <td>NaN</td>\n",
       "    </tr>\n",
       "    <tr>\n",
       "      <th>...</th>\n",
       "      <td>...</td>\n",
       "      <td>...</td>\n",
       "      <td>...</td>\n",
       "      <td>...</td>\n",
       "      <td>...</td>\n",
       "      <td>...</td>\n",
       "      <td>...</td>\n",
       "      <td>...</td>\n",
       "      <td>...</td>\n",
       "      <td>...</td>\n",
       "      <td>...</td>\n",
       "      <td>...</td>\n",
       "      <td>...</td>\n",
       "      <td>...</td>\n",
       "      <td>...</td>\n",
       "    </tr>\n",
       "    <tr>\n",
       "      <th>5563714</th>\n",
       "      <td>387</td>\n",
       "      <td>CASH_OUT</td>\n",
       "      <td>0.00</td>\n",
       "      <td>C1294472700</td>\n",
       "      <td>0.00</td>\n",
       "      <td>0.0</td>\n",
       "      <td>C1325541393</td>\n",
       "      <td>7970766.57</td>\n",
       "      <td>7970766.57</td>\n",
       "      <td>1</td>\n",
       "      <td>0</td>\n",
       "      <td>0.00</td>\n",
       "      <td>0.00</td>\n",
       "      <td>NaN</td>\n",
       "      <td>0.0</td>\n",
       "    </tr>\n",
       "    <tr>\n",
       "      <th>6362585</th>\n",
       "      <td>741</td>\n",
       "      <td>CASH_OUT</td>\n",
       "      <td>0.00</td>\n",
       "      <td>C312737633</td>\n",
       "      <td>0.00</td>\n",
       "      <td>0.0</td>\n",
       "      <td>C1400061387</td>\n",
       "      <td>267522.87</td>\n",
       "      <td>267522.87</td>\n",
       "      <td>1</td>\n",
       "      <td>0</td>\n",
       "      <td>0.00</td>\n",
       "      <td>0.00</td>\n",
       "      <td>NaN</td>\n",
       "      <td>0.0</td>\n",
       "    </tr>\n",
       "    <tr>\n",
       "      <th>6281483</th>\n",
       "      <td>646</td>\n",
       "      <td>CASH_OUT</td>\n",
       "      <td>0.00</td>\n",
       "      <td>C2060908932</td>\n",
       "      <td>0.00</td>\n",
       "      <td>0.0</td>\n",
       "      <td>C1587892888</td>\n",
       "      <td>0.00</td>\n",
       "      <td>0.00</td>\n",
       "      <td>1</td>\n",
       "      <td>0</td>\n",
       "      <td>0.00</td>\n",
       "      <td>0.00</td>\n",
       "      <td>NaN</td>\n",
       "      <td>NaN</td>\n",
       "    </tr>\n",
       "    <tr>\n",
       "      <th>6281485</th>\n",
       "      <td>646</td>\n",
       "      <td>CASH_OUT</td>\n",
       "      <td>0.00</td>\n",
       "      <td>C1997645312</td>\n",
       "      <td>0.00</td>\n",
       "      <td>0.0</td>\n",
       "      <td>C601248796</td>\n",
       "      <td>0.00</td>\n",
       "      <td>0.00</td>\n",
       "      <td>1</td>\n",
       "      <td>0</td>\n",
       "      <td>0.00</td>\n",
       "      <td>0.00</td>\n",
       "      <td>NaN</td>\n",
       "      <td>NaN</td>\n",
       "    </tr>\n",
       "    <tr>\n",
       "      <th>6168500</th>\n",
       "      <td>554</td>\n",
       "      <td>CASH_OUT</td>\n",
       "      <td>0.00</td>\n",
       "      <td>C10965156</td>\n",
       "      <td>0.00</td>\n",
       "      <td>0.0</td>\n",
       "      <td>C1493336195</td>\n",
       "      <td>230289.66</td>\n",
       "      <td>230289.66</td>\n",
       "      <td>1</td>\n",
       "      <td>0</td>\n",
       "      <td>0.00</td>\n",
       "      <td>0.00</td>\n",
       "      <td>NaN</td>\n",
       "      <td>0.0</td>\n",
       "    </tr>\n",
       "  </tbody>\n",
       "</table>\n",
       "<p>4359 rows × 15 columns</p>\n",
       "</div>"
      ],
      "text/plain": [
       "         step      type     amount     nameOrig  oldbalanceOrg  \\\n",
       "1059647   111  CASH_OUT  501496.31   C279192006      501496.31   \n",
       "1059646   111  TRANSFER  501496.31  C1595104027      501496.31   \n",
       "6362385   724  CASH_OUT  501425.84  C1112202399      501425.84   \n",
       "6362384   724  TRANSFER  501425.84   C241686740      501425.84   \n",
       "6117046   528  TRANSFER  501101.41  C1409061891      501101.41   \n",
       "...       ...       ...        ...          ...            ...   \n",
       "5563714   387  CASH_OUT       0.00  C1294472700           0.00   \n",
       "6362585   741  CASH_OUT       0.00   C312737633           0.00   \n",
       "6281483   646  CASH_OUT       0.00  C2060908932           0.00   \n",
       "6281485   646  CASH_OUT       0.00  C1997645312           0.00   \n",
       "6168500   554  CASH_OUT       0.00    C10965156           0.00   \n",
       "\n",
       "         newbalanceOrig     nameDest  oldbalanceDest  newbalanceDest  isFraud  \\\n",
       "1059647             0.0  C2046472223            0.00       501496.31        1   \n",
       "1059646             0.0   C643646528            0.00            0.00        1   \n",
       "6362385             0.0  C1546219364            0.00       501425.84        1   \n",
       "6362384             0.0  C2071832199            0.00            0.00        1   \n",
       "6117046             0.0  C1663472922            0.00            0.00        1   \n",
       "...                 ...          ...             ...             ...      ...   \n",
       "5563714             0.0  C1325541393      7970766.57      7970766.57        1   \n",
       "6362585             0.0  C1400061387       267522.87       267522.87        1   \n",
       "6281483             0.0  C1587892888            0.00            0.00        1   \n",
       "6281485             0.0   C601248796            0.00            0.00        1   \n",
       "6168500             0.0  C1493336195       230289.66       230289.66        1   \n",
       "\n",
       "         isFlaggedFraud  balance_change_org  balance_change_dest  \\\n",
       "1059647               0          -501496.31            501496.31   \n",
       "1059646               0          -501496.31                 0.00   \n",
       "6362385               0          -501425.84            501425.84   \n",
       "6362384               0          -501425.84                 0.00   \n",
       "6117046               0          -501101.41                 0.00   \n",
       "...                 ...                 ...                  ...   \n",
       "5563714               0                0.00                 0.00   \n",
       "6362585               0                0.00                 0.00   \n",
       "6281483               0                0.00                 0.00   \n",
       "6281485               0                0.00                 0.00   \n",
       "6168500               0                0.00                 0.00   \n",
       "\n",
       "         rel_balance_change_org  rel_balance_change_dest  \n",
       "1059647                    -1.0                      inf  \n",
       "1059646                    -1.0                      NaN  \n",
       "6362385                    -1.0                      inf  \n",
       "6362384                    -1.0                      NaN  \n",
       "6117046                    -1.0                      NaN  \n",
       "...                         ...                      ...  \n",
       "5563714                     NaN                      0.0  \n",
       "6362585                     NaN                      0.0  \n",
       "6281483                     NaN                      NaN  \n",
       "6281485                     NaN                      NaN  \n",
       "6168500                     NaN                      0.0  \n",
       "\n",
       "[4359 rows x 15 columns]"
      ]
     },
     "execution_count": 73,
     "metadata": {},
     "output_type": "execute_result"
    }
   ],
   "source": [
    "fraud_amount= df[df.isFraud==1]\n",
    "fraud_amount=fraud_amount.sort_values(by=['amount'],ascending=False)\n",
    "fraud_amount"
   ]
  },
  {
   "cell_type": "code",
   "execution_count": 74,
   "id": "6dd8843b",
   "metadata": {},
   "outputs": [
    {
     "data": {
      "text/plain": [
       "<AxesSubplot:ylabel='Frequency'>"
      ]
     },
     "execution_count": 74,
     "metadata": {},
     "output_type": "execute_result"
    },
    {
     "data": {
      "image/png": "[encoded data removed]",
      "text/plain": [
       "<Figure size 864x432 with 1 Axes>"
      ]
     },
     "metadata": {
      "needs_background": "light"
     },
     "output_type": "display_data"
    }
   ],
   "source": [
    "fraud_amount.amount.plot(kind='hist', bins=15, figsize=(12,6), facecolor='cyan',edgecolor='black')"
   ]
  },
  {
   "cell_type": "code",
   "execution_count": 75,
   "id": "f84fe4a6",
   "metadata": {},
   "outputs": [],
   "source": [
    "###nameDest"
   ]
  },
  {
   "cell_type": "code",
   "execution_count": 76,
   "id": "c0a3d8b9",
   "metadata": {},
   "outputs": [
    {
     "data": {
      "text/plain": [
       "nameDest\n",
       "C1286084959    91\n",
       "C985934102     87\n",
       "C977993101     86\n",
       "C2083562754    86\n",
       "C1360767589    82\n",
       "               ..\n",
       "M1746061614     1\n",
       "M1323326905     1\n",
       "M793602765      1\n",
       "M1304314299     1\n",
       "C1850423904     1\n",
       "Name: count, Length: 2716238, dtype: int64"
      ]
     },
     "execution_count": 76,
     "metadata": {},
     "output_type": "execute_result"
    }
   ],
   "source": [
    "rec= df.nameDest.value_counts()\n",
    "rec"
   ]
  },
  {
   "cell_type": "code",
   "execution_count": 77,
   "id": "a3216387",
   "metadata": {},
   "outputs": [
    {
     "data": {
      "text/plain": [
       "nameDest\n",
       "C1286084959    91\n",
       "C985934102     87\n",
       "C977993101     86\n",
       "C2083562754    86\n",
       "C1360767589    82\n",
       "C1590550415    82\n",
       "C392292416     81\n",
       "C248609774     81\n",
       "C1789550256    81\n",
       "C451111351     80\n",
       "Name: count, dtype: int64"
      ]
     },
     "execution_count": 77,
     "metadata": {},
     "output_type": "execute_result"
    }
   ],
   "source": [
    "rec[:10]"
   ]
  },
  {
   "cell_type": "code",
   "execution_count": 78,
   "id": "1aaf1846",
   "metadata": {},
   "outputs": [
    {
     "data": {
      "text/plain": [
       "<AxesSubplot:ylabel='nameDest'>"
      ]
     },
     "execution_count": 78,
     "metadata": {},
     "output_type": "execute_result"
    },
    {
     "data": {
      "image/png": "[encoded data removed]",
      "text/plain": [
       "<Figure size 432x288 with 1 Axes>"
      ]
     },
     "metadata": {
      "needs_background": "light"
     },
     "output_type": "display_data"
    }
   ],
   "source": [
    "rec[:10].plot(kind='barh',facecolor='purple')"
   ]
  },
  {
   "cell_type": "code",
   "execution_count": 96,
   "id": "62917751",
   "metadata": {},
   "outputs": [],
   "source": [
    "###Step"
   ]
  },
  {
   "cell_type": "code",
   "execution_count": 74,
   "id": "438cd5d9",
   "metadata": {},
   "outputs": [
    {
     "name": "stderr",
     "output_type": "stream",
     "text": [
      "C:\\Users\\kharl\\AppData\\Local\\Temp\\ipykernel_23324\\395256865.py:2: UserWarning: \n",
      "\n",
      "`distplot` is a deprecated function and will be removed in seaborn v0.14.0.\n",
      "\n",
      "Please adapt your code to use either `displot` (a figure-level function with\n",
      "similar flexibility) or `histplot` (an axes-level function for histograms).\n",
      "\n",
      "For a guide to updating your code to use the new functions, please see\n",
      "https://gist.github.com/mwaskom/de44147ed2974457ad6372750bbe5751\n",
      "\n",
      "  sns.distplot(df['step'], bins=50)\n"
     ]
    },
    {
     "ename": "ValueError",
     "evalue": "Multi-dimensional indexing (e.g. `obj[:, None]`) is no longer supported. Convert to a numpy array before indexing instead.",
     "output_type": "error",
     "traceback": [
      "\u001b[1;31m---------------------------------------------------------------------------\u001b[0m",
      "\u001b[1;31mValueError\u001b[0m                                Traceback (most recent call last)",
      "Input \u001b[1;32mIn [74]\u001b[0m, in \u001b[0;36m<cell line: 2>\u001b[1;34m()\u001b[0m\n\u001b[0;32m      1\u001b[0m plt\u001b[38;5;241m.\u001b[39mfigure(figsize\u001b[38;5;241m=\u001b[39m(\u001b[38;5;241m15\u001b[39m, \u001b[38;5;241m6\u001b[39m))\n\u001b[1;32m----> 2\u001b[0m \u001b[43msns\u001b[49m\u001b[38;5;241;43m.\u001b[39;49m\u001b[43mdistplot\u001b[49m\u001b[43m(\u001b[49m\u001b[43mdf\u001b[49m\u001b[43m[\u001b[49m\u001b[38;5;124;43m'\u001b[39;49m\u001b[38;5;124;43mstep\u001b[39;49m\u001b[38;5;124;43m'\u001b[39;49m\u001b[43m]\u001b[49m\u001b[43m,\u001b[49m\u001b[43m \u001b[49m\u001b[43mbins\u001b[49m\u001b[38;5;241;43m=\u001b[39;49m\u001b[38;5;241;43m50\u001b[39;49m\u001b[43m)\u001b[49m\n",
      "File \u001b[1;32m~\\anaconda3\\lib\\site-packages\\seaborn\\distributions.py:2496\u001b[0m, in \u001b[0;36mdistplot\u001b[1;34m(a, bins, hist, kde, rug, fit, hist_kws, kde_kws, rug_kws, fit_kws, color, vertical, norm_hist, axlabel, label, ax, x)\u001b[0m\n\u001b[0;32m   2494\u001b[0m \u001b[38;5;28;01mif\u001b[39;00m kde:\n\u001b[0;32m   2495\u001b[0m     kde_color \u001b[38;5;241m=\u001b[39m kde_kws\u001b[38;5;241m.\u001b[39mpop(\u001b[38;5;124m\"\u001b[39m\u001b[38;5;124mcolor\u001b[39m\u001b[38;5;124m\"\u001b[39m, color)\n\u001b[1;32m-> 2496\u001b[0m     kdeplot(\u001b[38;5;241m*\u001b[39m\u001b[38;5;241m*\u001b[39m{axis: a}, ax\u001b[38;5;241m=\u001b[39max, color\u001b[38;5;241m=\u001b[39mkde_color, \u001b[38;5;241m*\u001b[39m\u001b[38;5;241m*\u001b[39mkde_kws)\n\u001b[0;32m   2497\u001b[0m     \u001b[38;5;28;01mif\u001b[39;00m kde_color \u001b[38;5;241m!=\u001b[39m color:\n\u001b[0;32m   2498\u001b[0m         kde_kws[\u001b[38;5;124m\"\u001b[39m\u001b[38;5;124mcolor\u001b[39m\u001b[38;5;124m\"\u001b[39m] \u001b[38;5;241m=\u001b[39m kde_color\n",
      "File \u001b[1;32m~\\anaconda3\\lib\\site-packages\\seaborn\\distributions.py:1701\u001b[0m, in \u001b[0;36mkdeplot\u001b[1;34m(data, x, y, hue, weights, palette, hue_order, hue_norm, color, fill, multiple, common_norm, common_grid, cumulative, bw_method, bw_adjust, warn_singular, log_scale, levels, thresh, gridsize, cut, clip, legend, cbar, cbar_ax, cbar_kws, ax, **kwargs)\u001b[0m\n\u001b[0;32m   1697\u001b[0m \u001b[38;5;28;01mif\u001b[39;00m p\u001b[38;5;241m.\u001b[39munivariate:\n\u001b[0;32m   1699\u001b[0m     plot_kws \u001b[38;5;241m=\u001b[39m kwargs\u001b[38;5;241m.\u001b[39mcopy()\n\u001b[1;32m-> 1701\u001b[0m     p\u001b[38;5;241m.\u001b[39mplot_univariate_density(\n\u001b[0;32m   1702\u001b[0m         multiple\u001b[38;5;241m=\u001b[39mmultiple,\n\u001b[0;32m   1703\u001b[0m         common_norm\u001b[38;5;241m=\u001b[39mcommon_norm,\n\u001b[0;32m   1704\u001b[0m         common_grid\u001b[38;5;241m=\u001b[39mcommon_grid,\n\u001b[0;32m   1705\u001b[0m         fill\u001b[38;5;241m=\u001b[39mfill,\n\u001b[0;32m   1706\u001b[0m         color\u001b[38;5;241m=\u001b[39mcolor,\n\u001b[0;32m   1707\u001b[0m         legend\u001b[38;5;241m=\u001b[39mlegend,\n\u001b[0;32m   1708\u001b[0m         warn_singular\u001b[38;5;241m=\u001b[39mwarn_singular,\n\u001b[0;32m   1709\u001b[0m         estimate_kws\u001b[38;5;241m=\u001b[39mestimate_kws,\n\u001b[0;32m   1710\u001b[0m         \u001b[38;5;241m*\u001b[39m\u001b[38;5;241m*\u001b[39mplot_kws,\n\u001b[0;32m   1711\u001b[0m     )\n\u001b[0;32m   1713\u001b[0m \u001b[38;5;28;01melse\u001b[39;00m:\n\u001b[0;32m   1715\u001b[0m     p\u001b[38;5;241m.\u001b[39mplot_bivariate_density(\n\u001b[0;32m   1716\u001b[0m         common_norm\u001b[38;5;241m=\u001b[39mcommon_norm,\n\u001b[0;32m   1717\u001b[0m         fill\u001b[38;5;241m=\u001b[39mfill,\n\u001b[1;32m   (...)\u001b[0m\n\u001b[0;32m   1727\u001b[0m         \u001b[38;5;241m*\u001b[39m\u001b[38;5;241m*\u001b[39mkwargs,\n\u001b[0;32m   1728\u001b[0m     )\n",
      "File \u001b[1;32m~\\anaconda3\\lib\\site-packages\\seaborn\\distributions.py:991\u001b[0m, in \u001b[0;36m_DistributionPlotter.plot_univariate_density\u001b[1;34m(self, multiple, common_norm, common_grid, warn_singular, fill, color, legend, estimate_kws, **plot_kws)\u001b[0m\n\u001b[0;32m    988\u001b[0m     artist \u001b[38;5;241m=\u001b[39m ax\u001b[38;5;241m.\u001b[39mfill_between(support, fill_from, density, \u001b[38;5;241m*\u001b[39m\u001b[38;5;241m*\u001b[39martist_kws)\n\u001b[0;32m    990\u001b[0m \u001b[38;5;28;01melse\u001b[39;00m:\n\u001b[1;32m--> 991\u001b[0m     artist, \u001b[38;5;241m=\u001b[39m ax\u001b[38;5;241m.\u001b[39mplot(support, density, \u001b[38;5;241m*\u001b[39m\u001b[38;5;241m*\u001b[39martist_kws)\n\u001b[0;32m    993\u001b[0m artist\u001b[38;5;241m.\u001b[39msticky_edges\u001b[38;5;241m.\u001b[39mx[:] \u001b[38;5;241m=\u001b[39m sticky_support\n\u001b[0;32m    994\u001b[0m artist\u001b[38;5;241m.\u001b[39msticky_edges\u001b[38;5;241m.\u001b[39my[:] \u001b[38;5;241m=\u001b[39m sticky_density\n",
      "File \u001b[1;32m~\\anaconda3\\lib\\site-packages\\matplotlib\\axes\\_axes.py:1632\u001b[0m, in \u001b[0;36mAxes.plot\u001b[1;34m(self, scalex, scaley, data, *args, **kwargs)\u001b[0m\n\u001b[0;32m   1390\u001b[0m \u001b[38;5;124;03m\"\"\"\u001b[39;00m\n\u001b[0;32m   1391\u001b[0m \u001b[38;5;124;03mPlot y versus x as lines and/or markers.\u001b[39;00m\n\u001b[0;32m   1392\u001b[0m \n\u001b[1;32m   (...)\u001b[0m\n\u001b[0;32m   1629\u001b[0m \u001b[38;5;124;03m(``'green'``) or hex strings (``'#008000'``).\u001b[39;00m\n\u001b[0;32m   1630\u001b[0m \u001b[38;5;124;03m\"\"\"\u001b[39;00m\n\u001b[0;32m   1631\u001b[0m kwargs \u001b[38;5;241m=\u001b[39m cbook\u001b[38;5;241m.\u001b[39mnormalize_kwargs(kwargs, mlines\u001b[38;5;241m.\u001b[39mLine2D)\n\u001b[1;32m-> 1632\u001b[0m lines \u001b[38;5;241m=\u001b[39m [\u001b[38;5;241m*\u001b[39m\u001b[38;5;28mself\u001b[39m\u001b[38;5;241m.\u001b[39m_get_lines(\u001b[38;5;241m*\u001b[39margs, data\u001b[38;5;241m=\u001b[39mdata, \u001b[38;5;241m*\u001b[39m\u001b[38;5;241m*\u001b[39mkwargs)]\n\u001b[0;32m   1633\u001b[0m \u001b[38;5;28;01mfor\u001b[39;00m line \u001b[38;5;129;01min\u001b[39;00m lines:\n\u001b[0;32m   1634\u001b[0m     \u001b[38;5;28mself\u001b[39m\u001b[38;5;241m.\u001b[39madd_line(line)\n",
      "File \u001b[1;32m~\\anaconda3\\lib\\site-packages\\matplotlib\\axes\\_base.py:312\u001b[0m, in \u001b[0;36m_process_plot_var_args.__call__\u001b[1;34m(self, data, *args, **kwargs)\u001b[0m\n\u001b[0;32m    310\u001b[0m     this \u001b[38;5;241m+\u001b[39m\u001b[38;5;241m=\u001b[39m args[\u001b[38;5;241m0\u001b[39m],\n\u001b[0;32m    311\u001b[0m     args \u001b[38;5;241m=\u001b[39m args[\u001b[38;5;241m1\u001b[39m:]\n\u001b[1;32m--> 312\u001b[0m \u001b[38;5;28;01myield from\u001b[39;00m \u001b[38;5;28;43mself\u001b[39;49m\u001b[38;5;241;43m.\u001b[39;49m\u001b[43m_plot_args\u001b[49m\u001b[43m(\u001b[49m\u001b[43mthis\u001b[49m\u001b[43m,\u001b[49m\u001b[43m \u001b[49m\u001b[43mkwargs\u001b[49m\u001b[43m)\u001b[49m\n",
      "File \u001b[1;32m~\\anaconda3\\lib\\site-packages\\matplotlib\\axes\\_base.py:487\u001b[0m, in \u001b[0;36m_process_plot_var_args._plot_args\u001b[1;34m(self, tup, kwargs, return_kwargs)\u001b[0m\n\u001b[0;32m    484\u001b[0m         kw[prop_name] \u001b[38;5;241m=\u001b[39m val\n\u001b[0;32m    486\u001b[0m \u001b[38;5;28;01mif\u001b[39;00m \u001b[38;5;28mlen\u001b[39m(xy) \u001b[38;5;241m==\u001b[39m \u001b[38;5;241m2\u001b[39m:\n\u001b[1;32m--> 487\u001b[0m     x \u001b[38;5;241m=\u001b[39m \u001b[43m_check_1d\u001b[49m\u001b[43m(\u001b[49m\u001b[43mxy\u001b[49m\u001b[43m[\u001b[49m\u001b[38;5;241;43m0\u001b[39;49m\u001b[43m]\u001b[49m\u001b[43m)\u001b[49m\n\u001b[0;32m    488\u001b[0m     y \u001b[38;5;241m=\u001b[39m _check_1d(xy[\u001b[38;5;241m1\u001b[39m])\n\u001b[0;32m    489\u001b[0m \u001b[38;5;28;01melse\u001b[39;00m:\n",
      "File \u001b[1;32m~\\anaconda3\\lib\\site-packages\\matplotlib\\cbook\\__init__.py:1327\u001b[0m, in \u001b[0;36m_check_1d\u001b[1;34m(x)\u001b[0m\n\u001b[0;32m   1321\u001b[0m \u001b[38;5;28;01mwith\u001b[39;00m warnings\u001b[38;5;241m.\u001b[39mcatch_warnings(record\u001b[38;5;241m=\u001b[39m\u001b[38;5;28;01mTrue\u001b[39;00m) \u001b[38;5;28;01mas\u001b[39;00m w:\n\u001b[0;32m   1322\u001b[0m     warnings\u001b[38;5;241m.\u001b[39mfilterwarnings(\n\u001b[0;32m   1323\u001b[0m         \u001b[38;5;124m\"\u001b[39m\u001b[38;5;124malways\u001b[39m\u001b[38;5;124m\"\u001b[39m,\n\u001b[0;32m   1324\u001b[0m         category\u001b[38;5;241m=\u001b[39m\u001b[38;5;167;01mWarning\u001b[39;00m,\n\u001b[0;32m   1325\u001b[0m         message\u001b[38;5;241m=\u001b[39m\u001b[38;5;124m'\u001b[39m\u001b[38;5;124mSupport for multi-dimensional indexing\u001b[39m\u001b[38;5;124m'\u001b[39m)\n\u001b[1;32m-> 1327\u001b[0m     ndim \u001b[38;5;241m=\u001b[39m \u001b[43mx\u001b[49m\u001b[43m[\u001b[49m\u001b[43m:\u001b[49m\u001b[43m,\u001b[49m\u001b[43m \u001b[49m\u001b[38;5;28;43;01mNone\u001b[39;49;00m\u001b[43m]\u001b[49m\u001b[38;5;241m.\u001b[39mndim\n\u001b[0;32m   1328\u001b[0m     \u001b[38;5;66;03m# we have definitely hit a pandas index or series object\u001b[39;00m\n\u001b[0;32m   1329\u001b[0m     \u001b[38;5;66;03m# cast to a numpy array.\u001b[39;00m\n\u001b[0;32m   1330\u001b[0m     \u001b[38;5;28;01mif\u001b[39;00m \u001b[38;5;28mlen\u001b[39m(w) \u001b[38;5;241m>\u001b[39m \u001b[38;5;241m0\u001b[39m:\n",
      "File \u001b[1;32m~\\anaconda3\\lib\\site-packages\\pandas\\core\\indexes\\base.py:5415\u001b[0m, in \u001b[0;36mIndex.__getitem__\u001b[1;34m(self, key)\u001b[0m\n\u001b[0;32m   5413\u001b[0m \u001b[38;5;66;03m# Because we ruled out integer above, we always get an arraylike here\u001b[39;00m\n\u001b[0;32m   5414\u001b[0m \u001b[38;5;28;01mif\u001b[39;00m result\u001b[38;5;241m.\u001b[39mndim \u001b[38;5;241m>\u001b[39m \u001b[38;5;241m1\u001b[39m:\n\u001b[1;32m-> 5415\u001b[0m     \u001b[43mdisallow_ndim_indexing\u001b[49m\u001b[43m(\u001b[49m\u001b[43mresult\u001b[49m\u001b[43m)\u001b[49m\n\u001b[0;32m   5417\u001b[0m \u001b[38;5;66;03m# NB: Using _constructor._simple_new would break if MultiIndex\u001b[39;00m\n\u001b[0;32m   5418\u001b[0m \u001b[38;5;66;03m#  didn't override __getitem__\u001b[39;00m\n\u001b[0;32m   5419\u001b[0m \u001b[38;5;28;01mreturn\u001b[39;00m \u001b[38;5;28mself\u001b[39m\u001b[38;5;241m.\u001b[39m_constructor\u001b[38;5;241m.\u001b[39m_simple_new(result, name\u001b[38;5;241m=\u001b[39m\u001b[38;5;28mself\u001b[39m\u001b[38;5;241m.\u001b[39m_name)\n",
      "File \u001b[1;32m~\\anaconda3\\lib\\site-packages\\pandas\\core\\indexers\\utils.py:341\u001b[0m, in \u001b[0;36mdisallow_ndim_indexing\u001b[1;34m(result)\u001b[0m\n\u001b[0;32m    333\u001b[0m \u001b[38;5;124;03m\"\"\"\u001b[39;00m\n\u001b[0;32m    334\u001b[0m \u001b[38;5;124;03mHelper function to disallow multi-dimensional indexing on 1D Series/Index.\u001b[39;00m\n\u001b[0;32m    335\u001b[0m \n\u001b[1;32m   (...)\u001b[0m\n\u001b[0;32m    338\u001b[0m \u001b[38;5;124;03min GH#30588.\u001b[39;00m\n\u001b[0;32m    339\u001b[0m \u001b[38;5;124;03m\"\"\"\u001b[39;00m\n\u001b[0;32m    340\u001b[0m \u001b[38;5;28;01mif\u001b[39;00m np\u001b[38;5;241m.\u001b[39mndim(result) \u001b[38;5;241m>\u001b[39m \u001b[38;5;241m1\u001b[39m:\n\u001b[1;32m--> 341\u001b[0m     \u001b[38;5;28;01mraise\u001b[39;00m \u001b[38;5;167;01mValueError\u001b[39;00m(\n\u001b[0;32m    342\u001b[0m         \u001b[38;5;124m\"\u001b[39m\u001b[38;5;124mMulti-dimensional indexing (e.g. `obj[:, None]`) is no longer \u001b[39m\u001b[38;5;124m\"\u001b[39m\n\u001b[0;32m    343\u001b[0m         \u001b[38;5;124m\"\u001b[39m\u001b[38;5;124msupported. Convert to a numpy array before indexing instead.\u001b[39m\u001b[38;5;124m\"\u001b[39m\n\u001b[0;32m    344\u001b[0m     )\n",
      "\u001b[1;31mValueError\u001b[0m: Multi-dimensional indexing (e.g. `obj[:, None]`) is no longer supported. Convert to a numpy array before indexing instead."
     ]
    },
    {
     "data": {
      "image/png": "[encoded data removed]",
      "text/plain": [
       "<Figure size 1080x432 with 1 Axes>"
      ]
     },
     "metadata": {
      "needs_background": "light"
     },
     "output_type": "display_data"
    }
   ],
   "source": [
    "plt.figure(figsize=(15, 6))\n",
    "sns.distplot(df['step'], bins=50)"
   ]
  },
  {
   "cell_type": "code",
   "execution_count": 79,
   "id": "83e1673c",
   "metadata": {},
   "outputs": [],
   "source": [
    "### Correlation between features"
   ]
  },
  {
   "cell_type": "code",
   "execution_count": 80,
   "id": "8d2d8564",
   "metadata": {},
   "outputs": [
    {
     "data": {
      "image/png": "[encoded data removed]",
      "text/plain": [
       "<Figure size 720x576 with 2 Axes>"
      ]
     },
     "metadata": {
      "needs_background": "light"
     },
     "output_type": "display_data"
    }
   ],
   "source": [
    "# Assuming df is your DataFrame and you want to exclude non-numeric columns\n",
    "numeric_df = df.select_dtypes(include=['float64', 'int64'])  # Select only numeric columns\n",
    "\n",
    "# Compute correlation matrix on numeric data\n",
    "corr = numeric_df.corr()\n",
    "\n",
    "# Plot the heatmap\n",
    "plt.figure(figsize=(10, 8))\n",
    "sns.heatmap(corr, xticklabels=corr.columns, yticklabels=corr.columns, annot=True, cmap='Reds', fmt=\".3f\")\n",
    "plt.show()\n"
   ]
  },
  {
   "cell_type": "code",
   "execution_count": null,
   "id": "8f87ec05",
   "metadata": {},
   "outputs": [],
   "source": []
  },
  {
   "cell_type": "code",
   "execution_count": null,
   "id": "b839548c",
   "metadata": {},
   "outputs": [],
   "source": []
  },
  {
   "cell_type": "code",
   "execution_count": 81,
   "id": "fe43d92a",
   "metadata": {},
   "outputs": [
    {
     "data": {
      "text/plain": [
       "step                             0\n",
       "type                             0\n",
       "amount                           0\n",
       "nameOrig                         0\n",
       "oldbalanceOrg                    0\n",
       "newbalanceOrig                   0\n",
       "nameDest                         0\n",
       "oldbalanceDest                   0\n",
       "newbalanceDest                   0\n",
       "isFraud                          0\n",
       "isFlaggedFraud                   0\n",
       "balance_change_org               0\n",
       "balance_change_dest              0\n",
       "rel_balance_change_org     1935149\n",
       "rel_balance_change_dest    2312006\n",
       "dtype: int64"
      ]
     },
     "execution_count": 81,
     "metadata": {},
     "output_type": "execute_result"
    }
   ],
   "source": [
    "df.isna().sum()"
   ]
  },
  {
   "cell_type": "code",
   "execution_count": 82,
   "id": "0c5d35a3",
   "metadata": {},
   "outputs": [
    {
     "data": {
      "text/html": [
       "<div>\n",
       "<style scoped>\n",
       "    .dataframe tbody tr th:only-of-type {\n",
       "        vertical-align: middle;\n",
       "    }\n",
       "\n",
       "    .dataframe tbody tr th {\n",
       "        vertical-align: top;\n",
       "    }\n",
       "\n",
       "    .dataframe thead th {\n",
       "        text-align: right;\n",
       "    }\n",
       "</style>\n",
       "<table border=\"1\" class=\"dataframe\">\n",
       "  <thead>\n",
       "    <tr style=\"text-align: right;\">\n",
       "      <th></th>\n",
       "      <th>step</th>\n",
       "      <th>type</th>\n",
       "      <th>amount</th>\n",
       "      <th>nameOrig</th>\n",
       "      <th>oldbalanceOrg</th>\n",
       "      <th>newbalanceOrig</th>\n",
       "      <th>nameDest</th>\n",
       "      <th>oldbalanceDest</th>\n",
       "      <th>newbalanceDest</th>\n",
       "      <th>isFraud</th>\n",
       "      <th>isFlaggedFraud</th>\n",
       "      <th>balance_change_org</th>\n",
       "      <th>balance_change_dest</th>\n",
       "      <th>rel_balance_change_org</th>\n",
       "      <th>rel_balance_change_dest</th>\n",
       "    </tr>\n",
       "  </thead>\n",
       "  <tbody>\n",
       "    <tr>\n",
       "      <th>1675737</th>\n",
       "      <td>159</td>\n",
       "      <td>CASH_OUT</td>\n",
       "      <td>501719.38</td>\n",
       "      <td>C1970677139</td>\n",
       "      <td>18653.00</td>\n",
       "      <td>0.00</td>\n",
       "      <td>C1619270798</td>\n",
       "      <td>235419.03</td>\n",
       "      <td>737138.41</td>\n",
       "      <td>0</td>\n",
       "      <td>0</td>\n",
       "      <td>-18653.00</td>\n",
       "      <td>501719.38</td>\n",
       "      <td>-1.000000</td>\n",
       "      <td>2.131176</td>\n",
       "    </tr>\n",
       "    <tr>\n",
       "      <th>1737199</th>\n",
       "      <td>161</td>\n",
       "      <td>CASH_OUT</td>\n",
       "      <td>501718.41</td>\n",
       "      <td>C1077569708</td>\n",
       "      <td>78605.00</td>\n",
       "      <td>0.00</td>\n",
       "      <td>C1924590813</td>\n",
       "      <td>697311.14</td>\n",
       "      <td>1199029.56</td>\n",
       "      <td>0</td>\n",
       "      <td>0</td>\n",
       "      <td>-78605.00</td>\n",
       "      <td>501718.42</td>\n",
       "      <td>-1.000000</td>\n",
       "      <td>0.719504</td>\n",
       "    </tr>\n",
       "    <tr>\n",
       "      <th>1082806</th>\n",
       "      <td>129</td>\n",
       "      <td>CASH_IN</td>\n",
       "      <td>501718.02</td>\n",
       "      <td>C970634468</td>\n",
       "      <td>20873140.30</td>\n",
       "      <td>21374858.32</td>\n",
       "      <td>C1091756447</td>\n",
       "      <td>5463193.08</td>\n",
       "      <td>5127569.29</td>\n",
       "      <td>0</td>\n",
       "      <td>0</td>\n",
       "      <td>501718.02</td>\n",
       "      <td>-335623.79</td>\n",
       "      <td>0.024037</td>\n",
       "      <td>-0.061434</td>\n",
       "    </tr>\n",
       "    <tr>\n",
       "      <th>2827303</th>\n",
       "      <td>226</td>\n",
       "      <td>CASH_OUT</td>\n",
       "      <td>501717.55</td>\n",
       "      <td>C855812747</td>\n",
       "      <td>121947.70</td>\n",
       "      <td>0.00</td>\n",
       "      <td>C914557298</td>\n",
       "      <td>1379104.08</td>\n",
       "      <td>1880821.63</td>\n",
       "      <td>0</td>\n",
       "      <td>0</td>\n",
       "      <td>-121947.70</td>\n",
       "      <td>501717.55</td>\n",
       "      <td>-1.000000</td>\n",
       "      <td>0.363800</td>\n",
       "    </tr>\n",
       "    <tr>\n",
       "      <th>2069077</th>\n",
       "      <td>181</td>\n",
       "      <td>CASH_IN</td>\n",
       "      <td>501717.33</td>\n",
       "      <td>C897630635</td>\n",
       "      <td>5120317.65</td>\n",
       "      <td>5622034.98</td>\n",
       "      <td>C1830915224</td>\n",
       "      <td>1314756.05</td>\n",
       "      <td>813038.72</td>\n",
       "      <td>0</td>\n",
       "      <td>0</td>\n",
       "      <td>501717.33</td>\n",
       "      <td>-501717.33</td>\n",
       "      <td>0.097986</td>\n",
       "      <td>-0.381605</td>\n",
       "    </tr>\n",
       "    <tr>\n",
       "      <th>5280111</th>\n",
       "      <td>372</td>\n",
       "      <td>CASH_OUT</td>\n",
       "      <td>501715.41</td>\n",
       "      <td>C555809067</td>\n",
       "      <td>96128.79</td>\n",
       "      <td>0.00</td>\n",
       "      <td>C1185830080</td>\n",
       "      <td>664493.22</td>\n",
       "      <td>1166208.64</td>\n",
       "      <td>0</td>\n",
       "      <td>0</td>\n",
       "      <td>-96128.79</td>\n",
       "      <td>501715.42</td>\n",
       "      <td>-1.000000</td>\n",
       "      <td>0.755035</td>\n",
       "    </tr>\n",
       "    <tr>\n",
       "      <th>2984534</th>\n",
       "      <td>231</td>\n",
       "      <td>CASH_IN</td>\n",
       "      <td>501715.19</td>\n",
       "      <td>C1586580516</td>\n",
       "      <td>4122.00</td>\n",
       "      <td>505837.19</td>\n",
       "      <td>C1796738748</td>\n",
       "      <td>0.00</td>\n",
       "      <td>0.00</td>\n",
       "      <td>0</td>\n",
       "      <td>0</td>\n",
       "      <td>501715.19</td>\n",
       "      <td>0.00</td>\n",
       "      <td>121.716446</td>\n",
       "      <td>NaN</td>\n",
       "    </tr>\n",
       "    <tr>\n",
       "      <th>1638216</th>\n",
       "      <td>157</td>\n",
       "      <td>CASH_IN</td>\n",
       "      <td>501710.64</td>\n",
       "      <td>C843040970</td>\n",
       "      <td>430.00</td>\n",
       "      <td>502140.64</td>\n",
       "      <td>C1864097021</td>\n",
       "      <td>0.00</td>\n",
       "      <td>0.00</td>\n",
       "      <td>0</td>\n",
       "      <td>0</td>\n",
       "      <td>501710.64</td>\n",
       "      <td>0.00</td>\n",
       "      <td>1166.768930</td>\n",
       "      <td>NaN</td>\n",
       "    </tr>\n",
       "    <tr>\n",
       "      <th>2025441</th>\n",
       "      <td>180</td>\n",
       "      <td>CASH_IN</td>\n",
       "      <td>501710.41</td>\n",
       "      <td>C1109167155</td>\n",
       "      <td>14682491.62</td>\n",
       "      <td>15184202.03</td>\n",
       "      <td>C145739790</td>\n",
       "      <td>6008879.39</td>\n",
       "      <td>5507168.98</td>\n",
       "      <td>0</td>\n",
       "      <td>0</td>\n",
       "      <td>501710.41</td>\n",
       "      <td>-501710.41</td>\n",
       "      <td>0.034171</td>\n",
       "      <td>-0.083495</td>\n",
       "    </tr>\n",
       "    <tr>\n",
       "      <th>823098</th>\n",
       "      <td>41</td>\n",
       "      <td>TRANSFER</td>\n",
       "      <td>501709.63</td>\n",
       "      <td>C585977042</td>\n",
       "      <td>9846.00</td>\n",
       "      <td>0.00</td>\n",
       "      <td>C876306094</td>\n",
       "      <td>5932706.69</td>\n",
       "      <td>6434416.32</td>\n",
       "      <td>0</td>\n",
       "      <td>0</td>\n",
       "      <td>-9846.00</td>\n",
       "      <td>501709.63</td>\n",
       "      <td>-1.000000</td>\n",
       "      <td>0.084567</td>\n",
       "    </tr>\n",
       "  </tbody>\n",
       "</table>\n",
       "</div>"
      ],
      "text/plain": [
       "         step      type     amount     nameOrig  oldbalanceOrg  \\\n",
       "1675737   159  CASH_OUT  501719.38  C1970677139       18653.00   \n",
       "1737199   161  CASH_OUT  501718.41  C1077569708       78605.00   \n",
       "1082806   129   CASH_IN  501718.02   C970634468    20873140.30   \n",
       "2827303   226  CASH_OUT  501717.55   C855812747      121947.70   \n",
       "2069077   181   CASH_IN  501717.33   C897630635     5120317.65   \n",
       "5280111   372  CASH_OUT  501715.41   C555809067       96128.79   \n",
       "2984534   231   CASH_IN  501715.19  C1586580516        4122.00   \n",
       "1638216   157   CASH_IN  501710.64   C843040970         430.00   \n",
       "2025441   180   CASH_IN  501710.41  C1109167155    14682491.62   \n",
       "823098     41  TRANSFER  501709.63   C585977042        9846.00   \n",
       "\n",
       "         newbalanceOrig     nameDest  oldbalanceDest  newbalanceDest  isFraud  \\\n",
       "1675737            0.00  C1619270798       235419.03       737138.41        0   \n",
       "1737199            0.00  C1924590813       697311.14      1199029.56        0   \n",
       "1082806     21374858.32  C1091756447      5463193.08      5127569.29        0   \n",
       "2827303            0.00   C914557298      1379104.08      1880821.63        0   \n",
       "2069077      5622034.98  C1830915224      1314756.05       813038.72        0   \n",
       "5280111            0.00  C1185830080       664493.22      1166208.64        0   \n",
       "2984534       505837.19  C1796738748            0.00            0.00        0   \n",
       "1638216       502140.64  C1864097021            0.00            0.00        0   \n",
       "2025441     15184202.03   C145739790      6008879.39      5507168.98        0   \n",
       "823098             0.00   C876306094      5932706.69      6434416.32        0   \n",
       "\n",
       "         isFlaggedFraud  balance_change_org  balance_change_dest  \\\n",
       "1675737               0           -18653.00            501719.38   \n",
       "1737199               0           -78605.00            501718.42   \n",
       "1082806               0           501718.02           -335623.79   \n",
       "2827303               0          -121947.70            501717.55   \n",
       "2069077               0           501717.33           -501717.33   \n",
       "5280111               0           -96128.79            501715.42   \n",
       "2984534               0           501715.19                 0.00   \n",
       "1638216               0           501710.64                 0.00   \n",
       "2025441               0           501710.41           -501710.41   \n",
       "823098                0            -9846.00            501709.63   \n",
       "\n",
       "         rel_balance_change_org  rel_balance_change_dest  \n",
       "1675737               -1.000000                 2.131176  \n",
       "1737199               -1.000000                 0.719504  \n",
       "1082806                0.024037                -0.061434  \n",
       "2827303               -1.000000                 0.363800  \n",
       "2069077                0.097986                -0.381605  \n",
       "5280111               -1.000000                 0.755035  \n",
       "2984534              121.716446                      NaN  \n",
       "1638216             1166.768930                      NaN  \n",
       "2025441                0.034171                -0.083495  \n",
       "823098                -1.000000                 0.084567  "
      ]
     },
     "execution_count": 82,
     "metadata": {},
     "output_type": "execute_result"
    }
   ],
   "source": [
    "df.nlargest(10, 'amount')"
   ]
  },
  {
   "cell_type": "code",
   "execution_count": 83,
   "id": "7c2b8bef",
   "metadata": {},
   "outputs": [],
   "source": [
    "x = df.nlargest(10, 'amount').type\n",
    "  \n",
    "def unique(li):\n",
    "    value_counts = []\n",
    "    for i in li:\n",
    "        c = li.count(i)\n",
    "        value_counts.append((i,c))\n",
    "    return value_counts"
   ]
  },
  {
   "cell_type": "code",
   "execution_count": 84,
   "id": "cd9db596",
   "metadata": {},
   "outputs": [
    {
     "data": {
      "text/plain": [
       "1675737    CASH_OUT\n",
       "1737199    CASH_OUT\n",
       "1082806     CASH_IN\n",
       "2827303    CASH_OUT\n",
       "2069077     CASH_IN\n",
       "5280111    CASH_OUT\n",
       "2984534     CASH_IN\n",
       "1638216     CASH_IN\n",
       "2025441     CASH_IN\n",
       "823098     TRANSFER\n",
       "Name: type, dtype: object"
      ]
     },
     "execution_count": 84,
     "metadata": {},
     "output_type": "execute_result"
    }
   ],
   "source": [
    "x"
   ]
  },
  {
   "cell_type": "code",
   "execution_count": 85,
   "id": "29166319",
   "metadata": {},
   "outputs": [
    {
     "data": {
      "text/plain": [
       "Counter({'CASH_OUT': 4, 'CASH_IN': 5, 'TRANSFER': 1})"
      ]
     },
     "execution_count": 85,
     "metadata": {},
     "output_type": "execute_result"
    }
   ],
   "source": [
    "from collections import Counter\n",
    "Counter(x)"
   ]
  },
  {
   "cell_type": "code",
   "execution_count": 86,
   "id": "c9415607",
   "metadata": {},
   "outputs": [
    {
     "data": {
      "text/plain": [
       "1675737    0\n",
       "1737199    0\n",
       "1082806    0\n",
       "2827303    0\n",
       "2069077    0\n",
       "5280111    0\n",
       "2984534    0\n",
       "1638216    0\n",
       "2025441    0\n",
       "823098     0\n",
       "Name: isFraud, dtype: int64"
      ]
     },
     "execution_count": 86,
     "metadata": {},
     "output_type": "execute_result"
    }
   ],
   "source": [
    "df.nlargest(10, 'amount').isFraud\n",
    "#higher the amount more secure\n",
    "#the largest 10 amount of money are in usual in cash in and cash out transactions and mostly safed"
   ]
  },
  {
   "cell_type": "code",
   "execution_count": 87,
   "id": "af0526fd",
   "metadata": {},
   "outputs": [
    {
     "data": {
      "text/plain": [
       "Counter({'CASH_OUT': 45, 'CASH_IN': 22, 'TRANSFER': 33})"
      ]
     },
     "execution_count": 87,
     "metadata": {},
     "output_type": "execute_result"
    }
   ],
   "source": [
    "Counter(df.nlargest(100, 'amount').type)\n",
    "#in the largest 100 amount the cash out become the largest and transfer more than cash in"
   ]
  },
  {
   "cell_type": "code",
   "execution_count": 88,
   "id": "ba57d3c2",
   "metadata": {},
   "outputs": [
    {
     "data": {
      "text/plain": [
       "0"
      ]
     },
     "execution_count": 88,
     "metadata": {},
     "output_type": "execute_result"
    }
   ],
   "source": [
    "x = df.nlargest(100, 'amount').isFraud\n",
    "counter = 0\n",
    "if 1 in x.values:\n",
    "    counter +=1\n",
    "counter\n",
    "#in the largest 100 amounts there was no fraud"
   ]
  },
  {
   "cell_type": "code",
   "execution_count": 89,
   "id": "e6d84354",
   "metadata": {},
   "outputs": [
    {
     "data": {
      "image/png": "[encoded data removed]",
      "text/plain": [
       "<Figure size 432x288 with 2 Axes>"
      ]
     },
     "metadata": {
      "needs_background": "light"
     },
     "output_type": "display_data"
    }
   ],
   "source": [
    "\n",
    "import matplotlib.pyplot as plt\n",
    "\n",
    "# Check lengths of 'step' and 'amount' columns\n",
    "if len(df['step']) != len(df['amount']):\n",
    "    raise ValueError(\"Lengths of 'step' and 'amount' columns are not the same.\")\n",
    "\n",
    "# Plot 2D histogram if lengths are the same\n",
    "plt.hist2d(data=df, x='step', y='amount', cmin=0.5, cmap='viridis_r')\n",
    "plt.colorbar()\n",
    "plt.xlabel('Step')\n",
    "plt.ylabel('Amount')\n",
    "plt.title('2D Histogram of Step vs. Amount')\n",
    "plt.show()\n",
    "\n",
    "#the largest amount between 200 aqnd 300 steps\n",
    "#the greater than or equal 500000 $ amount in the steps between 200 and 250 also we n oticed that the data is right skewed which mean > median but in small difference and it tend to be normal distribution let's see the confidence interval\n"
   ]
  },
  {
   "cell_type": "code",
   "execution_count": 90,
   "id": "8eb23e36",
   "metadata": {},
   "outputs": [
    {
     "data": {
      "image/png": "[encoded data removed]",
      "text/plain": [
       "<Figure size 432x288 with 1 Axes>"
      ]
     },
     "metadata": {
      "needs_background": "light"
     },
     "output_type": "display_data"
    }
   ],
   "source": [
    "step_amount_avg = df[df.amount >= 500000]['step']\n",
    "plt.hist(step_amount_avg, color = 'black')\n",
    "plt.axvline(step_amount_avg.mean(), color = 'red')\n",
    "plt.axvline(step_amount_avg.median(), color = 'green')\n",
    "plt.xlabel('steps')\n",
    "plt.show()\n",
    "#It provides a measure of the uncertainty or variability associated with estimating a population parameter from sample data."
   ]
  },
  {
   "cell_type": "code",
   "execution_count": 91,
   "id": "bf323fe5",
   "metadata": {},
   "outputs": [
    {
     "data": {
      "text/plain": [
       "(227.86889758368235, 237.97885955270186)"
      ]
     },
     "execution_count": 91,
     "metadata": {},
     "output_type": "execute_result"
    }
   ],
   "source": [
    "import scipy.stats as st\n",
    "st.t.interval(alpha=0.90, df=len(step_amount_avg)-1,\n",
    "              loc=np.mean(step_amount_avg),\n",
    "              scale=st.sem(step_amount_avg))"
   ]
  },
  {
   "cell_type": "code",
   "execution_count": 92,
   "id": "44a59cfd",
   "metadata": {},
   "outputs": [
    {
     "name": "stdout",
     "output_type": "stream",
     "text": [
      "the number of unique values of nameOrig is : 99.86 %\n"
     ]
    }
   ],
   "source": [
    "print(f'the number of unique values of nameOrig is : {round((len(df.nameOrig.unique()) * 100) / df.shape[0], 2)} %')"
   ]
  },
  {
   "cell_type": "code",
   "execution_count": 245,
   "id": "910ff14a",
   "metadata": {},
   "outputs": [
    {
     "data": {
      "text/html": [
       "<div>\n",
       "<style scoped>\n",
       "    .dataframe tbody tr th:only-of-type {\n",
       "        vertical-align: middle;\n",
       "    }\n",
       "\n",
       "    .dataframe tbody tr th {\n",
       "        vertical-align: top;\n",
       "    }\n",
       "\n",
       "    .dataframe thead th {\n",
       "        text-align: right;\n",
       "    }\n",
       "</style>\n",
       "<table border=\"1\" class=\"dataframe\">\n",
       "  <thead>\n",
       "    <tr style=\"text-align: right;\">\n",
       "      <th></th>\n",
       "      <th>step</th>\n",
       "      <th>type</th>\n",
       "      <th>amount</th>\n",
       "      <th>nameOrig</th>\n",
       "      <th>oldbalanceOrg</th>\n",
       "      <th>newbalanceOrig</th>\n",
       "      <th>nameDest</th>\n",
       "      <th>oldbalanceDest</th>\n",
       "      <th>newbalanceDest</th>\n",
       "      <th>isFraud</th>\n",
       "      <th>isFlaggedFraud</th>\n",
       "      <th>balance_change_org</th>\n",
       "      <th>balance_change_dest</th>\n",
       "      <th>rel_balance_change_org</th>\n",
       "      <th>rel_balance_change_dest</th>\n",
       "    </tr>\n",
       "  </thead>\n",
       "  <tbody>\n",
       "    <tr>\n",
       "      <th>361126</th>\n",
       "      <td>17</td>\n",
       "      <td>PAYMENT</td>\n",
       "      <td>5530.99</td>\n",
       "      <td>C1065307291</td>\n",
       "      <td>819637.87</td>\n",
       "      <td>814106.88</td>\n",
       "      <td>M1175397032</td>\n",
       "      <td>0.0</td>\n",
       "      <td>0.0</td>\n",
       "      <td>0</td>\n",
       "      <td>0</td>\n",
       "      <td>-5530.99</td>\n",
       "      <td>0.0</td>\n",
       "      <td>-0.006748</td>\n",
       "      <td>NaN</td>\n",
       "    </tr>\n",
       "    <tr>\n",
       "      <th>1799163</th>\n",
       "      <td>162</td>\n",
       "      <td>CASH_IN</td>\n",
       "      <td>88230.47</td>\n",
       "      <td>C1065307291</td>\n",
       "      <td>38128.00</td>\n",
       "      <td>126358.47</td>\n",
       "      <td>C1154752493</td>\n",
       "      <td>0.0</td>\n",
       "      <td>0.0</td>\n",
       "      <td>0</td>\n",
       "      <td>0</td>\n",
       "      <td>88230.47</td>\n",
       "      <td>0.0</td>\n",
       "      <td>2.314060</td>\n",
       "      <td>NaN</td>\n",
       "    </tr>\n",
       "    <tr>\n",
       "      <th>4829222</th>\n",
       "      <td>347</td>\n",
       "      <td>PAYMENT</td>\n",
       "      <td>19717.82</td>\n",
       "      <td>C1065307291</td>\n",
       "      <td>0.00</td>\n",
       "      <td>0.00</td>\n",
       "      <td>M2131079968</td>\n",
       "      <td>0.0</td>\n",
       "      <td>0.0</td>\n",
       "      <td>0</td>\n",
       "      <td>0</td>\n",
       "      <td>0.00</td>\n",
       "      <td>0.0</td>\n",
       "      <td>NaN</td>\n",
       "      <td>NaN</td>\n",
       "    </tr>\n",
       "  </tbody>\n",
       "</table>\n",
       "</div>"
      ],
      "text/plain": [
       "         step     type    amount     nameOrig  oldbalanceOrg  newbalanceOrig  \\\n",
       "361126     17  PAYMENT   5530.99  C1065307291      819637.87       814106.88   \n",
       "1799163   162  CASH_IN  88230.47  C1065307291       38128.00       126358.47   \n",
       "4829222   347  PAYMENT  19717.82  C1065307291           0.00            0.00   \n",
       "\n",
       "            nameDest  oldbalanceDest  newbalanceDest  isFraud  isFlaggedFraud  \\\n",
       "361126   M1175397032             0.0             0.0        0               0   \n",
       "1799163  C1154752493             0.0             0.0        0               0   \n",
       "4829222  M2131079968             0.0             0.0        0               0   \n",
       "\n",
       "         balance_change_org  balance_change_dest  rel_balance_change_org  \\\n",
       "361126             -5530.99                  0.0               -0.006748   \n",
       "1799163            88230.47                  0.0                2.314060   \n",
       "4829222                0.00                  0.0                     NaN   \n",
       "\n",
       "         rel_balance_change_dest  \n",
       "361126                       NaN  \n",
       "1799163                      NaN  \n",
       "4829222                      NaN  "
      ]
     },
     "execution_count": 245,
     "metadata": {},
     "output_type": "execute_result"
    }
   ],
   "source": [
    "df[df.nameOrig == 'C1065307291']"
   ]
  },
  {
   "cell_type": "code",
   "execution_count": 93,
   "id": "c3929acc",
   "metadata": {},
   "outputs": [],
   "source": [
    "Messi = df.nameOrig.mode()\n"
   ]
  },
  {
   "cell_type": "code",
   "execution_count": 94,
   "id": "91ce3654",
   "metadata": {},
   "outputs": [
    {
     "name": "stdout",
     "output_type": "stream",
     "text": [
      "('C1065307291', 3)\n",
      "('C1462946854', 3)\n",
      "('C1530544995', 3)\n",
      "('C1677795071', 3)\n",
      "('C1784010646', 3)\n",
      "('C1832548028', 3)\n",
      "('C1902386530', 3)\n",
      "('C1976208114', 3)\n",
      "('C1999539787', 3)\n",
      "('C2051359467', 3)\n",
      "('C2098525306', 3)\n",
      "('C363736674', 3)\n",
      "('C400299098', 3)\n",
      "('C724452879', 3)\n"
     ]
    }
   ],
   "source": [
    "original_name = []\n",
    "for i in Messi.values:\n",
    "    original_name.append((i,df[df.nameOrig == i].shape[0]))\n",
    "for j in original_name:\n",
    "    print(j)"
   ]
  },
  {
   "cell_type": "code",
   "execution_count": 95,
   "id": "176e83fe",
   "metadata": {},
   "outputs": [],
   "source": [
    "df.nameOrig = df.nameOrig.str.replace('C','').astype('int')\n",
    "df.rename(columns = {'nameOrig': 'client_id'}, inplace = True)"
   ]
  },
  {
   "cell_type": "code",
   "execution_count": 96,
   "id": "ef87bd8d",
   "metadata": {},
   "outputs": [
    {
     "data": {
      "text/plain": [
       "0          1231006815\n",
       "1          1666544295\n",
       "2          1305486145\n",
       "3           840083671\n",
       "4          2048537720\n",
       "              ...    \n",
       "6362609    1113162093\n",
       "6362610     778071008\n",
       "6362611     994950684\n",
       "6362614    2013999242\n",
       "6362615     786484425\n",
       "Name: client_id, Length: 6024543, dtype: int32"
      ]
     },
     "execution_count": 96,
     "metadata": {},
     "output_type": "execute_result"
    }
   ],
   "source": [
    "df.client_id"
   ]
  },
  {
   "cell_type": "code",
   "execution_count": 97,
   "id": "27d95d88",
   "metadata": {},
   "outputs": [
    {
     "data": {
      "text/plain": [
       "0          170136.00\n",
       "1           21249.00\n",
       "2             181.00\n",
       "3             181.00\n",
       "4           41554.00\n",
       "             ...    \n",
       "6362609    258355.42\n",
       "6362610     63416.99\n",
       "6362611     63416.99\n",
       "6362614    339682.13\n",
       "6362615    339682.13\n",
       "Name: oldbalanceOrg, Length: 6024543, dtype: float64"
      ]
     },
     "execution_count": 97,
     "metadata": {},
     "output_type": "execute_result"
    }
   ],
   "source": [
    "#balance before transactions\n",
    "df.oldbalanceOrg"
   ]
  },
  {
   "cell_type": "code",
   "execution_count": 98,
   "id": "f05c02bd",
   "metadata": {},
   "outputs": [
    {
     "data": {
      "text/plain": [
       "count    6.024543e+06\n",
       "mean     8.619578e+05\n",
       "std      2.933836e+06\n",
       "min      0.000000e+00\n",
       "25%      0.000000e+00\n",
       "50%      1.514600e+04\n",
       "75%      1.134380e+05\n",
       "max      4.381886e+07\n",
       "Name: oldbalanceOrg, dtype: float64"
      ]
     },
     "execution_count": 98,
     "metadata": {},
     "output_type": "execute_result"
    }
   ],
   "source": [
    "df.oldbalanceOrg.describe()\n"
   ]
  },
  {
   "cell_type": "code",
   "execution_count": 99,
   "id": "a7b4e8c7",
   "metadata": {},
   "outputs": [
    {
     "data": {
      "image/png": "[encoded data removed]",
      "text/plain": [
       "<Figure size 720x504 with 1 Axes>"
      ]
     },
     "metadata": {
      "needs_background": "light"
     },
     "output_type": "display_data"
    }
   ],
   "source": [
    "plt.figure(figsize = [10,7])\n",
    "plt.hist(df.oldbalanceOrg, bins = 30)\n",
    "plt.title('the old balance distribution')\n",
    "plt.show()"
   ]
  },
  {
   "cell_type": "code",
   "execution_count": 100,
   "id": "b2705f78",
   "metadata": {
    "scrolled": true
   },
   "outputs": [
    {
     "data": {
      "image/png": "[encoded data removed]",
      "text/plain": [
       "<Figure size 720x504 with 1 Axes>"
      ]
     },
     "metadata": {
      "needs_background": "light"
     },
     "output_type": "display_data"
    }
   ],
   "source": [
    "plt.figure(figsize = [10,7])\n",
    "plt.plot(df.oldbalanceOrg)\n",
    "plt.show()"
   ]
  },
  {
   "cell_type": "code",
   "execution_count": 101,
   "id": "aea521bd",
   "metadata": {},
   "outputs": [
    {
     "data": {
      "text/html": [
       "<div>\n",
       "<style scoped>\n",
       "    .dataframe tbody tr th:only-of-type {\n",
       "        vertical-align: middle;\n",
       "    }\n",
       "\n",
       "    .dataframe tbody tr th {\n",
       "        vertical-align: top;\n",
       "    }\n",
       "\n",
       "    .dataframe thead th {\n",
       "        text-align: right;\n",
       "    }\n",
       "</style>\n",
       "<table border=\"1\" class=\"dataframe\">\n",
       "  <thead>\n",
       "    <tr style=\"text-align: right;\">\n",
       "      <th></th>\n",
       "      <th>step</th>\n",
       "      <th>type</th>\n",
       "      <th>amount</th>\n",
       "      <th>client_id</th>\n",
       "      <th>oldbalanceOrg</th>\n",
       "      <th>newbalanceOrig</th>\n",
       "      <th>nameDest</th>\n",
       "      <th>oldbalanceDest</th>\n",
       "      <th>newbalanceDest</th>\n",
       "      <th>isFraud</th>\n",
       "      <th>isFlaggedFraud</th>\n",
       "      <th>balance_change_org</th>\n",
       "      <th>balance_change_dest</th>\n",
       "      <th>rel_balance_change_org</th>\n",
       "      <th>rel_balance_change_dest</th>\n",
       "    </tr>\n",
       "  </thead>\n",
       "  <tbody>\n",
       "    <tr>\n",
       "      <th>4203639</th>\n",
       "      <td>305</td>\n",
       "      <td>CASH_OUT</td>\n",
       "      <td>132238.97</td>\n",
       "      <td>559275248</td>\n",
       "      <td>43818855.30</td>\n",
       "      <td>43686616.33</td>\n",
       "      <td>C1114436169</td>\n",
       "      <td>5327024.57</td>\n",
       "      <td>5459263.54</td>\n",
       "      <td>0</td>\n",
       "      <td>0</td>\n",
       "      <td>-132238.97</td>\n",
       "      <td>132238.97</td>\n",
       "      <td>-0.003018</td>\n",
       "      <td>0.024824</td>\n",
       "    </tr>\n",
       "    <tr>\n",
       "      <th>4203640</th>\n",
       "      <td>305</td>\n",
       "      <td>PAYMENT</td>\n",
       "      <td>12814.12</td>\n",
       "      <td>2080486364</td>\n",
       "      <td>43686616.33</td>\n",
       "      <td>43673802.21</td>\n",
       "      <td>M928977012</td>\n",
       "      <td>0.00</td>\n",
       "      <td>0.00</td>\n",
       "      <td>0</td>\n",
       "      <td>0</td>\n",
       "      <td>-12814.12</td>\n",
       "      <td>0.00</td>\n",
       "      <td>-0.000293</td>\n",
       "      <td>NaN</td>\n",
       "    </tr>\n",
       "    <tr>\n",
       "      <th>4180200</th>\n",
       "      <td>304</td>\n",
       "      <td>PAYMENT</td>\n",
       "      <td>8301.85</td>\n",
       "      <td>1568160039</td>\n",
       "      <td>41699144.49</td>\n",
       "      <td>41690842.64</td>\n",
       "      <td>M1906748245</td>\n",
       "      <td>0.00</td>\n",
       "      <td>0.00</td>\n",
       "      <td>0</td>\n",
       "      <td>0</td>\n",
       "      <td>-8301.85</td>\n",
       "      <td>0.00</td>\n",
       "      <td>-0.000199</td>\n",
       "      <td>NaN</td>\n",
       "    </tr>\n",
       "    <tr>\n",
       "      <th>4180201</th>\n",
       "      <td>304</td>\n",
       "      <td>CASH_OUT</td>\n",
       "      <td>258483.17</td>\n",
       "      <td>438977024</td>\n",
       "      <td>41690842.64</td>\n",
       "      <td>41432359.46</td>\n",
       "      <td>C1162702437</td>\n",
       "      <td>6449276.06</td>\n",
       "      <td>6707759.23</td>\n",
       "      <td>0</td>\n",
       "      <td>0</td>\n",
       "      <td>-258483.18</td>\n",
       "      <td>258483.17</td>\n",
       "      <td>-0.006200</td>\n",
       "      <td>0.040079</td>\n",
       "    </tr>\n",
       "    <tr>\n",
       "      <th>100307</th>\n",
       "      <td>10</td>\n",
       "      <td>CASH_IN</td>\n",
       "      <td>6808.99</td>\n",
       "      <td>1841909664</td>\n",
       "      <td>38939424.03</td>\n",
       "      <td>38946233.02</td>\n",
       "      <td>C734236179</td>\n",
       "      <td>97006.33</td>\n",
       "      <td>90197.34</td>\n",
       "      <td>0</td>\n",
       "      <td>0</td>\n",
       "      <td>6808.99</td>\n",
       "      <td>-6808.99</td>\n",
       "      <td>0.000175</td>\n",
       "      <td>-0.070191</td>\n",
       "    </tr>\n",
       "    <tr>\n",
       "      <th>100306</th>\n",
       "      <td>10</td>\n",
       "      <td>CASH_IN</td>\n",
       "      <td>376022.62</td>\n",
       "      <td>1450387949</td>\n",
       "      <td>38563401.41</td>\n",
       "      <td>38939424.03</td>\n",
       "      <td>C1050374066</td>\n",
       "      <td>1812980.49</td>\n",
       "      <td>1720832.30</td>\n",
       "      <td>0</td>\n",
       "      <td>0</td>\n",
       "      <td>376022.62</td>\n",
       "      <td>-92148.19</td>\n",
       "      <td>0.009751</td>\n",
       "      <td>-0.050827</td>\n",
       "    </tr>\n",
       "    <tr>\n",
       "      <th>100305</th>\n",
       "      <td>10</td>\n",
       "      <td>CASH_IN</td>\n",
       "      <td>121569.82</td>\n",
       "      <td>1576842193</td>\n",
       "      <td>38441831.60</td>\n",
       "      <td>38563401.41</td>\n",
       "      <td>C1283626649</td>\n",
       "      <td>304887.13</td>\n",
       "      <td>263945.32</td>\n",
       "      <td>0</td>\n",
       "      <td>0</td>\n",
       "      <td>121569.81</td>\n",
       "      <td>-40941.81</td>\n",
       "      <td>0.003162</td>\n",
       "      <td>-0.134285</td>\n",
       "    </tr>\n",
       "    <tr>\n",
       "      <th>100304</th>\n",
       "      <td>10</td>\n",
       "      <td>CASH_IN</td>\n",
       "      <td>77083.57</td>\n",
       "      <td>1040382471</td>\n",
       "      <td>38364748.02</td>\n",
       "      <td>38441831.60</td>\n",
       "      <td>C1940815076</td>\n",
       "      <td>180735.97</td>\n",
       "      <td>103652.40</td>\n",
       "      <td>0</td>\n",
       "      <td>0</td>\n",
       "      <td>77083.58</td>\n",
       "      <td>-77083.57</td>\n",
       "      <td>0.002009</td>\n",
       "      <td>-0.426498</td>\n",
       "    </tr>\n",
       "    <tr>\n",
       "      <th>100303</th>\n",
       "      <td>10</td>\n",
       "      <td>CASH_IN</td>\n",
       "      <td>105150.78</td>\n",
       "      <td>1273896430</td>\n",
       "      <td>38259597.25</td>\n",
       "      <td>38364748.02</td>\n",
       "      <td>C1142840636</td>\n",
       "      <td>545669.97</td>\n",
       "      <td>25148.24</td>\n",
       "      <td>0</td>\n",
       "      <td>0</td>\n",
       "      <td>105150.77</td>\n",
       "      <td>-520521.73</td>\n",
       "      <td>0.002748</td>\n",
       "      <td>-0.953913</td>\n",
       "    </tr>\n",
       "    <tr>\n",
       "      <th>100302</th>\n",
       "      <td>10</td>\n",
       "      <td>CASH_IN</td>\n",
       "      <td>92897.18</td>\n",
       "      <td>1319675286</td>\n",
       "      <td>38166700.07</td>\n",
       "      <td>38259597.25</td>\n",
       "      <td>C734480558</td>\n",
       "      <td>98196.34</td>\n",
       "      <td>5299.16</td>\n",
       "      <td>0</td>\n",
       "      <td>0</td>\n",
       "      <td>92897.18</td>\n",
       "      <td>-92897.18</td>\n",
       "      <td>0.002434</td>\n",
       "      <td>-0.946035</td>\n",
       "    </tr>\n",
       "    <tr>\n",
       "      <th>100301</th>\n",
       "      <td>10</td>\n",
       "      <td>CASH_IN</td>\n",
       "      <td>216606.82</td>\n",
       "      <td>1548217173</td>\n",
       "      <td>37950093.25</td>\n",
       "      <td>38166700.07</td>\n",
       "      <td>C757493898</td>\n",
       "      <td>2343273.84</td>\n",
       "      <td>2694493.70</td>\n",
       "      <td>0</td>\n",
       "      <td>0</td>\n",
       "      <td>216606.82</td>\n",
       "      <td>351219.86</td>\n",
       "      <td>0.005708</td>\n",
       "      <td>0.149884</td>\n",
       "    </tr>\n",
       "    <tr>\n",
       "      <th>100300</th>\n",
       "      <td>10</td>\n",
       "      <td>CASH_IN</td>\n",
       "      <td>30276.77</td>\n",
       "      <td>1114046451</td>\n",
       "      <td>37919816.48</td>\n",
       "      <td>37950093.25</td>\n",
       "      <td>C1903512796</td>\n",
       "      <td>189879.48</td>\n",
       "      <td>126545.07</td>\n",
       "      <td>0</td>\n",
       "      <td>0</td>\n",
       "      <td>30276.77</td>\n",
       "      <td>-63334.41</td>\n",
       "      <td>0.000798</td>\n",
       "      <td>-0.333551</td>\n",
       "    </tr>\n",
       "    <tr>\n",
       "      <th>100299</th>\n",
       "      <td>10</td>\n",
       "      <td>CASH_IN</td>\n",
       "      <td>381811.59</td>\n",
       "      <td>697666271</td>\n",
       "      <td>37538004.89</td>\n",
       "      <td>37919816.48</td>\n",
       "      <td>C793460750</td>\n",
       "      <td>1582183.51</td>\n",
       "      <td>1553511.96</td>\n",
       "      <td>0</td>\n",
       "      <td>0</td>\n",
       "      <td>381811.59</td>\n",
       "      <td>-28671.55</td>\n",
       "      <td>0.010171</td>\n",
       "      <td>-0.018122</td>\n",
       "    </tr>\n",
       "    <tr>\n",
       "      <th>100298</th>\n",
       "      <td>10</td>\n",
       "      <td>CASH_IN</td>\n",
       "      <td>240542.27</td>\n",
       "      <td>1677602915</td>\n",
       "      <td>37297462.62</td>\n",
       "      <td>37538004.89</td>\n",
       "      <td>C1201831265</td>\n",
       "      <td>927861.45</td>\n",
       "      <td>764522.80</td>\n",
       "      <td>0</td>\n",
       "      <td>0</td>\n",
       "      <td>240542.27</td>\n",
       "      <td>-163338.65</td>\n",
       "      <td>0.006449</td>\n",
       "      <td>-0.176038</td>\n",
       "    </tr>\n",
       "    <tr>\n",
       "      <th>100296</th>\n",
       "      <td>10</td>\n",
       "      <td>CASH_IN</td>\n",
       "      <td>310949.65</td>\n",
       "      <td>291461366</td>\n",
       "      <td>36365351.05</td>\n",
       "      <td>36676300.71</td>\n",
       "      <td>C590624787</td>\n",
       "      <td>935920.50</td>\n",
       "      <td>376878.36</td>\n",
       "      <td>0</td>\n",
       "      <td>0</td>\n",
       "      <td>310949.66</td>\n",
       "      <td>-559042.14</td>\n",
       "      <td>0.008551</td>\n",
       "      <td>-0.597318</td>\n",
       "    </tr>\n",
       "    <tr>\n",
       "      <th>100295</th>\n",
       "      <td>10</td>\n",
       "      <td>CASH_IN</td>\n",
       "      <td>180633.56</td>\n",
       "      <td>328939348</td>\n",
       "      <td>36184717.49</td>\n",
       "      <td>36365351.05</td>\n",
       "      <td>C1501798121</td>\n",
       "      <td>380556.48</td>\n",
       "      <td>2043047.61</td>\n",
       "      <td>0</td>\n",
       "      <td>0</td>\n",
       "      <td>180633.56</td>\n",
       "      <td>1662491.13</td>\n",
       "      <td>0.004992</td>\n",
       "      <td>4.368579</td>\n",
       "    </tr>\n",
       "    <tr>\n",
       "      <th>100294</th>\n",
       "      <td>10</td>\n",
       "      <td>CASH_IN</td>\n",
       "      <td>34874.43</td>\n",
       "      <td>510235666</td>\n",
       "      <td>36149843.06</td>\n",
       "      <td>36184717.49</td>\n",
       "      <td>C384735911</td>\n",
       "      <td>2267808.59</td>\n",
       "      <td>2986599.04</td>\n",
       "      <td>0</td>\n",
       "      <td>0</td>\n",
       "      <td>34874.43</td>\n",
       "      <td>718790.45</td>\n",
       "      <td>0.000965</td>\n",
       "      <td>0.316954</td>\n",
       "    </tr>\n",
       "    <tr>\n",
       "      <th>100293</th>\n",
       "      <td>10</td>\n",
       "      <td>CASH_IN</td>\n",
       "      <td>257404.12</td>\n",
       "      <td>445072303</td>\n",
       "      <td>35892438.93</td>\n",
       "      <td>36149843.06</td>\n",
       "      <td>C2012808675</td>\n",
       "      <td>1773724.07</td>\n",
       "      <td>1635321.98</td>\n",
       "      <td>0</td>\n",
       "      <td>0</td>\n",
       "      <td>257404.13</td>\n",
       "      <td>-138402.09</td>\n",
       "      <td>0.007172</td>\n",
       "      <td>-0.078029</td>\n",
       "    </tr>\n",
       "    <tr>\n",
       "      <th>100292</th>\n",
       "      <td>10</td>\n",
       "      <td>CASH_IN</td>\n",
       "      <td>136727.29</td>\n",
       "      <td>1839065962</td>\n",
       "      <td>35755711.64</td>\n",
       "      <td>35892438.93</td>\n",
       "      <td>C1606145069</td>\n",
       "      <td>1403795.36</td>\n",
       "      <td>1816751.51</td>\n",
       "      <td>0</td>\n",
       "      <td>0</td>\n",
       "      <td>136727.29</td>\n",
       "      <td>412956.15</td>\n",
       "      <td>0.003824</td>\n",
       "      <td>0.294171</td>\n",
       "    </tr>\n",
       "    <tr>\n",
       "      <th>100291</th>\n",
       "      <td>10</td>\n",
       "      <td>CASH_IN</td>\n",
       "      <td>379908.51</td>\n",
       "      <td>109146052</td>\n",
       "      <td>35375803.13</td>\n",
       "      <td>35755711.64</td>\n",
       "      <td>C1304046855</td>\n",
       "      <td>1501429.06</td>\n",
       "      <td>1121520.55</td>\n",
       "      <td>0</td>\n",
       "      <td>0</td>\n",
       "      <td>379908.51</td>\n",
       "      <td>-379908.51</td>\n",
       "      <td>0.010739</td>\n",
       "      <td>-0.253031</td>\n",
       "    </tr>\n",
       "  </tbody>\n",
       "</table>\n",
       "</div>"
      ],
      "text/plain": [
       "         step      type     amount   client_id  oldbalanceOrg  newbalanceOrig  \\\n",
       "4203639   305  CASH_OUT  132238.97   559275248    43818855.30     43686616.33   \n",
       "4203640   305   PAYMENT   12814.12  2080486364    43686616.33     43673802.21   \n",
       "4180200   304   PAYMENT    8301.85  1568160039    41699144.49     41690842.64   \n",
       "4180201   304  CASH_OUT  258483.17   438977024    41690842.64     41432359.46   \n",
       "100307     10   CASH_IN    6808.99  1841909664    38939424.03     38946233.02   \n",
       "100306     10   CASH_IN  376022.62  1450387949    38563401.41     38939424.03   \n",
       "100305     10   CASH_IN  121569.82  1576842193    38441831.60     38563401.41   \n",
       "100304     10   CASH_IN   77083.57  1040382471    38364748.02     38441831.60   \n",
       "100303     10   CASH_IN  105150.78  1273896430    38259597.25     38364748.02   \n",
       "100302     10   CASH_IN   92897.18  1319675286    38166700.07     38259597.25   \n",
       "100301     10   CASH_IN  216606.82  1548217173    37950093.25     38166700.07   \n",
       "100300     10   CASH_IN   30276.77  1114046451    37919816.48     37950093.25   \n",
       "100299     10   CASH_IN  381811.59   697666271    37538004.89     37919816.48   \n",
       "100298     10   CASH_IN  240542.27  1677602915    37297462.62     37538004.89   \n",
       "100296     10   CASH_IN  310949.65   291461366    36365351.05     36676300.71   \n",
       "100295     10   CASH_IN  180633.56   328939348    36184717.49     36365351.05   \n",
       "100294     10   CASH_IN   34874.43   510235666    36149843.06     36184717.49   \n",
       "100293     10   CASH_IN  257404.12   445072303    35892438.93     36149843.06   \n",
       "100292     10   CASH_IN  136727.29  1839065962    35755711.64     35892438.93   \n",
       "100291     10   CASH_IN  379908.51   109146052    35375803.13     35755711.64   \n",
       "\n",
       "            nameDest  oldbalanceDest  newbalanceDest  isFraud  isFlaggedFraud  \\\n",
       "4203639  C1114436169      5327024.57      5459263.54        0               0   \n",
       "4203640   M928977012            0.00            0.00        0               0   \n",
       "4180200  M1906748245            0.00            0.00        0               0   \n",
       "4180201  C1162702437      6449276.06      6707759.23        0               0   \n",
       "100307    C734236179        97006.33        90197.34        0               0   \n",
       "100306   C1050374066      1812980.49      1720832.30        0               0   \n",
       "100305   C1283626649       304887.13       263945.32        0               0   \n",
       "100304   C1940815076       180735.97       103652.40        0               0   \n",
       "100303   C1142840636       545669.97        25148.24        0               0   \n",
       "100302    C734480558        98196.34         5299.16        0               0   \n",
       "100301    C757493898      2343273.84      2694493.70        0               0   \n",
       "100300   C1903512796       189879.48       126545.07        0               0   \n",
       "100299    C793460750      1582183.51      1553511.96        0               0   \n",
       "100298   C1201831265       927861.45       764522.80        0               0   \n",
       "100296    C590624787       935920.50       376878.36        0               0   \n",
       "100295   C1501798121       380556.48      2043047.61        0               0   \n",
       "100294    C384735911      2267808.59      2986599.04        0               0   \n",
       "100293   C2012808675      1773724.07      1635321.98        0               0   \n",
       "100292   C1606145069      1403795.36      1816751.51        0               0   \n",
       "100291   C1304046855      1501429.06      1121520.55        0               0   \n",
       "\n",
       "         balance_change_org  balance_change_dest  rel_balance_change_org  \\\n",
       "4203639          -132238.97            132238.97               -0.003018   \n",
       "4203640           -12814.12                 0.00               -0.000293   \n",
       "4180200            -8301.85                 0.00               -0.000199   \n",
       "4180201          -258483.18            258483.17               -0.006200   \n",
       "100307              6808.99             -6808.99                0.000175   \n",
       "100306            376022.62            -92148.19                0.009751   \n",
       "100305            121569.81            -40941.81                0.003162   \n",
       "100304             77083.58            -77083.57                0.002009   \n",
       "100303            105150.77           -520521.73                0.002748   \n",
       "100302             92897.18            -92897.18                0.002434   \n",
       "100301            216606.82            351219.86                0.005708   \n",
       "100300             30276.77            -63334.41                0.000798   \n",
       "100299            381811.59            -28671.55                0.010171   \n",
       "100298            240542.27           -163338.65                0.006449   \n",
       "100296            310949.66           -559042.14                0.008551   \n",
       "100295            180633.56           1662491.13                0.004992   \n",
       "100294             34874.43            718790.45                0.000965   \n",
       "100293            257404.13           -138402.09                0.007172   \n",
       "100292            136727.29            412956.15                0.003824   \n",
       "100291            379908.51           -379908.51                0.010739   \n",
       "\n",
       "         rel_balance_change_dest  \n",
       "4203639                 0.024824  \n",
       "4203640                      NaN  \n",
       "4180200                      NaN  \n",
       "4180201                 0.040079  \n",
       "100307                 -0.070191  \n",
       "100306                 -0.050827  \n",
       "100305                 -0.134285  \n",
       "100304                 -0.426498  \n",
       "100303                 -0.953913  \n",
       "100302                 -0.946035  \n",
       "100301                  0.149884  \n",
       "100300                 -0.333551  \n",
       "100299                 -0.018122  \n",
       "100298                 -0.176038  \n",
       "100296                 -0.597318  \n",
       "100295                  4.368579  \n",
       "100294                  0.316954  \n",
       "100293                 -0.078029  \n",
       "100292                  0.294171  \n",
       "100291                 -0.253031  "
      ]
     },
     "execution_count": 101,
     "metadata": {},
     "output_type": "execute_result"
    }
   ],
   "source": [
    "df.nlargest(20, 'oldbalanceOrg')"
   ]
  },
  {
   "cell_type": "code",
   "execution_count": 102,
   "id": "8ffbcd64",
   "metadata": {},
   "outputs": [
    {
     "data": {
      "image/png": "[encoded data removed]",
      "text/plain": [
       "<Figure size 720x504 with 1 Axes>"
      ]
     },
     "metadata": {
      "needs_background": "light"
     },
     "output_type": "display_data"
    }
   ],
   "source": [
    "plt.figure(figsize = [10,7])\n",
    "sb.barplot(x = df.nlargest(10, 'oldbalanceOrg').client_id, y = df.nlargest(10, 'oldbalanceOrg').oldbalanceOrg)\n",
    "plt.xticks(rotation = 17.5)\n",
    "plt.title('the largest 10 balances before transaction')\n",
    "plt.xlabel('Client Id')\n",
    "plt.ylabel('The Balance')\n",
    "plt.show()\n"
   ]
  },
  {
   "cell_type": "code",
   "execution_count": 103,
   "id": "399b68f5",
   "metadata": {},
   "outputs": [
    {
     "data": {
      "text/plain": [
       "0          160296.36\n",
       "1           19384.72\n",
       "2               0.00\n",
       "3               0.00\n",
       "4           29885.86\n",
       "             ...    \n",
       "6362609         0.00\n",
       "6362610         0.00\n",
       "6362611         0.00\n",
       "6362614         0.00\n",
       "6362615         0.00\n",
       "Name: newbalanceOrig, Length: 6024543, dtype: float64"
      ]
     },
     "execution_count": 103,
     "metadata": {},
     "output_type": "execute_result"
    }
   ],
   "source": [
    "#balance after transaction\n",
    "df.newbalanceOrig"
   ]
  },
  {
   "cell_type": "code",
   "execution_count": 104,
   "id": "689b911e",
   "metadata": {},
   "outputs": [
    {
     "data": {
      "text/plain": [
       "count    6.024543e+06\n",
       "mean     8.859128e+05\n",
       "std      2.969976e+06\n",
       "min      0.000000e+00\n",
       "25%      0.000000e+00\n",
       "50%      0.000000e+00\n",
       "75%      1.602874e+05\n",
       "max      4.368662e+07\n",
       "Name: newbalanceOrig, dtype: float64"
      ]
     },
     "execution_count": 104,
     "metadata": {},
     "output_type": "execute_result"
    }
   ],
   "source": [
    "df.newbalanceOrig.describe()"
   ]
  },
  {
   "cell_type": "code",
   "execution_count": 105,
   "id": "5644a957",
   "metadata": {},
   "outputs": [
    {
     "data": {
      "image/png": "[encoded data removed]",
      "text/plain": [
       "<Figure size 720x504 with 1 Axes>"
      ]
     },
     "metadata": {
      "needs_background": "light"
     },
     "output_type": "display_data"
    }
   ],
   "source": [
    "plt.figure(figsize = [10,7])\n",
    "plt.hist(df.newbalanceOrig, bins = 30)\n",
    "plt.title('the  balance after transaction distribution')\n",
    "plt.show()"
   ]
  },
  {
   "cell_type": "code",
   "execution_count": 106,
   "id": "a716ce69",
   "metadata": {},
   "outputs": [
    {
     "data": {
      "text/html": [
       "<div>\n",
       "<style scoped>\n",
       "    .dataframe tbody tr th:only-of-type {\n",
       "        vertical-align: middle;\n",
       "    }\n",
       "\n",
       "    .dataframe tbody tr th {\n",
       "        vertical-align: top;\n",
       "    }\n",
       "\n",
       "    .dataframe thead th {\n",
       "        text-align: right;\n",
       "    }\n",
       "</style>\n",
       "<table border=\"1\" class=\"dataframe\">\n",
       "  <thead>\n",
       "    <tr style=\"text-align: right;\">\n",
       "      <th></th>\n",
       "      <th>step</th>\n",
       "      <th>type</th>\n",
       "      <th>amount</th>\n",
       "      <th>client_id</th>\n",
       "      <th>oldbalanceOrg</th>\n",
       "      <th>newbalanceOrig</th>\n",
       "      <th>nameDest</th>\n",
       "      <th>oldbalanceDest</th>\n",
       "      <th>newbalanceDest</th>\n",
       "      <th>isFraud</th>\n",
       "      <th>isFlaggedFraud</th>\n",
       "      <th>balance_change_org</th>\n",
       "      <th>balance_change_dest</th>\n",
       "      <th>rel_balance_change_org</th>\n",
       "      <th>rel_balance_change_dest</th>\n",
       "    </tr>\n",
       "  </thead>\n",
       "  <tbody>\n",
       "    <tr>\n",
       "      <th>4203639</th>\n",
       "      <td>305</td>\n",
       "      <td>CASH_OUT</td>\n",
       "      <td>132238.97</td>\n",
       "      <td>559275248</td>\n",
       "      <td>43818855.30</td>\n",
       "      <td>43686616.33</td>\n",
       "      <td>C1114436169</td>\n",
       "      <td>5327024.57</td>\n",
       "      <td>5459263.54</td>\n",
       "      <td>0</td>\n",
       "      <td>0</td>\n",
       "      <td>-132238.97</td>\n",
       "      <td>132238.97</td>\n",
       "      <td>-0.003018</td>\n",
       "      <td>0.024824</td>\n",
       "    </tr>\n",
       "    <tr>\n",
       "      <th>4203640</th>\n",
       "      <td>305</td>\n",
       "      <td>PAYMENT</td>\n",
       "      <td>12814.12</td>\n",
       "      <td>2080486364</td>\n",
       "      <td>43686616.33</td>\n",
       "      <td>43673802.21</td>\n",
       "      <td>M928977012</td>\n",
       "      <td>0.00</td>\n",
       "      <td>0.00</td>\n",
       "      <td>0</td>\n",
       "      <td>0</td>\n",
       "      <td>-12814.12</td>\n",
       "      <td>0.00</td>\n",
       "      <td>-0.000293</td>\n",
       "      <td>NaN</td>\n",
       "    </tr>\n",
       "    <tr>\n",
       "      <th>4180200</th>\n",
       "      <td>304</td>\n",
       "      <td>PAYMENT</td>\n",
       "      <td>8301.85</td>\n",
       "      <td>1568160039</td>\n",
       "      <td>41699144.49</td>\n",
       "      <td>41690842.64</td>\n",
       "      <td>M1906748245</td>\n",
       "      <td>0.00</td>\n",
       "      <td>0.00</td>\n",
       "      <td>0</td>\n",
       "      <td>0</td>\n",
       "      <td>-8301.85</td>\n",
       "      <td>0.00</td>\n",
       "      <td>-0.000199</td>\n",
       "      <td>NaN</td>\n",
       "    </tr>\n",
       "    <tr>\n",
       "      <th>4180201</th>\n",
       "      <td>304</td>\n",
       "      <td>CASH_OUT</td>\n",
       "      <td>258483.17</td>\n",
       "      <td>438977024</td>\n",
       "      <td>41690842.64</td>\n",
       "      <td>41432359.46</td>\n",
       "      <td>C1162702437</td>\n",
       "      <td>6449276.06</td>\n",
       "      <td>6707759.23</td>\n",
       "      <td>0</td>\n",
       "      <td>0</td>\n",
       "      <td>-258483.18</td>\n",
       "      <td>258483.17</td>\n",
       "      <td>-0.006200</td>\n",
       "      <td>0.040079</td>\n",
       "    </tr>\n",
       "    <tr>\n",
       "      <th>100307</th>\n",
       "      <td>10</td>\n",
       "      <td>CASH_IN</td>\n",
       "      <td>6808.99</td>\n",
       "      <td>1841909664</td>\n",
       "      <td>38939424.03</td>\n",
       "      <td>38946233.02</td>\n",
       "      <td>C734236179</td>\n",
       "      <td>97006.33</td>\n",
       "      <td>90197.34</td>\n",
       "      <td>0</td>\n",
       "      <td>0</td>\n",
       "      <td>6808.99</td>\n",
       "      <td>-6808.99</td>\n",
       "      <td>0.000175</td>\n",
       "      <td>-0.070191</td>\n",
       "    </tr>\n",
       "    <tr>\n",
       "      <th>100306</th>\n",
       "      <td>10</td>\n",
       "      <td>CASH_IN</td>\n",
       "      <td>376022.62</td>\n",
       "      <td>1450387949</td>\n",
       "      <td>38563401.41</td>\n",
       "      <td>38939424.03</td>\n",
       "      <td>C1050374066</td>\n",
       "      <td>1812980.49</td>\n",
       "      <td>1720832.30</td>\n",
       "      <td>0</td>\n",
       "      <td>0</td>\n",
       "      <td>376022.62</td>\n",
       "      <td>-92148.19</td>\n",
       "      <td>0.009751</td>\n",
       "      <td>-0.050827</td>\n",
       "    </tr>\n",
       "    <tr>\n",
       "      <th>100305</th>\n",
       "      <td>10</td>\n",
       "      <td>CASH_IN</td>\n",
       "      <td>121569.82</td>\n",
       "      <td>1576842193</td>\n",
       "      <td>38441831.60</td>\n",
       "      <td>38563401.41</td>\n",
       "      <td>C1283626649</td>\n",
       "      <td>304887.13</td>\n",
       "      <td>263945.32</td>\n",
       "      <td>0</td>\n",
       "      <td>0</td>\n",
       "      <td>121569.81</td>\n",
       "      <td>-40941.81</td>\n",
       "      <td>0.003162</td>\n",
       "      <td>-0.134285</td>\n",
       "    </tr>\n",
       "    <tr>\n",
       "      <th>100304</th>\n",
       "      <td>10</td>\n",
       "      <td>CASH_IN</td>\n",
       "      <td>77083.57</td>\n",
       "      <td>1040382471</td>\n",
       "      <td>38364748.02</td>\n",
       "      <td>38441831.60</td>\n",
       "      <td>C1940815076</td>\n",
       "      <td>180735.97</td>\n",
       "      <td>103652.40</td>\n",
       "      <td>0</td>\n",
       "      <td>0</td>\n",
       "      <td>77083.58</td>\n",
       "      <td>-77083.57</td>\n",
       "      <td>0.002009</td>\n",
       "      <td>-0.426498</td>\n",
       "    </tr>\n",
       "    <tr>\n",
       "      <th>100303</th>\n",
       "      <td>10</td>\n",
       "      <td>CASH_IN</td>\n",
       "      <td>105150.78</td>\n",
       "      <td>1273896430</td>\n",
       "      <td>38259597.25</td>\n",
       "      <td>38364748.02</td>\n",
       "      <td>C1142840636</td>\n",
       "      <td>545669.97</td>\n",
       "      <td>25148.24</td>\n",
       "      <td>0</td>\n",
       "      <td>0</td>\n",
       "      <td>105150.77</td>\n",
       "      <td>-520521.73</td>\n",
       "      <td>0.002748</td>\n",
       "      <td>-0.953913</td>\n",
       "    </tr>\n",
       "    <tr>\n",
       "      <th>100302</th>\n",
       "      <td>10</td>\n",
       "      <td>CASH_IN</td>\n",
       "      <td>92897.18</td>\n",
       "      <td>1319675286</td>\n",
       "      <td>38166700.07</td>\n",
       "      <td>38259597.25</td>\n",
       "      <td>C734480558</td>\n",
       "      <td>98196.34</td>\n",
       "      <td>5299.16</td>\n",
       "      <td>0</td>\n",
       "      <td>0</td>\n",
       "      <td>92897.18</td>\n",
       "      <td>-92897.18</td>\n",
       "      <td>0.002434</td>\n",
       "      <td>-0.946035</td>\n",
       "    </tr>\n",
       "    <tr>\n",
       "      <th>100301</th>\n",
       "      <td>10</td>\n",
       "      <td>CASH_IN</td>\n",
       "      <td>216606.82</td>\n",
       "      <td>1548217173</td>\n",
       "      <td>37950093.25</td>\n",
       "      <td>38166700.07</td>\n",
       "      <td>C757493898</td>\n",
       "      <td>2343273.84</td>\n",
       "      <td>2694493.70</td>\n",
       "      <td>0</td>\n",
       "      <td>0</td>\n",
       "      <td>216606.82</td>\n",
       "      <td>351219.86</td>\n",
       "      <td>0.005708</td>\n",
       "      <td>0.149884</td>\n",
       "    </tr>\n",
       "    <tr>\n",
       "      <th>100300</th>\n",
       "      <td>10</td>\n",
       "      <td>CASH_IN</td>\n",
       "      <td>30276.77</td>\n",
       "      <td>1114046451</td>\n",
       "      <td>37919816.48</td>\n",
       "      <td>37950093.25</td>\n",
       "      <td>C1903512796</td>\n",
       "      <td>189879.48</td>\n",
       "      <td>126545.07</td>\n",
       "      <td>0</td>\n",
       "      <td>0</td>\n",
       "      <td>30276.77</td>\n",
       "      <td>-63334.41</td>\n",
       "      <td>0.000798</td>\n",
       "      <td>-0.333551</td>\n",
       "    </tr>\n",
       "    <tr>\n",
       "      <th>100299</th>\n",
       "      <td>10</td>\n",
       "      <td>CASH_IN</td>\n",
       "      <td>381811.59</td>\n",
       "      <td>697666271</td>\n",
       "      <td>37538004.89</td>\n",
       "      <td>37919816.48</td>\n",
       "      <td>C793460750</td>\n",
       "      <td>1582183.51</td>\n",
       "      <td>1553511.96</td>\n",
       "      <td>0</td>\n",
       "      <td>0</td>\n",
       "      <td>381811.59</td>\n",
       "      <td>-28671.55</td>\n",
       "      <td>0.010171</td>\n",
       "      <td>-0.018122</td>\n",
       "    </tr>\n",
       "    <tr>\n",
       "      <th>100298</th>\n",
       "      <td>10</td>\n",
       "      <td>CASH_IN</td>\n",
       "      <td>240542.27</td>\n",
       "      <td>1677602915</td>\n",
       "      <td>37297462.62</td>\n",
       "      <td>37538004.89</td>\n",
       "      <td>C1201831265</td>\n",
       "      <td>927861.45</td>\n",
       "      <td>764522.80</td>\n",
       "      <td>0</td>\n",
       "      <td>0</td>\n",
       "      <td>240542.27</td>\n",
       "      <td>-163338.65</td>\n",
       "      <td>0.006449</td>\n",
       "      <td>-0.176038</td>\n",
       "    </tr>\n",
       "    <tr>\n",
       "      <th>100296</th>\n",
       "      <td>10</td>\n",
       "      <td>CASH_IN</td>\n",
       "      <td>310949.65</td>\n",
       "      <td>291461366</td>\n",
       "      <td>36365351.05</td>\n",
       "      <td>36676300.71</td>\n",
       "      <td>C590624787</td>\n",
       "      <td>935920.50</td>\n",
       "      <td>376878.36</td>\n",
       "      <td>0</td>\n",
       "      <td>0</td>\n",
       "      <td>310949.66</td>\n",
       "      <td>-559042.14</td>\n",
       "      <td>0.008551</td>\n",
       "      <td>-0.597318</td>\n",
       "    </tr>\n",
       "    <tr>\n",
       "      <th>100295</th>\n",
       "      <td>10</td>\n",
       "      <td>CASH_IN</td>\n",
       "      <td>180633.56</td>\n",
       "      <td>328939348</td>\n",
       "      <td>36184717.49</td>\n",
       "      <td>36365351.05</td>\n",
       "      <td>C1501798121</td>\n",
       "      <td>380556.48</td>\n",
       "      <td>2043047.61</td>\n",
       "      <td>0</td>\n",
       "      <td>0</td>\n",
       "      <td>180633.56</td>\n",
       "      <td>1662491.13</td>\n",
       "      <td>0.004992</td>\n",
       "      <td>4.368579</td>\n",
       "    </tr>\n",
       "    <tr>\n",
       "      <th>100294</th>\n",
       "      <td>10</td>\n",
       "      <td>CASH_IN</td>\n",
       "      <td>34874.43</td>\n",
       "      <td>510235666</td>\n",
       "      <td>36149843.06</td>\n",
       "      <td>36184717.49</td>\n",
       "      <td>C384735911</td>\n",
       "      <td>2267808.59</td>\n",
       "      <td>2986599.04</td>\n",
       "      <td>0</td>\n",
       "      <td>0</td>\n",
       "      <td>34874.43</td>\n",
       "      <td>718790.45</td>\n",
       "      <td>0.000965</td>\n",
       "      <td>0.316954</td>\n",
       "    </tr>\n",
       "    <tr>\n",
       "      <th>100293</th>\n",
       "      <td>10</td>\n",
       "      <td>CASH_IN</td>\n",
       "      <td>257404.12</td>\n",
       "      <td>445072303</td>\n",
       "      <td>35892438.93</td>\n",
       "      <td>36149843.06</td>\n",
       "      <td>C2012808675</td>\n",
       "      <td>1773724.07</td>\n",
       "      <td>1635321.98</td>\n",
       "      <td>0</td>\n",
       "      <td>0</td>\n",
       "      <td>257404.13</td>\n",
       "      <td>-138402.09</td>\n",
       "      <td>0.007172</td>\n",
       "      <td>-0.078029</td>\n",
       "    </tr>\n",
       "    <tr>\n",
       "      <th>100292</th>\n",
       "      <td>10</td>\n",
       "      <td>CASH_IN</td>\n",
       "      <td>136727.29</td>\n",
       "      <td>1839065962</td>\n",
       "      <td>35755711.64</td>\n",
       "      <td>35892438.93</td>\n",
       "      <td>C1606145069</td>\n",
       "      <td>1403795.36</td>\n",
       "      <td>1816751.51</td>\n",
       "      <td>0</td>\n",
       "      <td>0</td>\n",
       "      <td>136727.29</td>\n",
       "      <td>412956.15</td>\n",
       "      <td>0.003824</td>\n",
       "      <td>0.294171</td>\n",
       "    </tr>\n",
       "    <tr>\n",
       "      <th>100291</th>\n",
       "      <td>10</td>\n",
       "      <td>CASH_IN</td>\n",
       "      <td>379908.51</td>\n",
       "      <td>109146052</td>\n",
       "      <td>35375803.13</td>\n",
       "      <td>35755711.64</td>\n",
       "      <td>C1304046855</td>\n",
       "      <td>1501429.06</td>\n",
       "      <td>1121520.55</td>\n",
       "      <td>0</td>\n",
       "      <td>0</td>\n",
       "      <td>379908.51</td>\n",
       "      <td>-379908.51</td>\n",
       "      <td>0.010739</td>\n",
       "      <td>-0.253031</td>\n",
       "    </tr>\n",
       "  </tbody>\n",
       "</table>\n",
       "</div>"
      ],
      "text/plain": [
       "         step      type     amount   client_id  oldbalanceOrg  newbalanceOrig  \\\n",
       "4203639   305  CASH_OUT  132238.97   559275248    43818855.30     43686616.33   \n",
       "4203640   305   PAYMENT   12814.12  2080486364    43686616.33     43673802.21   \n",
       "4180200   304   PAYMENT    8301.85  1568160039    41699144.49     41690842.64   \n",
       "4180201   304  CASH_OUT  258483.17   438977024    41690842.64     41432359.46   \n",
       "100307     10   CASH_IN    6808.99  1841909664    38939424.03     38946233.02   \n",
       "100306     10   CASH_IN  376022.62  1450387949    38563401.41     38939424.03   \n",
       "100305     10   CASH_IN  121569.82  1576842193    38441831.60     38563401.41   \n",
       "100304     10   CASH_IN   77083.57  1040382471    38364748.02     38441831.60   \n",
       "100303     10   CASH_IN  105150.78  1273896430    38259597.25     38364748.02   \n",
       "100302     10   CASH_IN   92897.18  1319675286    38166700.07     38259597.25   \n",
       "100301     10   CASH_IN  216606.82  1548217173    37950093.25     38166700.07   \n",
       "100300     10   CASH_IN   30276.77  1114046451    37919816.48     37950093.25   \n",
       "100299     10   CASH_IN  381811.59   697666271    37538004.89     37919816.48   \n",
       "100298     10   CASH_IN  240542.27  1677602915    37297462.62     37538004.89   \n",
       "100296     10   CASH_IN  310949.65   291461366    36365351.05     36676300.71   \n",
       "100295     10   CASH_IN  180633.56   328939348    36184717.49     36365351.05   \n",
       "100294     10   CASH_IN   34874.43   510235666    36149843.06     36184717.49   \n",
       "100293     10   CASH_IN  257404.12   445072303    35892438.93     36149843.06   \n",
       "100292     10   CASH_IN  136727.29  1839065962    35755711.64     35892438.93   \n",
       "100291     10   CASH_IN  379908.51   109146052    35375803.13     35755711.64   \n",
       "\n",
       "            nameDest  oldbalanceDest  newbalanceDest  isFraud  isFlaggedFraud  \\\n",
       "4203639  C1114436169      5327024.57      5459263.54        0               0   \n",
       "4203640   M928977012            0.00            0.00        0               0   \n",
       "4180200  M1906748245            0.00            0.00        0               0   \n",
       "4180201  C1162702437      6449276.06      6707759.23        0               0   \n",
       "100307    C734236179        97006.33        90197.34        0               0   \n",
       "100306   C1050374066      1812980.49      1720832.30        0               0   \n",
       "100305   C1283626649       304887.13       263945.32        0               0   \n",
       "100304   C1940815076       180735.97       103652.40        0               0   \n",
       "100303   C1142840636       545669.97        25148.24        0               0   \n",
       "100302    C734480558        98196.34         5299.16        0               0   \n",
       "100301    C757493898      2343273.84      2694493.70        0               0   \n",
       "100300   C1903512796       189879.48       126545.07        0               0   \n",
       "100299    C793460750      1582183.51      1553511.96        0               0   \n",
       "100298   C1201831265       927861.45       764522.80        0               0   \n",
       "100296    C590624787       935920.50       376878.36        0               0   \n",
       "100295   C1501798121       380556.48      2043047.61        0               0   \n",
       "100294    C384735911      2267808.59      2986599.04        0               0   \n",
       "100293   C2012808675      1773724.07      1635321.98        0               0   \n",
       "100292   C1606145069      1403795.36      1816751.51        0               0   \n",
       "100291   C1304046855      1501429.06      1121520.55        0               0   \n",
       "\n",
       "         balance_change_org  balance_change_dest  rel_balance_change_org  \\\n",
       "4203639          -132238.97            132238.97               -0.003018   \n",
       "4203640           -12814.12                 0.00               -0.000293   \n",
       "4180200            -8301.85                 0.00               -0.000199   \n",
       "4180201          -258483.18            258483.17               -0.006200   \n",
       "100307              6808.99             -6808.99                0.000175   \n",
       "100306            376022.62            -92148.19                0.009751   \n",
       "100305            121569.81            -40941.81                0.003162   \n",
       "100304             77083.58            -77083.57                0.002009   \n",
       "100303            105150.77           -520521.73                0.002748   \n",
       "100302             92897.18            -92897.18                0.002434   \n",
       "100301            216606.82            351219.86                0.005708   \n",
       "100300             30276.77            -63334.41                0.000798   \n",
       "100299            381811.59            -28671.55                0.010171   \n",
       "100298            240542.27           -163338.65                0.006449   \n",
       "100296            310949.66           -559042.14                0.008551   \n",
       "100295            180633.56           1662491.13                0.004992   \n",
       "100294             34874.43            718790.45                0.000965   \n",
       "100293            257404.13           -138402.09                0.007172   \n",
       "100292            136727.29            412956.15                0.003824   \n",
       "100291            379908.51           -379908.51                0.010739   \n",
       "\n",
       "         rel_balance_change_dest  \n",
       "4203639                 0.024824  \n",
       "4203640                      NaN  \n",
       "4180200                      NaN  \n",
       "4180201                 0.040079  \n",
       "100307                 -0.070191  \n",
       "100306                 -0.050827  \n",
       "100305                 -0.134285  \n",
       "100304                 -0.426498  \n",
       "100303                 -0.953913  \n",
       "100302                 -0.946035  \n",
       "100301                  0.149884  \n",
       "100300                 -0.333551  \n",
       "100299                 -0.018122  \n",
       "100298                 -0.176038  \n",
       "100296                 -0.597318  \n",
       "100295                  4.368579  \n",
       "100294                  0.316954  \n",
       "100293                 -0.078029  \n",
       "100292                  0.294171  \n",
       "100291                 -0.253031  "
      ]
     },
     "execution_count": 106,
     "metadata": {},
     "output_type": "execute_result"
    }
   ],
   "source": [
    "df.nlargest(20, 'newbalanceOrig')"
   ]
  },
  {
   "cell_type": "code",
   "execution_count": 107,
   "id": "47a0f882",
   "metadata": {},
   "outputs": [
    {
     "data": {
      "image/png": "[encoded data removed]",
      "text/plain": [
       "<Figure size 720x504 with 1 Axes>"
      ]
     },
     "metadata": {
      "needs_background": "light"
     },
     "output_type": "display_data"
    }
   ],
   "source": [
    "plt.figure(figsize = [10,7])\n",
    "sb.barplot(x = df.nlargest(10, 'newbalanceOrig').client_id, y = df.nlargest(10, 'newbalanceOrig').newbalanceOrig)\n",
    "plt.xticks(rotation = 17.5)\n",
    "plt.title('the largest 10 balances after transaction')\n",
    "plt.xlabel('Client Id')\n",
    "plt.ylabel('The Balance')\n",
    "plt.show()\n"
   ]
  },
  {
   "cell_type": "code",
   "execution_count": 108,
   "id": "b863991a",
   "metadata": {},
   "outputs": [],
   "source": [
    "#for the largest 10 clients we don't see any change in the balance between the before and after transaction so now I will going to see the difference between the two ranges\n",
    "num_of_samples = 10 / df.shape[0]"
   ]
  },
  {
   "cell_type": "code",
   "execution_count": 109,
   "id": "7be71aa9",
   "metadata": {},
   "outputs": [
    {
     "data": {
      "text/plain": [
       "6024543"
      ]
     },
     "execution_count": 109,
     "metadata": {},
     "output_type": "execute_result"
    }
   ],
   "source": [
    "df.shape[0]"
   ]
  },
  {
   "cell_type": "code",
   "execution_count": 110,
   "id": "94a0c63a",
   "metadata": {},
   "outputs": [],
   "source": [
    "samp1 = df.sample(n = 600000)"
   ]
  },
  {
   "cell_type": "code",
   "execution_count": 111,
   "id": "43395e5a",
   "metadata": {},
   "outputs": [
    {
     "data": {
      "text/html": [
       "<div>\n",
       "<style scoped>\n",
       "    .dataframe tbody tr th:only-of-type {\n",
       "        vertical-align: middle;\n",
       "    }\n",
       "\n",
       "    .dataframe tbody tr th {\n",
       "        vertical-align: top;\n",
       "    }\n",
       "\n",
       "    .dataframe thead th {\n",
       "        text-align: right;\n",
       "    }\n",
       "</style>\n",
       "<table border=\"1\" class=\"dataframe\">\n",
       "  <thead>\n",
       "    <tr style=\"text-align: right;\">\n",
       "      <th></th>\n",
       "      <th>step</th>\n",
       "      <th>type</th>\n",
       "      <th>amount</th>\n",
       "      <th>client_id</th>\n",
       "      <th>oldbalanceOrg</th>\n",
       "      <th>newbalanceOrig</th>\n",
       "      <th>nameDest</th>\n",
       "      <th>oldbalanceDest</th>\n",
       "      <th>newbalanceDest</th>\n",
       "      <th>isFraud</th>\n",
       "      <th>isFlaggedFraud</th>\n",
       "      <th>balance_change_org</th>\n",
       "      <th>balance_change_dest</th>\n",
       "      <th>rel_balance_change_org</th>\n",
       "      <th>rel_balance_change_dest</th>\n",
       "    </tr>\n",
       "  </thead>\n",
       "  <tbody>\n",
       "    <tr>\n",
       "      <th>312229</th>\n",
       "      <td>16</td>\n",
       "      <td>PAYMENT</td>\n",
       "      <td>2589.17</td>\n",
       "      <td>1376469773</td>\n",
       "      <td>0.00</td>\n",
       "      <td>0.00</td>\n",
       "      <td>M1609654804</td>\n",
       "      <td>0.00</td>\n",
       "      <td>0.00</td>\n",
       "      <td>0</td>\n",
       "      <td>0</td>\n",
       "      <td>0.00</td>\n",
       "      <td>0.00</td>\n",
       "      <td>NaN</td>\n",
       "      <td>NaN</td>\n",
       "    </tr>\n",
       "    <tr>\n",
       "      <th>1727811</th>\n",
       "      <td>160</td>\n",
       "      <td>CASH_IN</td>\n",
       "      <td>329966.52</td>\n",
       "      <td>2091971880</td>\n",
       "      <td>6675523.29</td>\n",
       "      <td>7005489.81</td>\n",
       "      <td>C1673666267</td>\n",
       "      <td>10483723.97</td>\n",
       "      <td>10153757.45</td>\n",
       "      <td>0</td>\n",
       "      <td>0</td>\n",
       "      <td>329966.52</td>\n",
       "      <td>-329966.52</td>\n",
       "      <td>0.049429</td>\n",
       "      <td>-0.031474</td>\n",
       "    </tr>\n",
       "    <tr>\n",
       "      <th>229873</th>\n",
       "      <td>14</td>\n",
       "      <td>PAYMENT</td>\n",
       "      <td>19747.40</td>\n",
       "      <td>592749260</td>\n",
       "      <td>0.00</td>\n",
       "      <td>0.00</td>\n",
       "      <td>M1982012416</td>\n",
       "      <td>0.00</td>\n",
       "      <td>0.00</td>\n",
       "      <td>0</td>\n",
       "      <td>0</td>\n",
       "      <td>0.00</td>\n",
       "      <td>0.00</td>\n",
       "      <td>NaN</td>\n",
       "      <td>NaN</td>\n",
       "    </tr>\n",
       "    <tr>\n",
       "      <th>4959925</th>\n",
       "      <td>351</td>\n",
       "      <td>PAYMENT</td>\n",
       "      <td>10677.51</td>\n",
       "      <td>1891271717</td>\n",
       "      <td>630646.00</td>\n",
       "      <td>619968.49</td>\n",
       "      <td>M468217843</td>\n",
       "      <td>0.00</td>\n",
       "      <td>0.00</td>\n",
       "      <td>0</td>\n",
       "      <td>0</td>\n",
       "      <td>-10677.51</td>\n",
       "      <td>0.00</td>\n",
       "      <td>-0.016931</td>\n",
       "      <td>NaN</td>\n",
       "    </tr>\n",
       "    <tr>\n",
       "      <th>1504820</th>\n",
       "      <td>143</td>\n",
       "      <td>PAYMENT</td>\n",
       "      <td>2080.83</td>\n",
       "      <td>466518595</td>\n",
       "      <td>312180.00</td>\n",
       "      <td>310099.17</td>\n",
       "      <td>M34284926</td>\n",
       "      <td>0.00</td>\n",
       "      <td>0.00</td>\n",
       "      <td>0</td>\n",
       "      <td>0</td>\n",
       "      <td>-2080.83</td>\n",
       "      <td>0.00</td>\n",
       "      <td>-0.006665</td>\n",
       "      <td>NaN</td>\n",
       "    </tr>\n",
       "    <tr>\n",
       "      <th>...</th>\n",
       "      <td>...</td>\n",
       "      <td>...</td>\n",
       "      <td>...</td>\n",
       "      <td>...</td>\n",
       "      <td>...</td>\n",
       "      <td>...</td>\n",
       "      <td>...</td>\n",
       "      <td>...</td>\n",
       "      <td>...</td>\n",
       "      <td>...</td>\n",
       "      <td>...</td>\n",
       "      <td>...</td>\n",
       "      <td>...</td>\n",
       "      <td>...</td>\n",
       "      <td>...</td>\n",
       "    </tr>\n",
       "    <tr>\n",
       "      <th>2593568</th>\n",
       "      <td>207</td>\n",
       "      <td>CASH_OUT</td>\n",
       "      <td>66088.45</td>\n",
       "      <td>936988749</td>\n",
       "      <td>0.00</td>\n",
       "      <td>0.00</td>\n",
       "      <td>C66330156</td>\n",
       "      <td>1403685.82</td>\n",
       "      <td>1469774.27</td>\n",
       "      <td>0</td>\n",
       "      <td>0</td>\n",
       "      <td>0.00</td>\n",
       "      <td>66088.45</td>\n",
       "      <td>NaN</td>\n",
       "      <td>0.047082</td>\n",
       "    </tr>\n",
       "    <tr>\n",
       "      <th>961082</th>\n",
       "      <td>44</td>\n",
       "      <td>PAYMENT</td>\n",
       "      <td>5843.70</td>\n",
       "      <td>1007338385</td>\n",
       "      <td>20148.00</td>\n",
       "      <td>14304.30</td>\n",
       "      <td>M334753885</td>\n",
       "      <td>0.00</td>\n",
       "      <td>0.00</td>\n",
       "      <td>0</td>\n",
       "      <td>0</td>\n",
       "      <td>-5843.70</td>\n",
       "      <td>0.00</td>\n",
       "      <td>-0.290039</td>\n",
       "      <td>NaN</td>\n",
       "    </tr>\n",
       "    <tr>\n",
       "      <th>2715167</th>\n",
       "      <td>211</td>\n",
       "      <td>PAYMENT</td>\n",
       "      <td>11614.51</td>\n",
       "      <td>272923742</td>\n",
       "      <td>117.00</td>\n",
       "      <td>0.00</td>\n",
       "      <td>M270998017</td>\n",
       "      <td>0.00</td>\n",
       "      <td>0.00</td>\n",
       "      <td>0</td>\n",
       "      <td>0</td>\n",
       "      <td>-117.00</td>\n",
       "      <td>0.00</td>\n",
       "      <td>-1.000000</td>\n",
       "      <td>NaN</td>\n",
       "    </tr>\n",
       "    <tr>\n",
       "      <th>334623</th>\n",
       "      <td>16</td>\n",
       "      <td>CASH_OUT</td>\n",
       "      <td>159666.58</td>\n",
       "      <td>170397135</td>\n",
       "      <td>0.00</td>\n",
       "      <td>0.00</td>\n",
       "      <td>C861057755</td>\n",
       "      <td>609298.65</td>\n",
       "      <td>768965.23</td>\n",
       "      <td>0</td>\n",
       "      <td>0</td>\n",
       "      <td>0.00</td>\n",
       "      <td>159666.58</td>\n",
       "      <td>NaN</td>\n",
       "      <td>0.262050</td>\n",
       "    </tr>\n",
       "    <tr>\n",
       "      <th>3451391</th>\n",
       "      <td>257</td>\n",
       "      <td>CASH_IN</td>\n",
       "      <td>55733.90</td>\n",
       "      <td>624508850</td>\n",
       "      <td>21580.00</td>\n",
       "      <td>77313.90</td>\n",
       "      <td>C112693492</td>\n",
       "      <td>0.00</td>\n",
       "      <td>0.00</td>\n",
       "      <td>0</td>\n",
       "      <td>0</td>\n",
       "      <td>55733.90</td>\n",
       "      <td>0.00</td>\n",
       "      <td>2.582665</td>\n",
       "      <td>NaN</td>\n",
       "    </tr>\n",
       "  </tbody>\n",
       "</table>\n",
       "<p>600000 rows × 15 columns</p>\n",
       "</div>"
      ],
      "text/plain": [
       "         step      type     amount   client_id  oldbalanceOrg  newbalanceOrig  \\\n",
       "312229     16   PAYMENT    2589.17  1376469773           0.00            0.00   \n",
       "1727811   160   CASH_IN  329966.52  2091971880     6675523.29      7005489.81   \n",
       "229873     14   PAYMENT   19747.40   592749260           0.00            0.00   \n",
       "4959925   351   PAYMENT   10677.51  1891271717      630646.00       619968.49   \n",
       "1504820   143   PAYMENT    2080.83   466518595      312180.00       310099.17   \n",
       "...       ...       ...        ...         ...            ...             ...   \n",
       "2593568   207  CASH_OUT   66088.45   936988749           0.00            0.00   \n",
       "961082     44   PAYMENT    5843.70  1007338385       20148.00        14304.30   \n",
       "2715167   211   PAYMENT   11614.51   272923742         117.00            0.00   \n",
       "334623     16  CASH_OUT  159666.58   170397135           0.00            0.00   \n",
       "3451391   257   CASH_IN   55733.90   624508850       21580.00        77313.90   \n",
       "\n",
       "            nameDest  oldbalanceDest  newbalanceDest  isFraud  isFlaggedFraud  \\\n",
       "312229   M1609654804            0.00            0.00        0               0   \n",
       "1727811  C1673666267     10483723.97     10153757.45        0               0   \n",
       "229873   M1982012416            0.00            0.00        0               0   \n",
       "4959925   M468217843            0.00            0.00        0               0   \n",
       "1504820    M34284926            0.00            0.00        0               0   \n",
       "...              ...             ...             ...      ...             ...   \n",
       "2593568    C66330156      1403685.82      1469774.27        0               0   \n",
       "961082    M334753885            0.00            0.00        0               0   \n",
       "2715167   M270998017            0.00            0.00        0               0   \n",
       "334623    C861057755       609298.65       768965.23        0               0   \n",
       "3451391   C112693492            0.00            0.00        0               0   \n",
       "\n",
       "         balance_change_org  balance_change_dest  rel_balance_change_org  \\\n",
       "312229                 0.00                 0.00                     NaN   \n",
       "1727811           329966.52           -329966.52                0.049429   \n",
       "229873                 0.00                 0.00                     NaN   \n",
       "4959925           -10677.51                 0.00               -0.016931   \n",
       "1504820            -2080.83                 0.00               -0.006665   \n",
       "...                     ...                  ...                     ...   \n",
       "2593568                0.00             66088.45                     NaN   \n",
       "961082             -5843.70                 0.00               -0.290039   \n",
       "2715167             -117.00                 0.00               -1.000000   \n",
       "334623                 0.00            159666.58                     NaN   \n",
       "3451391            55733.90                 0.00                2.582665   \n",
       "\n",
       "         rel_balance_change_dest  \n",
       "312229                       NaN  \n",
       "1727811                -0.031474  \n",
       "229873                       NaN  \n",
       "4959925                      NaN  \n",
       "1504820                      NaN  \n",
       "...                          ...  \n",
       "2593568                 0.047082  \n",
       "961082                       NaN  \n",
       "2715167                      NaN  \n",
       "334623                  0.262050  \n",
       "3451391                      NaN  \n",
       "\n",
       "[600000 rows x 15 columns]"
      ]
     },
     "execution_count": 111,
     "metadata": {},
     "output_type": "execute_result"
    }
   ],
   "source": [
    "samp1"
   ]
  },
  {
   "cell_type": "code",
   "execution_count": 112,
   "id": "d5ffe833",
   "metadata": {},
   "outputs": [
    {
     "data": {
      "image/png": "[encoded data removed]",
      "text/plain": [
       "<Figure size 432x288 with 1 Axes>"
      ]
     },
     "metadata": {
      "needs_background": "light"
     },
     "output_type": "display_data"
    }
   ],
   "source": [
    "sb.scatterplot(x = samp1.oldbalanceOrg, y = samp1.newbalanceOrig)\n",
    "plt.xlabel('the balance before transaction')\n",
    "plt.ylabel('the balance after transaction')\n",
    "plt.show()"
   ]
  },
  {
   "cell_type": "code",
   "execution_count": 113,
   "id": "6adbcfda",
   "metadata": {
    "scrolled": true
   },
   "outputs": [
    {
     "data": {
      "image/png": "[encoded data removed]",
      "text/plain": [
       "<Figure size 576x432 with 2 Axes>"
      ]
     },
     "metadata": {
      "needs_background": "light"
     },
     "output_type": "display_data"
    }
   ],
   "source": [
    "\n",
    "corr_matrix = df[['oldbalanceOrg', 'newbalanceOrig']].corr()\n",
    "\n",
    "plt.figure(figsize=(8, 6))\n",
    "sns.heatmap(corr_matrix, annot=True, cmap='coolwarm', fmt=\".2f\")\n",
    "plt.title('Correlation Heatmap between oldbalanceOrg and newbalanceOrig')\n",
    "plt.show()\n",
    "#the sampling distribution shows an strong positive correlation between the balance between the balance before transaction and balance after transaction and that's mean The higher the account balance => the higher the transfer balance"
   ]
  },
  {
   "cell_type": "code",
   "execution_count": 114,
   "id": "10fd9c01",
   "metadata": {},
   "outputs": [],
   "source": [
    "df['balance_diff'] = df.oldbalanceOrg - df.newbalanceOrig\n",
    "#let's see the difference between the old and new balances in order to show the rate of change between them"
   ]
  },
  {
   "cell_type": "code",
   "execution_count": 115,
   "id": "b596e6d2",
   "metadata": {},
   "outputs": [
    {
     "data": {
      "text/plain": [
       "count    6.024543e+06\n",
       "mean    -2.395505e+04\n",
       "std      9.888992e+04\n",
       "min     -5.017180e+05\n",
       "25%      0.000000e+00\n",
       "50%      0.000000e+00\n",
       "75%      9.776675e+03\n",
       "max      5.016732e+05\n",
       "Name: balance_diff, dtype: float64"
      ]
     },
     "execution_count": 115,
     "metadata": {},
     "output_type": "execute_result"
    }
   ],
   "source": [
    "df.balance_diff.describe()"
   ]
  },
  {
   "cell_type": "code",
   "execution_count": 116,
   "id": "3675306d",
   "metadata": {},
   "outputs": [
    {
     "data": {
      "image/png": "[encoded data removed]",
      "text/plain": [
       "<Figure size 720x504 with 1 Axes>"
      ]
     },
     "metadata": {
      "needs_background": "light"
     },
     "output_type": "display_data"
    }
   ],
   "source": [
    "plt.figure(figsize = [10,7])\n",
    "plt.hist(df.balance_diff, bins=50)\n",
    "plt.title('the  balance after transaction distribution')\n",
    "plt.show()"
   ]
  },
  {
   "cell_type": "code",
   "execution_count": 117,
   "id": "8bb645cf",
   "metadata": {},
   "outputs": [
    {
     "data": {
      "text/html": [
       "<div>\n",
       "<style scoped>\n",
       "    .dataframe tbody tr th:only-of-type {\n",
       "        vertical-align: middle;\n",
       "    }\n",
       "\n",
       "    .dataframe tbody tr th {\n",
       "        vertical-align: top;\n",
       "    }\n",
       "\n",
       "    .dataframe thead th {\n",
       "        text-align: right;\n",
       "    }\n",
       "</style>\n",
       "<table border=\"1\" class=\"dataframe\">\n",
       "  <thead>\n",
       "    <tr style=\"text-align: right;\">\n",
       "      <th></th>\n",
       "      <th>step</th>\n",
       "      <th>type</th>\n",
       "      <th>amount</th>\n",
       "      <th>client_id</th>\n",
       "      <th>oldbalanceOrg</th>\n",
       "      <th>newbalanceOrig</th>\n",
       "      <th>nameDest</th>\n",
       "      <th>oldbalanceDest</th>\n",
       "      <th>newbalanceDest</th>\n",
       "      <th>isFraud</th>\n",
       "      <th>isFlaggedFraud</th>\n",
       "      <th>balance_change_org</th>\n",
       "      <th>balance_change_dest</th>\n",
       "      <th>rel_balance_change_org</th>\n",
       "      <th>rel_balance_change_dest</th>\n",
       "      <th>balance_diff</th>\n",
       "    </tr>\n",
       "  </thead>\n",
       "  <tbody>\n",
       "    <tr>\n",
       "      <th>0</th>\n",
       "      <td>1</td>\n",
       "      <td>PAYMENT</td>\n",
       "      <td>9839.64</td>\n",
       "      <td>1231006815</td>\n",
       "      <td>170136.0</td>\n",
       "      <td>160296.36</td>\n",
       "      <td>M1979787155</td>\n",
       "      <td>0.0</td>\n",
       "      <td>0.0</td>\n",
       "      <td>0</td>\n",
       "      <td>0</td>\n",
       "      <td>-9839.64</td>\n",
       "      <td>0.0</td>\n",
       "      <td>-0.057834</td>\n",
       "      <td>NaN</td>\n",
       "      <td>9839.64</td>\n",
       "    </tr>\n",
       "    <tr>\n",
       "      <th>1</th>\n",
       "      <td>1</td>\n",
       "      <td>PAYMENT</td>\n",
       "      <td>1864.28</td>\n",
       "      <td>1666544295</td>\n",
       "      <td>21249.0</td>\n",
       "      <td>19384.72</td>\n",
       "      <td>M2044282225</td>\n",
       "      <td>0.0</td>\n",
       "      <td>0.0</td>\n",
       "      <td>0</td>\n",
       "      <td>0</td>\n",
       "      <td>-1864.28</td>\n",
       "      <td>0.0</td>\n",
       "      <td>-0.087735</td>\n",
       "      <td>NaN</td>\n",
       "      <td>1864.28</td>\n",
       "    </tr>\n",
       "    <tr>\n",
       "      <th>2</th>\n",
       "      <td>1</td>\n",
       "      <td>TRANSFER</td>\n",
       "      <td>181.00</td>\n",
       "      <td>1305486145</td>\n",
       "      <td>181.0</td>\n",
       "      <td>0.00</td>\n",
       "      <td>C553264065</td>\n",
       "      <td>0.0</td>\n",
       "      <td>0.0</td>\n",
       "      <td>1</td>\n",
       "      <td>0</td>\n",
       "      <td>-181.00</td>\n",
       "      <td>0.0</td>\n",
       "      <td>-1.000000</td>\n",
       "      <td>NaN</td>\n",
       "      <td>181.00</td>\n",
       "    </tr>\n",
       "    <tr>\n",
       "      <th>3</th>\n",
       "      <td>1</td>\n",
       "      <td>CASH_OUT</td>\n",
       "      <td>181.00</td>\n",
       "      <td>840083671</td>\n",
       "      <td>181.0</td>\n",
       "      <td>0.00</td>\n",
       "      <td>C38997010</td>\n",
       "      <td>21182.0</td>\n",
       "      <td>0.0</td>\n",
       "      <td>1</td>\n",
       "      <td>0</td>\n",
       "      <td>-181.00</td>\n",
       "      <td>-21182.0</td>\n",
       "      <td>-1.000000</td>\n",
       "      <td>-1.0</td>\n",
       "      <td>181.00</td>\n",
       "    </tr>\n",
       "    <tr>\n",
       "      <th>4</th>\n",
       "      <td>1</td>\n",
       "      <td>PAYMENT</td>\n",
       "      <td>11668.14</td>\n",
       "      <td>2048537720</td>\n",
       "      <td>41554.0</td>\n",
       "      <td>29885.86</td>\n",
       "      <td>M1230701703</td>\n",
       "      <td>0.0</td>\n",
       "      <td>0.0</td>\n",
       "      <td>0</td>\n",
       "      <td>0</td>\n",
       "      <td>-11668.14</td>\n",
       "      <td>0.0</td>\n",
       "      <td>-0.280795</td>\n",
       "      <td>NaN</td>\n",
       "      <td>11668.14</td>\n",
       "    </tr>\n",
       "  </tbody>\n",
       "</table>\n",
       "</div>"
      ],
      "text/plain": [
       "   step      type    amount   client_id  oldbalanceOrg  newbalanceOrig  \\\n",
       "0     1   PAYMENT   9839.64  1231006815       170136.0       160296.36   \n",
       "1     1   PAYMENT   1864.28  1666544295        21249.0        19384.72   \n",
       "2     1  TRANSFER    181.00  1305486145          181.0            0.00   \n",
       "3     1  CASH_OUT    181.00   840083671          181.0            0.00   \n",
       "4     1   PAYMENT  11668.14  2048537720        41554.0        29885.86   \n",
       "\n",
       "      nameDest  oldbalanceDest  newbalanceDest  isFraud  isFlaggedFraud  \\\n",
       "0  M1979787155             0.0             0.0        0               0   \n",
       "1  M2044282225             0.0             0.0        0               0   \n",
       "2   C553264065             0.0             0.0        1               0   \n",
       "3    C38997010         21182.0             0.0        1               0   \n",
       "4  M1230701703             0.0             0.0        0               0   \n",
       "\n",
       "   balance_change_org  balance_change_dest  rel_balance_change_org  \\\n",
       "0            -9839.64                  0.0               -0.057834   \n",
       "1            -1864.28                  0.0               -0.087735   \n",
       "2             -181.00                  0.0               -1.000000   \n",
       "3             -181.00             -21182.0               -1.000000   \n",
       "4           -11668.14                  0.0               -0.280795   \n",
       "\n",
       "   rel_balance_change_dest  balance_diff  \n",
       "0                      NaN       9839.64  \n",
       "1                      NaN       1864.28  \n",
       "2                      NaN        181.00  \n",
       "3                     -1.0        181.00  \n",
       "4                      NaN      11668.14  "
      ]
     },
     "execution_count": 117,
     "metadata": {},
     "output_type": "execute_result"
    }
   ],
   "source": [
    "#let's see the nameDest which is the id of the distination client\n",
    "df.head()"
   ]
  },
  {
   "cell_type": "code",
   "execution_count": 118,
   "id": "bd262754",
   "metadata": {},
   "outputs": [
    {
     "data": {
      "text/plain": [
       "count         6024543\n",
       "unique        2716238\n",
       "top       C1286084959\n",
       "freq               91\n",
       "Name: nameDest, dtype: object"
      ]
     },
     "execution_count": 118,
     "metadata": {},
     "output_type": "execute_result"
    }
   ],
   "source": [
    "df.nameDest.describe()"
   ]
  },
  {
   "cell_type": "code",
   "execution_count": 119,
   "id": "e92d56a4",
   "metadata": {},
   "outputs": [
    {
     "data": {
      "text/plain": [
       "0    C1286084959\n",
       "Name: nameDest, dtype: object"
      ]
     },
     "execution_count": 119,
     "metadata": {},
     "output_type": "execute_result"
    }
   ],
   "source": [
    "df.nameDest.mode()"
   ]
  },
  {
   "cell_type": "code",
   "execution_count": 120,
   "id": "f7b803a1",
   "metadata": {},
   "outputs": [
    {
     "data": {
      "text/plain": [
       "nameDest\n",
       "C1286084959    91\n",
       "C985934102     87\n",
       "C977993101     86\n",
       "C2083562754    86\n",
       "C1360767589    82\n",
       "C1590550415    82\n",
       "C392292416     81\n",
       "C248609774     81\n",
       "C1789550256    81\n",
       "C451111351     80\n",
       "Name: count, dtype: int64"
      ]
     },
     "execution_count": 120,
     "metadata": {},
     "output_type": "execute_result"
    }
   ],
   "source": [
    "#top 10 dest id\n",
    "n = 10\n",
    "df['nameDest'].value_counts()[:n]"
   ]
  },
  {
   "cell_type": "code",
   "execution_count": 121,
   "id": "7392d333",
   "metadata": {},
   "outputs": [
    {
     "data": {
      "image/png": "[encoded data removed]",
      "text/plain": [
       "<Figure size 720x504 with 1 Axes>"
      ]
     },
     "metadata": {
      "needs_background": "light"
     },
     "output_type": "display_data"
    }
   ],
   "source": [
    "plt.figure(figsize = [10, 7])\n",
    "sb.barplot(x = df['nameDest'].value_counts()[:n].index, y = df['nameDest'].value_counts()[:n].values)\n",
    "plt.xticks(rotation = 20)\n",
    "plt.title('the most 10 frequent distination clients')\n",
    "plt.show()\n",
    "#and here we can say there's an fraud detection because some distination clients like the first one which has 92 transaction some thing may be wrong here and so on\n"
   ]
  },
  {
   "cell_type": "code",
   "execution_count": 122,
   "id": "cec609b8",
   "metadata": {},
   "outputs": [
    {
     "data": {
      "text/html": [
       "<div>\n",
       "<style scoped>\n",
       "    .dataframe tbody tr th:only-of-type {\n",
       "        vertical-align: middle;\n",
       "    }\n",
       "\n",
       "    .dataframe tbody tr th {\n",
       "        vertical-align: top;\n",
       "    }\n",
       "\n",
       "    .dataframe thead th {\n",
       "        text-align: right;\n",
       "    }\n",
       "</style>\n",
       "<table border=\"1\" class=\"dataframe\">\n",
       "  <thead>\n",
       "    <tr style=\"text-align: right;\">\n",
       "      <th></th>\n",
       "      <th>step</th>\n",
       "      <th>type</th>\n",
       "      <th>amount</th>\n",
       "      <th>client_id</th>\n",
       "      <th>oldbalanceOrg</th>\n",
       "      <th>newbalanceOrig</th>\n",
       "      <th>nameDest</th>\n",
       "      <th>oldbalanceDest</th>\n",
       "      <th>newbalanceDest</th>\n",
       "      <th>isFraud</th>\n",
       "      <th>isFlaggedFraud</th>\n",
       "      <th>balance_change_org</th>\n",
       "      <th>balance_change_dest</th>\n",
       "      <th>rel_balance_change_org</th>\n",
       "      <th>rel_balance_change_dest</th>\n",
       "      <th>balance_diff</th>\n",
       "    </tr>\n",
       "  </thead>\n",
       "  <tbody>\n",
       "    <tr>\n",
       "      <th>367</th>\n",
       "      <td>1</td>\n",
       "      <td>TRANSFER</td>\n",
       "      <td>176334.26</td>\n",
       "      <td>169880779</td>\n",
       "      <td>45136.00</td>\n",
       "      <td>0.00</td>\n",
       "      <td>C1286084959</td>\n",
       "      <td>1251626.46</td>\n",
       "      <td>2107778.11</td>\n",
       "      <td>0</td>\n",
       "      <td>0</td>\n",
       "      <td>-45136.00</td>\n",
       "      <td>856151.65</td>\n",
       "      <td>-1.000000</td>\n",
       "      <td>0.684031</td>\n",
       "      <td>45136.00</td>\n",
       "    </tr>\n",
       "    <tr>\n",
       "      <th>388</th>\n",
       "      <td>1</td>\n",
       "      <td>CASH_OUT</td>\n",
       "      <td>373068.26</td>\n",
       "      <td>1047934137</td>\n",
       "      <td>20034.00</td>\n",
       "      <td>0.00</td>\n",
       "      <td>C1286084959</td>\n",
       "      <td>1427960.73</td>\n",
       "      <td>2107778.11</td>\n",
       "      <td>0</td>\n",
       "      <td>0</td>\n",
       "      <td>-20034.00</td>\n",
       "      <td>679817.38</td>\n",
       "      <td>-1.000000</td>\n",
       "      <td>0.476076</td>\n",
       "      <td>20034.00</td>\n",
       "    </tr>\n",
       "    <tr>\n",
       "      <th>471</th>\n",
       "      <td>1</td>\n",
       "      <td>CASH_IN</td>\n",
       "      <td>403418.39</td>\n",
       "      <td>848097505</td>\n",
       "      <td>3834666.95</td>\n",
       "      <td>4238085.34</td>\n",
       "      <td>C1286084959</td>\n",
       "      <td>1801028.99</td>\n",
       "      <td>2107778.11</td>\n",
       "      <td>0</td>\n",
       "      <td>0</td>\n",
       "      <td>403418.39</td>\n",
       "      <td>306749.12</td>\n",
       "      <td>0.105203</td>\n",
       "      <td>0.170319</td>\n",
       "      <td>-403418.39</td>\n",
       "    </tr>\n",
       "    <tr>\n",
       "      <th>642</th>\n",
       "      <td>1</td>\n",
       "      <td>CASH_IN</td>\n",
       "      <td>222126.95</td>\n",
       "      <td>870322840</td>\n",
       "      <td>6688712.64</td>\n",
       "      <td>6910839.59</td>\n",
       "      <td>C1286084959</td>\n",
       "      <td>1397610.60</td>\n",
       "      <td>2107778.11</td>\n",
       "      <td>0</td>\n",
       "      <td>0</td>\n",
       "      <td>222126.95</td>\n",
       "      <td>710167.51</td>\n",
       "      <td>0.033209</td>\n",
       "      <td>0.508130</td>\n",
       "      <td>-222126.95</td>\n",
       "    </tr>\n",
       "    <tr>\n",
       "      <th>659</th>\n",
       "      <td>1</td>\n",
       "      <td>CASH_IN</td>\n",
       "      <td>317393.38</td>\n",
       "      <td>1197721383</td>\n",
       "      <td>8906617.38</td>\n",
       "      <td>9224010.75</td>\n",
       "      <td>C1286084959</td>\n",
       "      <td>1175483.65</td>\n",
       "      <td>2107778.11</td>\n",
       "      <td>0</td>\n",
       "      <td>0</td>\n",
       "      <td>317393.37</td>\n",
       "      <td>932294.46</td>\n",
       "      <td>0.035636</td>\n",
       "      <td>0.793116</td>\n",
       "      <td>-317393.37</td>\n",
       "    </tr>\n",
       "    <tr>\n",
       "      <th>...</th>\n",
       "      <td>...</td>\n",
       "      <td>...</td>\n",
       "      <td>...</td>\n",
       "      <td>...</td>\n",
       "      <td>...</td>\n",
       "      <td>...</td>\n",
       "      <td>...</td>\n",
       "      <td>...</td>\n",
       "      <td>...</td>\n",
       "      <td>...</td>\n",
       "      <td>...</td>\n",
       "      <td>...</td>\n",
       "      <td>...</td>\n",
       "      <td>...</td>\n",
       "      <td>...</td>\n",
       "      <td>...</td>\n",
       "    </tr>\n",
       "    <tr>\n",
       "      <th>4810092</th>\n",
       "      <td>346</td>\n",
       "      <td>CASH_OUT</td>\n",
       "      <td>84205.39</td>\n",
       "      <td>86576996</td>\n",
       "      <td>0.00</td>\n",
       "      <td>0.00</td>\n",
       "      <td>C1286084959</td>\n",
       "      <td>61680519.75</td>\n",
       "      <td>61764725.14</td>\n",
       "      <td>0</td>\n",
       "      <td>0</td>\n",
       "      <td>0.00</td>\n",
       "      <td>84205.39</td>\n",
       "      <td>NaN</td>\n",
       "      <td>0.001365</td>\n",
       "      <td>0.00</td>\n",
       "    </tr>\n",
       "    <tr>\n",
       "      <th>4832993</th>\n",
       "      <td>347</td>\n",
       "      <td>CASH_OUT</td>\n",
       "      <td>235564.75</td>\n",
       "      <td>1068656420</td>\n",
       "      <td>0.00</td>\n",
       "      <td>0.00</td>\n",
       "      <td>C1286084959</td>\n",
       "      <td>61764725.14</td>\n",
       "      <td>62000289.89</td>\n",
       "      <td>0</td>\n",
       "      <td>0</td>\n",
       "      <td>0.00</td>\n",
       "      <td>235564.75</td>\n",
       "      <td>NaN</td>\n",
       "      <td>0.003814</td>\n",
       "      <td>0.00</td>\n",
       "    </tr>\n",
       "    <tr>\n",
       "      <th>5566959</th>\n",
       "      <td>393</td>\n",
       "      <td>CASH_IN</td>\n",
       "      <td>119568.31</td>\n",
       "      <td>1878371174</td>\n",
       "      <td>8348248.96</td>\n",
       "      <td>8467817.28</td>\n",
       "      <td>C1286084959</td>\n",
       "      <td>62000289.89</td>\n",
       "      <td>61880721.58</td>\n",
       "      <td>0</td>\n",
       "      <td>0</td>\n",
       "      <td>119568.32</td>\n",
       "      <td>-119568.31</td>\n",
       "      <td>0.014323</td>\n",
       "      <td>-0.001929</td>\n",
       "      <td>-119568.32</td>\n",
       "    </tr>\n",
       "    <tr>\n",
       "      <th>5596560</th>\n",
       "      <td>394</td>\n",
       "      <td>CASH_OUT</td>\n",
       "      <td>381887.53</td>\n",
       "      <td>1789981744</td>\n",
       "      <td>50447.00</td>\n",
       "      <td>0.00</td>\n",
       "      <td>C1286084959</td>\n",
       "      <td>61880721.58</td>\n",
       "      <td>62262609.11</td>\n",
       "      <td>0</td>\n",
       "      <td>0</td>\n",
       "      <td>-50447.00</td>\n",
       "      <td>381887.53</td>\n",
       "      <td>-1.000000</td>\n",
       "      <td>0.006171</td>\n",
       "      <td>50447.00</td>\n",
       "    </tr>\n",
       "    <tr>\n",
       "      <th>5792331</th>\n",
       "      <td>401</td>\n",
       "      <td>CASH_OUT</td>\n",
       "      <td>189251.84</td>\n",
       "      <td>1256632176</td>\n",
       "      <td>22224.00</td>\n",
       "      <td>0.00</td>\n",
       "      <td>C1286084959</td>\n",
       "      <td>62262609.11</td>\n",
       "      <td>62451860.94</td>\n",
       "      <td>0</td>\n",
       "      <td>0</td>\n",
       "      <td>-22224.00</td>\n",
       "      <td>189251.83</td>\n",
       "      <td>-1.000000</td>\n",
       "      <td>0.003040</td>\n",
       "      <td>22224.00</td>\n",
       "    </tr>\n",
       "  </tbody>\n",
       "</table>\n",
       "<p>91 rows × 16 columns</p>\n",
       "</div>"
      ],
      "text/plain": [
       "         step      type     amount   client_id  oldbalanceOrg  newbalanceOrig  \\\n",
       "367         1  TRANSFER  176334.26   169880779       45136.00            0.00   \n",
       "388         1  CASH_OUT  373068.26  1047934137       20034.00            0.00   \n",
       "471         1   CASH_IN  403418.39   848097505     3834666.95      4238085.34   \n",
       "642         1   CASH_IN  222126.95   870322840     6688712.64      6910839.59   \n",
       "659         1   CASH_IN  317393.38  1197721383     8906617.38      9224010.75   \n",
       "...       ...       ...        ...         ...            ...             ...   \n",
       "4810092   346  CASH_OUT   84205.39    86576996           0.00            0.00   \n",
       "4832993   347  CASH_OUT  235564.75  1068656420           0.00            0.00   \n",
       "5566959   393   CASH_IN  119568.31  1878371174     8348248.96      8467817.28   \n",
       "5596560   394  CASH_OUT  381887.53  1789981744       50447.00            0.00   \n",
       "5792331   401  CASH_OUT  189251.84  1256632176       22224.00            0.00   \n",
       "\n",
       "            nameDest  oldbalanceDest  newbalanceDest  isFraud  isFlaggedFraud  \\\n",
       "367      C1286084959      1251626.46      2107778.11        0               0   \n",
       "388      C1286084959      1427960.73      2107778.11        0               0   \n",
       "471      C1286084959      1801028.99      2107778.11        0               0   \n",
       "642      C1286084959      1397610.60      2107778.11        0               0   \n",
       "659      C1286084959      1175483.65      2107778.11        0               0   \n",
       "...              ...             ...             ...      ...             ...   \n",
       "4810092  C1286084959     61680519.75     61764725.14        0               0   \n",
       "4832993  C1286084959     61764725.14     62000289.89        0               0   \n",
       "5566959  C1286084959     62000289.89     61880721.58        0               0   \n",
       "5596560  C1286084959     61880721.58     62262609.11        0               0   \n",
       "5792331  C1286084959     62262609.11     62451860.94        0               0   \n",
       "\n",
       "         balance_change_org  balance_change_dest  rel_balance_change_org  \\\n",
       "367               -45136.00            856151.65               -1.000000   \n",
       "388               -20034.00            679817.38               -1.000000   \n",
       "471               403418.39            306749.12                0.105203   \n",
       "642               222126.95            710167.51                0.033209   \n",
       "659               317393.37            932294.46                0.035636   \n",
       "...                     ...                  ...                     ...   \n",
       "4810092                0.00             84205.39                     NaN   \n",
       "4832993                0.00            235564.75                     NaN   \n",
       "5566959           119568.32           -119568.31                0.014323   \n",
       "5596560           -50447.00            381887.53               -1.000000   \n",
       "5792331           -22224.00            189251.83               -1.000000   \n",
       "\n",
       "         rel_balance_change_dest  balance_diff  \n",
       "367                     0.684031      45136.00  \n",
       "388                     0.476076      20034.00  \n",
       "471                     0.170319    -403418.39  \n",
       "642                     0.508130    -222126.95  \n",
       "659                     0.793116    -317393.37  \n",
       "...                          ...           ...  \n",
       "4810092                 0.001365          0.00  \n",
       "4832993                 0.003814          0.00  \n",
       "5566959                -0.001929    -119568.32  \n",
       "5596560                 0.006171      50447.00  \n",
       "5792331                 0.003040      22224.00  \n",
       "\n",
       "[91 rows x 16 columns]"
      ]
     },
     "execution_count": 122,
     "metadata": {},
     "output_type": "execute_result"
    }
   ],
   "source": [
    "df[df.nameDest == 'C1286084959']"
   ]
  },
  {
   "cell_type": "code",
   "execution_count": 123,
   "id": "acbf424c",
   "metadata": {},
   "outputs": [
    {
     "data": {
      "text/html": [
       "<div>\n",
       "<style scoped>\n",
       "    .dataframe tbody tr th:only-of-type {\n",
       "        vertical-align: middle;\n",
       "    }\n",
       "\n",
       "    .dataframe tbody tr th {\n",
       "        vertical-align: top;\n",
       "    }\n",
       "\n",
       "    .dataframe thead th {\n",
       "        text-align: right;\n",
       "    }\n",
       "</style>\n",
       "<table border=\"1\" class=\"dataframe\">\n",
       "  <thead>\n",
       "    <tr style=\"text-align: right;\">\n",
       "      <th></th>\n",
       "      <th>step</th>\n",
       "      <th>amount</th>\n",
       "      <th>client_id</th>\n",
       "      <th>oldbalanceOrg</th>\n",
       "      <th>newbalanceOrig</th>\n",
       "      <th>oldbalanceDest</th>\n",
       "      <th>newbalanceDest</th>\n",
       "      <th>isFraud</th>\n",
       "      <th>isFlaggedFraud</th>\n",
       "      <th>balance_change_org</th>\n",
       "      <th>balance_change_dest</th>\n",
       "      <th>rel_balance_change_org</th>\n",
       "      <th>rel_balance_change_dest</th>\n",
       "      <th>balance_diff</th>\n",
       "    </tr>\n",
       "  </thead>\n",
       "  <tbody>\n",
       "    <tr>\n",
       "      <th>count</th>\n",
       "      <td>91.000000</td>\n",
       "      <td>91.000000</td>\n",
       "      <td>9.100000e+01</td>\n",
       "      <td>9.100000e+01</td>\n",
       "      <td>9.100000e+01</td>\n",
       "      <td>9.100000e+01</td>\n",
       "      <td>9.100000e+01</td>\n",
       "      <td>91.0</td>\n",
       "      <td>91.0</td>\n",
       "      <td>91.000000</td>\n",
       "      <td>9.100000e+01</td>\n",
       "      <td>57.000000</td>\n",
       "      <td>91.000000</td>\n",
       "      <td>91.000000</td>\n",
       "    </tr>\n",
       "    <tr>\n",
       "      <th>mean</th>\n",
       "      <td>50.714286</td>\n",
       "      <td>206309.763297</td>\n",
       "      <td>1.002663e+09</td>\n",
       "      <td>1.892348e+06</td>\n",
       "      <td>1.953412e+06</td>\n",
       "      <td>1.362347e+07</td>\n",
       "      <td>1.437131e+07</td>\n",
       "      <td>0.0</td>\n",
       "      <td>0.0</td>\n",
       "      <td>61064.217582</td>\n",
       "      <td>7.478390e+05</td>\n",
       "      <td>9.572934</td>\n",
       "      <td>0.170612</td>\n",
       "      <td>-61064.217582</td>\n",
       "    </tr>\n",
       "    <tr>\n",
       "      <th>std</th>\n",
       "      <td>103.593145</td>\n",
       "      <td>132179.220078</td>\n",
       "      <td>6.406173e+08</td>\n",
       "      <td>2.819321e+06</td>\n",
       "      <td>2.907859e+06</td>\n",
       "      <td>1.564074e+07</td>\n",
       "      <td>1.545007e+07</td>\n",
       "      <td>0.0</td>\n",
       "      <td>0.0</td>\n",
       "      <td>140952.576098</td>\n",
       "      <td>1.296052e+06</td>\n",
       "      <td>65.770061</td>\n",
       "      <td>0.374665</td>\n",
       "      <td>140952.576098</td>\n",
       "    </tr>\n",
       "    <tr>\n",
       "      <th>min</th>\n",
       "      <td>1.000000</td>\n",
       "      <td>2373.110000</td>\n",
       "      <td>1.311740e+07</td>\n",
       "      <td>0.000000e+00</td>\n",
       "      <td>0.000000e+00</td>\n",
       "      <td>8.580903e+05</td>\n",
       "      <td>1.378570e+06</td>\n",
       "      <td>0.0</td>\n",
       "      <td>0.0</td>\n",
       "      <td>-274115.550000</td>\n",
       "      <td>-7.850882e+05</td>\n",
       "      <td>-1.000000</td>\n",
       "      <td>-0.283426</td>\n",
       "      <td>-425052.420000</td>\n",
       "    </tr>\n",
       "    <tr>\n",
       "      <th>25%</th>\n",
       "      <td>2.500000</td>\n",
       "      <td>98940.590000</td>\n",
       "      <td>5.029396e+08</td>\n",
       "      <td>0.000000e+00</td>\n",
       "      <td>0.000000e+00</td>\n",
       "      <td>2.584442e+06</td>\n",
       "      <td>2.107778e+06</td>\n",
       "      <td>0.0</td>\n",
       "      <td>0.0</td>\n",
       "      <td>0.000000</td>\n",
       "      <td>-1.932565e+04</td>\n",
       "      <td>-1.000000</td>\n",
       "      <td>-0.000304</td>\n",
       "      <td>-132708.380000</td>\n",
       "    </tr>\n",
       "    <tr>\n",
       "      <th>50%</th>\n",
       "      <td>8.000000</td>\n",
       "      <td>189251.840000</td>\n",
       "      <td>9.600608e+08</td>\n",
       "      <td>5.819826e+04</td>\n",
       "      <td>0.000000e+00</td>\n",
       "      <td>1.162832e+07</td>\n",
       "      <td>1.295976e+07</td>\n",
       "      <td>0.0</td>\n",
       "      <td>0.0</td>\n",
       "      <td>0.000000</td>\n",
       "      <td>2.661832e+05</td>\n",
       "      <td>0.017230</td>\n",
       "      <td>0.018984</td>\n",
       "      <td>0.000000</td>\n",
       "    </tr>\n",
       "    <tr>\n",
       "      <th>75%</th>\n",
       "      <td>17.500000</td>\n",
       "      <td>288275.840000</td>\n",
       "      <td>1.641864e+09</td>\n",
       "      <td>3.664394e+06</td>\n",
       "      <td>3.997775e+06</td>\n",
       "      <td>1.874441e+07</td>\n",
       "      <td>1.889081e+07</td>\n",
       "      <td>0.0</td>\n",
       "      <td>0.0</td>\n",
       "      <td>132708.380000</td>\n",
       "      <td>1.192300e+06</td>\n",
       "      <td>0.049719</td>\n",
       "      <td>0.182261</td>\n",
       "      <td>0.000000</td>\n",
       "    </tr>\n",
       "    <tr>\n",
       "      <th>max</th>\n",
       "      <td>401.000000</td>\n",
       "      <td>483544.300000</td>\n",
       "      <td>2.112648e+09</td>\n",
       "      <td>1.092285e+07</td>\n",
       "      <td>1.104356e+07</td>\n",
       "      <td>6.226261e+07</td>\n",
       "      <td>6.245186e+07</td>\n",
       "      <td>0.0</td>\n",
       "      <td>0.0</td>\n",
       "      <td>425052.420000</td>\n",
       "      <td>4.659009e+06</td>\n",
       "      <td>492.687567</td>\n",
       "      <td>1.456359</td>\n",
       "      <td>274115.550000</td>\n",
       "    </tr>\n",
       "  </tbody>\n",
       "</table>\n",
       "</div>"
      ],
      "text/plain": [
       "             step         amount     client_id  oldbalanceOrg  newbalanceOrig  \\\n",
       "count   91.000000      91.000000  9.100000e+01   9.100000e+01    9.100000e+01   \n",
       "mean    50.714286  206309.763297  1.002663e+09   1.892348e+06    1.953412e+06   \n",
       "std    103.593145  132179.220078  6.406173e+08   2.819321e+06    2.907859e+06   \n",
       "min      1.000000    2373.110000  1.311740e+07   0.000000e+00    0.000000e+00   \n",
       "25%      2.500000   98940.590000  5.029396e+08   0.000000e+00    0.000000e+00   \n",
       "50%      8.000000  189251.840000  9.600608e+08   5.819826e+04    0.000000e+00   \n",
       "75%     17.500000  288275.840000  1.641864e+09   3.664394e+06    3.997775e+06   \n",
       "max    401.000000  483544.300000  2.112648e+09   1.092285e+07    1.104356e+07   \n",
       "\n",
       "       oldbalanceDest  newbalanceDest  isFraud  isFlaggedFraud  \\\n",
       "count    9.100000e+01    9.100000e+01     91.0            91.0   \n",
       "mean     1.362347e+07    1.437131e+07      0.0             0.0   \n",
       "std      1.564074e+07    1.545007e+07      0.0             0.0   \n",
       "min      8.580903e+05    1.378570e+06      0.0             0.0   \n",
       "25%      2.584442e+06    2.107778e+06      0.0             0.0   \n",
       "50%      1.162832e+07    1.295976e+07      0.0             0.0   \n",
       "75%      1.874441e+07    1.889081e+07      0.0             0.0   \n",
       "max      6.226261e+07    6.245186e+07      0.0             0.0   \n",
       "\n",
       "       balance_change_org  balance_change_dest  rel_balance_change_org  \\\n",
       "count           91.000000         9.100000e+01               57.000000   \n",
       "mean         61064.217582         7.478390e+05                9.572934   \n",
       "std         140952.576098         1.296052e+06               65.770061   \n",
       "min        -274115.550000        -7.850882e+05               -1.000000   \n",
       "25%              0.000000        -1.932565e+04               -1.000000   \n",
       "50%              0.000000         2.661832e+05                0.017230   \n",
       "75%         132708.380000         1.192300e+06                0.049719   \n",
       "max         425052.420000         4.659009e+06              492.687567   \n",
       "\n",
       "       rel_balance_change_dest   balance_diff  \n",
       "count                91.000000      91.000000  \n",
       "mean                  0.170612  -61064.217582  \n",
       "std                   0.374665  140952.576098  \n",
       "min                  -0.283426 -425052.420000  \n",
       "25%                  -0.000304 -132708.380000  \n",
       "50%                   0.018984       0.000000  \n",
       "75%                   0.182261       0.000000  \n",
       "max                   1.456359  274115.550000  "
      ]
     },
     "execution_count": 123,
     "metadata": {},
     "output_type": "execute_result"
    }
   ],
   "source": [
    "totti = df[df.nameDest == 'C1286084959']\n",
    "totti.describe()"
   ]
  },
  {
   "cell_type": "code",
   "execution_count": 124,
   "id": "01c0c080",
   "metadata": {},
   "outputs": [
    {
     "data": {
      "text/plain": [
       "62451860.0"
      ]
     },
     "execution_count": 124,
     "metadata": {},
     "output_type": "execute_result"
    }
   ],
   "source": [
    "6.245186e+07"
   ]
  },
  {
   "cell_type": "code",
   "execution_count": 125,
   "id": "ca9680af",
   "metadata": {},
   "outputs": [
    {
     "data": {
      "text/html": [
       "<div>\n",
       "<style scoped>\n",
       "    .dataframe tbody tr th:only-of-type {\n",
       "        vertical-align: middle;\n",
       "    }\n",
       "\n",
       "    .dataframe tbody tr th {\n",
       "        vertical-align: top;\n",
       "    }\n",
       "\n",
       "    .dataframe thead th {\n",
       "        text-align: right;\n",
       "    }\n",
       "</style>\n",
       "<table border=\"1\" class=\"dataframe\">\n",
       "  <thead>\n",
       "    <tr style=\"text-align: right;\">\n",
       "      <th></th>\n",
       "      <th>step</th>\n",
       "      <th>type</th>\n",
       "      <th>amount</th>\n",
       "      <th>client_id</th>\n",
       "      <th>oldbalanceOrg</th>\n",
       "      <th>newbalanceOrig</th>\n",
       "      <th>nameDest</th>\n",
       "      <th>oldbalanceDest</th>\n",
       "      <th>newbalanceDest</th>\n",
       "      <th>isFraud</th>\n",
       "      <th>isFlaggedFraud</th>\n",
       "      <th>balance_change_org</th>\n",
       "      <th>balance_change_dest</th>\n",
       "      <th>rel_balance_change_org</th>\n",
       "      <th>rel_balance_change_dest</th>\n",
       "      <th>balance_diff</th>\n",
       "    </tr>\n",
       "  </thead>\n",
       "  <tbody>\n",
       "    <tr>\n",
       "      <th>5792331</th>\n",
       "      <td>401</td>\n",
       "      <td>CASH_OUT</td>\n",
       "      <td>189251.84</td>\n",
       "      <td>1256632176</td>\n",
       "      <td>22224.0</td>\n",
       "      <td>0.0</td>\n",
       "      <td>C1286084959</td>\n",
       "      <td>62262609.11</td>\n",
       "      <td>62451860.94</td>\n",
       "      <td>0</td>\n",
       "      <td>0</td>\n",
       "      <td>-22224.0</td>\n",
       "      <td>189251.83</td>\n",
       "      <td>-1.0</td>\n",
       "      <td>0.00304</td>\n",
       "      <td>22224.0</td>\n",
       "    </tr>\n",
       "  </tbody>\n",
       "</table>\n",
       "</div>"
      ],
      "text/plain": [
       "         step      type     amount   client_id  oldbalanceOrg  newbalanceOrig  \\\n",
       "5792331   401  CASH_OUT  189251.84  1256632176        22224.0             0.0   \n",
       "\n",
       "            nameDest  oldbalanceDest  newbalanceDest  isFraud  isFlaggedFraud  \\\n",
       "5792331  C1286084959     62262609.11     62451860.94        0               0   \n",
       "\n",
       "         balance_change_org  balance_change_dest  rel_balance_change_org  \\\n",
       "5792331            -22224.0            189251.83                    -1.0   \n",
       "\n",
       "         rel_balance_change_dest  balance_diff  \n",
       "5792331                  0.00304       22224.0  "
      ]
     },
     "execution_count": 125,
     "metadata": {},
     "output_type": "execute_result"
    }
   ],
   "source": [
    "totti[totti.newbalanceDest == totti.newbalanceDest.max()]"
   ]
  },
  {
   "cell_type": "code",
   "execution_count": 126,
   "id": "3cff10a5",
   "metadata": {},
   "outputs": [
    {
     "data": {
      "text/html": [
       "<div>\n",
       "<style scoped>\n",
       "    .dataframe tbody tr th:only-of-type {\n",
       "        vertical-align: middle;\n",
       "    }\n",
       "\n",
       "    .dataframe tbody tr th {\n",
       "        vertical-align: top;\n",
       "    }\n",
       "\n",
       "    .dataframe thead th {\n",
       "        text-align: right;\n",
       "    }\n",
       "</style>\n",
       "<table border=\"1\" class=\"dataframe\">\n",
       "  <thead>\n",
       "    <tr style=\"text-align: right;\">\n",
       "      <th></th>\n",
       "      <th>step</th>\n",
       "      <th>type</th>\n",
       "      <th>amount</th>\n",
       "      <th>client_id</th>\n",
       "      <th>oldbalanceOrg</th>\n",
       "      <th>newbalanceOrig</th>\n",
       "      <th>nameDest</th>\n",
       "      <th>oldbalanceDest</th>\n",
       "      <th>newbalanceDest</th>\n",
       "      <th>isFraud</th>\n",
       "      <th>isFlaggedFraud</th>\n",
       "      <th>balance_change_org</th>\n",
       "      <th>balance_change_dest</th>\n",
       "      <th>rel_balance_change_org</th>\n",
       "      <th>rel_balance_change_dest</th>\n",
       "      <th>balance_diff</th>\n",
       "    </tr>\n",
       "  </thead>\n",
       "  <tbody>\n",
       "  </tbody>\n",
       "</table>\n",
       "</div>"
      ],
      "text/plain": [
       "Empty DataFrame\n",
       "Columns: [step, type, amount, client_id, oldbalanceOrg, newbalanceOrig, nameDest, oldbalanceDest, newbalanceDest, isFraud, isFlaggedFraud, balance_change_org, balance_change_dest, rel_balance_change_org, rel_balance_change_dest, balance_diff]\n",
       "Index: []"
      ]
     },
     "execution_count": 126,
     "metadata": {},
     "output_type": "execute_result"
    }
   ],
   "source": [
    "totti[(totti.isFraud == 1) | (totti.isFlaggedFraud == 1)]\n",
    "#this client doesnot have any fraud"
   ]
  },
  {
   "cell_type": "code",
   "execution_count": 127,
   "id": "ad680ed4",
   "metadata": {
    "scrolled": true
   },
   "outputs": [
    {
     "data": {
      "text/html": [
       "<div>\n",
       "<style scoped>\n",
       "    .dataframe tbody tr th:only-of-type {\n",
       "        vertical-align: middle;\n",
       "    }\n",
       "\n",
       "    .dataframe tbody tr th {\n",
       "        vertical-align: top;\n",
       "    }\n",
       "\n",
       "    .dataframe thead th {\n",
       "        text-align: right;\n",
       "    }\n",
       "</style>\n",
       "<table border=\"1\" class=\"dataframe\">\n",
       "  <thead>\n",
       "    <tr style=\"text-align: right;\">\n",
       "      <th></th>\n",
       "      <th>step</th>\n",
       "      <th>type</th>\n",
       "      <th>amount</th>\n",
       "      <th>client_id</th>\n",
       "      <th>oldbalanceOrg</th>\n",
       "      <th>newbalanceOrig</th>\n",
       "      <th>nameDest</th>\n",
       "      <th>oldbalanceDest</th>\n",
       "      <th>newbalanceDest</th>\n",
       "      <th>isFraud</th>\n",
       "      <th>isFlaggedFraud</th>\n",
       "      <th>balance_change_org</th>\n",
       "      <th>balance_change_dest</th>\n",
       "      <th>rel_balance_change_org</th>\n",
       "      <th>rel_balance_change_dest</th>\n",
       "      <th>balance_diff</th>\n",
       "    </tr>\n",
       "  </thead>\n",
       "  <tbody>\n",
       "    <tr>\n",
       "      <th>2</th>\n",
       "      <td>1</td>\n",
       "      <td>TRANSFER</td>\n",
       "      <td>181.00</td>\n",
       "      <td>1305486145</td>\n",
       "      <td>181.00</td>\n",
       "      <td>0.0</td>\n",
       "      <td>C553264065</td>\n",
       "      <td>0.00</td>\n",
       "      <td>0.00</td>\n",
       "      <td>1</td>\n",
       "      <td>0</td>\n",
       "      <td>-181.00</td>\n",
       "      <td>0.00</td>\n",
       "      <td>-1.0</td>\n",
       "      <td>NaN</td>\n",
       "      <td>181.00</td>\n",
       "    </tr>\n",
       "    <tr>\n",
       "      <th>3</th>\n",
       "      <td>1</td>\n",
       "      <td>CASH_OUT</td>\n",
       "      <td>181.00</td>\n",
       "      <td>840083671</td>\n",
       "      <td>181.00</td>\n",
       "      <td>0.0</td>\n",
       "      <td>C38997010</td>\n",
       "      <td>21182.00</td>\n",
       "      <td>0.00</td>\n",
       "      <td>1</td>\n",
       "      <td>0</td>\n",
       "      <td>-181.00</td>\n",
       "      <td>-21182.00</td>\n",
       "      <td>-1.0</td>\n",
       "      <td>-1.000000</td>\n",
       "      <td>181.00</td>\n",
       "    </tr>\n",
       "    <tr>\n",
       "      <th>251</th>\n",
       "      <td>1</td>\n",
       "      <td>TRANSFER</td>\n",
       "      <td>2806.00</td>\n",
       "      <td>1420196421</td>\n",
       "      <td>2806.00</td>\n",
       "      <td>0.0</td>\n",
       "      <td>C972765878</td>\n",
       "      <td>0.00</td>\n",
       "      <td>0.00</td>\n",
       "      <td>1</td>\n",
       "      <td>0</td>\n",
       "      <td>-2806.00</td>\n",
       "      <td>0.00</td>\n",
       "      <td>-1.0</td>\n",
       "      <td>NaN</td>\n",
       "      <td>2806.00</td>\n",
       "    </tr>\n",
       "    <tr>\n",
       "      <th>252</th>\n",
       "      <td>1</td>\n",
       "      <td>CASH_OUT</td>\n",
       "      <td>2806.00</td>\n",
       "      <td>2101527076</td>\n",
       "      <td>2806.00</td>\n",
       "      <td>0.0</td>\n",
       "      <td>C1007251739</td>\n",
       "      <td>26202.00</td>\n",
       "      <td>0.00</td>\n",
       "      <td>1</td>\n",
       "      <td>0</td>\n",
       "      <td>-2806.00</td>\n",
       "      <td>-26202.00</td>\n",
       "      <td>-1.0</td>\n",
       "      <td>-1.000000</td>\n",
       "      <td>2806.00</td>\n",
       "    </tr>\n",
       "    <tr>\n",
       "      <th>680</th>\n",
       "      <td>1</td>\n",
       "      <td>TRANSFER</td>\n",
       "      <td>20128.00</td>\n",
       "      <td>137533655</td>\n",
       "      <td>20128.00</td>\n",
       "      <td>0.0</td>\n",
       "      <td>C1848415041</td>\n",
       "      <td>0.00</td>\n",
       "      <td>0.00</td>\n",
       "      <td>1</td>\n",
       "      <td>0</td>\n",
       "      <td>-20128.00</td>\n",
       "      <td>0.00</td>\n",
       "      <td>-1.0</td>\n",
       "      <td>NaN</td>\n",
       "      <td>20128.00</td>\n",
       "    </tr>\n",
       "    <tr>\n",
       "      <th>...</th>\n",
       "      <td>...</td>\n",
       "      <td>...</td>\n",
       "      <td>...</td>\n",
       "      <td>...</td>\n",
       "      <td>...</td>\n",
       "      <td>...</td>\n",
       "      <td>...</td>\n",
       "      <td>...</td>\n",
       "      <td>...</td>\n",
       "      <td>...</td>\n",
       "      <td>...</td>\n",
       "      <td>...</td>\n",
       "      <td>...</td>\n",
       "      <td>...</td>\n",
       "      <td>...</td>\n",
       "      <td>...</td>\n",
       "    </tr>\n",
       "    <tr>\n",
       "      <th>6362609</th>\n",
       "      <td>742</td>\n",
       "      <td>CASH_OUT</td>\n",
       "      <td>258355.42</td>\n",
       "      <td>1113162093</td>\n",
       "      <td>258355.42</td>\n",
       "      <td>0.0</td>\n",
       "      <td>C797688696</td>\n",
       "      <td>25176.67</td>\n",
       "      <td>283532.09</td>\n",
       "      <td>1</td>\n",
       "      <td>0</td>\n",
       "      <td>-258355.42</td>\n",
       "      <td>258355.42</td>\n",
       "      <td>-1.0</td>\n",
       "      <td>10.261699</td>\n",
       "      <td>258355.42</td>\n",
       "    </tr>\n",
       "    <tr>\n",
       "      <th>6362610</th>\n",
       "      <td>742</td>\n",
       "      <td>TRANSFER</td>\n",
       "      <td>63416.99</td>\n",
       "      <td>778071008</td>\n",
       "      <td>63416.99</td>\n",
       "      <td>0.0</td>\n",
       "      <td>C1812552860</td>\n",
       "      <td>0.00</td>\n",
       "      <td>0.00</td>\n",
       "      <td>1</td>\n",
       "      <td>0</td>\n",
       "      <td>-63416.99</td>\n",
       "      <td>0.00</td>\n",
       "      <td>-1.0</td>\n",
       "      <td>NaN</td>\n",
       "      <td>63416.99</td>\n",
       "    </tr>\n",
       "    <tr>\n",
       "      <th>6362611</th>\n",
       "      <td>742</td>\n",
       "      <td>CASH_OUT</td>\n",
       "      <td>63416.99</td>\n",
       "      <td>994950684</td>\n",
       "      <td>63416.99</td>\n",
       "      <td>0.0</td>\n",
       "      <td>C1662241365</td>\n",
       "      <td>276433.18</td>\n",
       "      <td>339850.17</td>\n",
       "      <td>1</td>\n",
       "      <td>0</td>\n",
       "      <td>-63416.99</td>\n",
       "      <td>63416.99</td>\n",
       "      <td>-1.0</td>\n",
       "      <td>0.229412</td>\n",
       "      <td>63416.99</td>\n",
       "    </tr>\n",
       "    <tr>\n",
       "      <th>6362614</th>\n",
       "      <td>743</td>\n",
       "      <td>TRANSFER</td>\n",
       "      <td>339682.13</td>\n",
       "      <td>2013999242</td>\n",
       "      <td>339682.13</td>\n",
       "      <td>0.0</td>\n",
       "      <td>C1850423904</td>\n",
       "      <td>0.00</td>\n",
       "      <td>0.00</td>\n",
       "      <td>1</td>\n",
       "      <td>0</td>\n",
       "      <td>-339682.13</td>\n",
       "      <td>0.00</td>\n",
       "      <td>-1.0</td>\n",
       "      <td>NaN</td>\n",
       "      <td>339682.13</td>\n",
       "    </tr>\n",
       "    <tr>\n",
       "      <th>6362615</th>\n",
       "      <td>743</td>\n",
       "      <td>CASH_OUT</td>\n",
       "      <td>339682.13</td>\n",
       "      <td>786484425</td>\n",
       "      <td>339682.13</td>\n",
       "      <td>0.0</td>\n",
       "      <td>C776919290</td>\n",
       "      <td>0.00</td>\n",
       "      <td>339682.13</td>\n",
       "      <td>1</td>\n",
       "      <td>0</td>\n",
       "      <td>-339682.13</td>\n",
       "      <td>339682.13</td>\n",
       "      <td>-1.0</td>\n",
       "      <td>inf</td>\n",
       "      <td>339682.13</td>\n",
       "    </tr>\n",
       "  </tbody>\n",
       "</table>\n",
       "<p>4359 rows × 16 columns</p>\n",
       "</div>"
      ],
      "text/plain": [
       "         step      type     amount   client_id  oldbalanceOrg  newbalanceOrig  \\\n",
       "2           1  TRANSFER     181.00  1305486145         181.00             0.0   \n",
       "3           1  CASH_OUT     181.00   840083671         181.00             0.0   \n",
       "251         1  TRANSFER    2806.00  1420196421        2806.00             0.0   \n",
       "252         1  CASH_OUT    2806.00  2101527076        2806.00             0.0   \n",
       "680         1  TRANSFER   20128.00   137533655       20128.00             0.0   \n",
       "...       ...       ...        ...         ...            ...             ...   \n",
       "6362609   742  CASH_OUT  258355.42  1113162093      258355.42             0.0   \n",
       "6362610   742  TRANSFER   63416.99   778071008       63416.99             0.0   \n",
       "6362611   742  CASH_OUT   63416.99   994950684       63416.99             0.0   \n",
       "6362614   743  TRANSFER  339682.13  2013999242      339682.13             0.0   \n",
       "6362615   743  CASH_OUT  339682.13   786484425      339682.13             0.0   \n",
       "\n",
       "            nameDest  oldbalanceDest  newbalanceDest  isFraud  isFlaggedFraud  \\\n",
       "2         C553264065            0.00            0.00        1               0   \n",
       "3          C38997010        21182.00            0.00        1               0   \n",
       "251       C972765878            0.00            0.00        1               0   \n",
       "252      C1007251739        26202.00            0.00        1               0   \n",
       "680      C1848415041            0.00            0.00        1               0   \n",
       "...              ...             ...             ...      ...             ...   \n",
       "6362609   C797688696        25176.67       283532.09        1               0   \n",
       "6362610  C1812552860            0.00            0.00        1               0   \n",
       "6362611  C1662241365       276433.18       339850.17        1               0   \n",
       "6362614  C1850423904            0.00            0.00        1               0   \n",
       "6362615   C776919290            0.00       339682.13        1               0   \n",
       "\n",
       "         balance_change_org  balance_change_dest  rel_balance_change_org  \\\n",
       "2                   -181.00                 0.00                    -1.0   \n",
       "3                   -181.00            -21182.00                    -1.0   \n",
       "251                -2806.00                 0.00                    -1.0   \n",
       "252                -2806.00            -26202.00                    -1.0   \n",
       "680               -20128.00                 0.00                    -1.0   \n",
       "...                     ...                  ...                     ...   \n",
       "6362609          -258355.42            258355.42                    -1.0   \n",
       "6362610           -63416.99                 0.00                    -1.0   \n",
       "6362611           -63416.99             63416.99                    -1.0   \n",
       "6362614          -339682.13                 0.00                    -1.0   \n",
       "6362615          -339682.13            339682.13                    -1.0   \n",
       "\n",
       "         rel_balance_change_dest  balance_diff  \n",
       "2                            NaN        181.00  \n",
       "3                      -1.000000        181.00  \n",
       "251                          NaN       2806.00  \n",
       "252                    -1.000000       2806.00  \n",
       "680                          NaN      20128.00  \n",
       "...                          ...           ...  \n",
       "6362609                10.261699     258355.42  \n",
       "6362610                      NaN      63416.99  \n",
       "6362611                 0.229412      63416.99  \n",
       "6362614                      NaN     339682.13  \n",
       "6362615                      inf     339682.13  \n",
       "\n",
       "[4359 rows x 16 columns]"
      ]
     },
     "execution_count": 127,
     "metadata": {},
     "output_type": "execute_result"
    }
   ],
   "source": [
    "df[df.isFraud == 1]\n",
    "#most frequent distination client with fraud transaction cases"
   ]
  },
  {
   "cell_type": "code",
   "execution_count": 128,
   "id": "b73c28aa",
   "metadata": {},
   "outputs": [
    {
     "data": {
      "text/html": [
       "<div>\n",
       "<style scoped>\n",
       "    .dataframe tbody tr th:only-of-type {\n",
       "        vertical-align: middle;\n",
       "    }\n",
       "\n",
       "    .dataframe tbody tr th {\n",
       "        vertical-align: top;\n",
       "    }\n",
       "\n",
       "    .dataframe thead th {\n",
       "        text-align: right;\n",
       "    }\n",
       "</style>\n",
       "<table border=\"1\" class=\"dataframe\">\n",
       "  <thead>\n",
       "    <tr style=\"text-align: right;\">\n",
       "      <th></th>\n",
       "      <th>step</th>\n",
       "      <th>type</th>\n",
       "      <th>amount</th>\n",
       "      <th>client_id</th>\n",
       "      <th>oldbalanceOrg</th>\n",
       "      <th>newbalanceOrig</th>\n",
       "      <th>nameDest</th>\n",
       "      <th>oldbalanceDest</th>\n",
       "      <th>newbalanceDest</th>\n",
       "      <th>isFraud</th>\n",
       "      <th>isFlaggedFraud</th>\n",
       "      <th>balance_change_org</th>\n",
       "      <th>balance_change_dest</th>\n",
       "      <th>rel_balance_change_org</th>\n",
       "      <th>rel_balance_change_dest</th>\n",
       "      <th>balance_diff</th>\n",
       "    </tr>\n",
       "  </thead>\n",
       "  <tbody>\n",
       "    <tr>\n",
       "      <th>6205439</th>\n",
       "      <td>586</td>\n",
       "      <td>TRANSFER</td>\n",
       "      <td>353874.22</td>\n",
       "      <td>1684585475</td>\n",
       "      <td>353874.22</td>\n",
       "      <td>353874.22</td>\n",
       "      <td>C1770418982</td>\n",
       "      <td>0.0</td>\n",
       "      <td>0.0</td>\n",
       "      <td>1</td>\n",
       "      <td>1</td>\n",
       "      <td>0.0</td>\n",
       "      <td>0.0</td>\n",
       "      <td>0.0</td>\n",
       "      <td>NaN</td>\n",
       "      <td>0.0</td>\n",
       "    </tr>\n",
       "    <tr>\n",
       "      <th>6281484</th>\n",
       "      <td>646</td>\n",
       "      <td>TRANSFER</td>\n",
       "      <td>399045.08</td>\n",
       "      <td>724693370</td>\n",
       "      <td>10399045.08</td>\n",
       "      <td>10399045.08</td>\n",
       "      <td>C1909486199</td>\n",
       "      <td>0.0</td>\n",
       "      <td>0.0</td>\n",
       "      <td>1</td>\n",
       "      <td>1</td>\n",
       "      <td>0.0</td>\n",
       "      <td>0.0</td>\n",
       "      <td>0.0</td>\n",
       "      <td>NaN</td>\n",
       "      <td>0.0</td>\n",
       "    </tr>\n",
       "  </tbody>\n",
       "</table>\n",
       "</div>"
      ],
      "text/plain": [
       "         step      type     amount   client_id  oldbalanceOrg  newbalanceOrig  \\\n",
       "6205439   586  TRANSFER  353874.22  1684585475      353874.22       353874.22   \n",
       "6281484   646  TRANSFER  399045.08   724693370    10399045.08     10399045.08   \n",
       "\n",
       "            nameDest  oldbalanceDest  newbalanceDest  isFraud  isFlaggedFraud  \\\n",
       "6205439  C1770418982             0.0             0.0        1               1   \n",
       "6281484  C1909486199             0.0             0.0        1               1   \n",
       "\n",
       "         balance_change_org  balance_change_dest  rel_balance_change_org  \\\n",
       "6205439                 0.0                  0.0                     0.0   \n",
       "6281484                 0.0                  0.0                     0.0   \n",
       "\n",
       "         rel_balance_change_dest  balance_diff  \n",
       "6205439                      NaN           0.0  \n",
       "6281484                      NaN           0.0  "
      ]
     },
     "execution_count": 128,
     "metadata": {},
     "output_type": "execute_result"
    }
   ],
   "source": [
    "df[df.isFlaggedFraud == 1]"
   ]
  },
  {
   "cell_type": "code",
   "execution_count": 129,
   "id": "4111fc4d",
   "metadata": {},
   "outputs": [
    {
     "data": {
      "text/plain": [
       "nameDest\n",
       "C1325541393    2\n",
       "C505532836     2\n",
       "C410033330     2\n",
       "C935310781     2\n",
       "C200064275     2\n",
       "C475338087     2\n",
       "C1148781766    2\n",
       "C1656842502    2\n",
       "C1460854172    2\n",
       "C686334805     2\n",
       "Name: count, dtype: int64"
      ]
     },
     "execution_count": 129,
     "metadata": {},
     "output_type": "execute_result"
    }
   ],
   "source": [
    "# get top 10 most frequent fraud distination clients\n",
    "x = df[df.isFraud == 1]\n",
    "n = 10\n",
    "Ramos = x['nameDest'].value_counts()[:n]\n",
    "Ramos"
   ]
  },
  {
   "cell_type": "code",
   "execution_count": 130,
   "id": "7e1de4f5",
   "metadata": {},
   "outputs": [],
   "source": [
    "for i in Ramos.index:\n",
    "    if i in df['nameDest'].value_counts()[:n].index:\n",
    "        print(i)\n",
    "        #we notice that the most frequent distination clients not motch to the most frequent fraud transaction process"
   ]
  },
  {
   "cell_type": "code",
   "execution_count": 131,
   "id": "1d1c2881",
   "metadata": {},
   "outputs": [],
   "source": [
    "df.nameDest = df.nameDest.replace('C','')\n",
    "df.nameDest = df.nameDest.replace('M','')\n",
    "df.rename(columns = {'nameDest' : 'distination_client_id'}, inplace = True)\n"
   ]
  },
  {
   "cell_type": "code",
   "execution_count": 132,
   "id": "c67b466f",
   "metadata": {},
   "outputs": [],
   "source": [
    "#data preprocessing"
   ]
  },
  {
   "cell_type": "code",
   "execution_count": 133,
   "id": "7c7f5b3d",
   "metadata": {},
   "outputs": [
    {
     "data": {
      "text/plain": [
       "isFraud\n",
       "0    6020184\n",
       "1       4359\n",
       "Name: count, dtype: int64"
      ]
     },
     "execution_count": 133,
     "metadata": {},
     "output_type": "execute_result"
    }
   ],
   "source": [
    "df.isFraud.value_counts()\n"
   ]
  },
  {
   "cell_type": "code",
   "execution_count": 134,
   "id": "fb56b729",
   "metadata": {},
   "outputs": [
    {
     "data": {
      "image/png": "[encoded data removed]",
      "text/plain": [
       "<Figure size 432x288 with 1 Axes>"
      ]
     },
     "metadata": {},
     "output_type": "display_data"
    }
   ],
   "source": [
    "plt.pie(df.isFraud.value_counts(),\n",
    "        autopct='%1.1f%%', pctdistance=0.85)\n",
    "centre_circle = plt.Circle((0, 0), 0.70, fc='white')\n",
    "fig = plt.gcf()\n",
    "fig.gca().add_artist(centre_circle)\n",
    "plt.show()\n"
   ]
  },
  {
   "cell_type": "code",
   "execution_count": 135,
   "id": "c4fd6352",
   "metadata": {},
   "outputs": [
    {
     "name": "stdout",
     "output_type": "stream",
     "text": [
      "class 0: (6020184, 16)\n",
      "class 1: (4359, 16)\n"
     ]
    }
   ],
   "source": [
    "#balancing the data  set cpz fraud data is very small 0.1%\n",
    "# class count\n",
    "class_count_0, class_count_1 = df['isFraud'].value_counts()\n",
    "\n",
    "# Separate class\n",
    "class_0 = df[df['isFraud'] == 0]\n",
    "class_1 = df[df['isFraud'] == 1]# print the shape of the class\n",
    "print('class 0:', class_0.shape)\n",
    "print('class 1:', class_1.shape)"
   ]
  },
  {
   "cell_type": "code",
   "execution_count": 136,
   "id": "f4c8f84a",
   "metadata": {},
   "outputs": [
    {
     "name": "stdout",
     "output_type": "stream",
     "text": [
      "total class of 1 and0: isFraud\n",
      "0    4359\n",
      "1    4359\n",
      "Name: count, dtype: int64\n"
     ]
    },
    {
     "data": {
      "text/plain": [
       "<AxesSubplot:title={'center':'count (target)'}, xlabel='isFraud'>"
      ]
     },
     "execution_count": 136,
     "metadata": {},
     "output_type": "execute_result"
    },
    {
     "data": {
      "image/png": "[encoded data removed]",
      "text/plain": [
       "<Figure size 432x288 with 1 Axes>"
      ]
     },
     "metadata": {
      "needs_background": "light"
     },
     "output_type": "display_data"
    }
   ],
   "source": [
    "class_0_under = class_0.sample(class_count_1)\n",
    "\n",
    "balancing_data = pd.concat([class_0_under, class_1], axis=0)\n",
    "\n",
    "print(\"total class of 1 and0:\",balancing_data['isFraud'].value_counts())# plot the count after under-sampeling\n",
    "balancing_data['isFraud'].value_counts().plot(kind='bar', title='count (target)')"
   ]
  },
  {
   "cell_type": "code",
   "execution_count": 137,
   "id": "a8647174",
   "metadata": {},
   "outputs": [
    {
     "data": {
      "text/html": [
       "<div>\n",
       "<style scoped>\n",
       "    .dataframe tbody tr th:only-of-type {\n",
       "        vertical-align: middle;\n",
       "    }\n",
       "\n",
       "    .dataframe tbody tr th {\n",
       "        vertical-align: top;\n",
       "    }\n",
       "\n",
       "    .dataframe thead th {\n",
       "        text-align: right;\n",
       "    }\n",
       "</style>\n",
       "<table border=\"1\" class=\"dataframe\">\n",
       "  <thead>\n",
       "    <tr style=\"text-align: right;\">\n",
       "      <th></th>\n",
       "      <th>step</th>\n",
       "      <th>type</th>\n",
       "      <th>amount</th>\n",
       "      <th>client_id</th>\n",
       "      <th>oldbalanceOrg</th>\n",
       "      <th>newbalanceOrig</th>\n",
       "      <th>distination_client_id</th>\n",
       "      <th>oldbalanceDest</th>\n",
       "      <th>newbalanceDest</th>\n",
       "      <th>isFraud</th>\n",
       "      <th>isFlaggedFraud</th>\n",
       "      <th>balance_change_org</th>\n",
       "      <th>balance_change_dest</th>\n",
       "      <th>rel_balance_change_org</th>\n",
       "      <th>rel_balance_change_dest</th>\n",
       "      <th>balance_diff</th>\n",
       "    </tr>\n",
       "  </thead>\n",
       "  <tbody>\n",
       "    <tr>\n",
       "      <th>4142340</th>\n",
       "      <td>303</td>\n",
       "      <td>PAYMENT</td>\n",
       "      <td>24021.72</td>\n",
       "      <td>2145671699</td>\n",
       "      <td>15178.00</td>\n",
       "      <td>0.00</td>\n",
       "      <td>M1467323787</td>\n",
       "      <td>0.00</td>\n",
       "      <td>0.00</td>\n",
       "      <td>0</td>\n",
       "      <td>0</td>\n",
       "      <td>-15178.00</td>\n",
       "      <td>0.00</td>\n",
       "      <td>-1.000000</td>\n",
       "      <td>NaN</td>\n",
       "      <td>15178.00</td>\n",
       "    </tr>\n",
       "    <tr>\n",
       "      <th>650982</th>\n",
       "      <td>35</td>\n",
       "      <td>CASH_OUT</td>\n",
       "      <td>283175.85</td>\n",
       "      <td>1602046600</td>\n",
       "      <td>48443.00</td>\n",
       "      <td>0.00</td>\n",
       "      <td>C1753889164</td>\n",
       "      <td>1213831.70</td>\n",
       "      <td>1627881.69</td>\n",
       "      <td>0</td>\n",
       "      <td>0</td>\n",
       "      <td>-48443.00</td>\n",
       "      <td>414049.99</td>\n",
       "      <td>-1.000000</td>\n",
       "      <td>0.341110</td>\n",
       "      <td>48443.00</td>\n",
       "    </tr>\n",
       "    <tr>\n",
       "      <th>5276662</th>\n",
       "      <td>372</td>\n",
       "      <td>CASH_IN</td>\n",
       "      <td>104978.97</td>\n",
       "      <td>1922301032</td>\n",
       "      <td>13452195.95</td>\n",
       "      <td>13557174.92</td>\n",
       "      <td>C1473141130</td>\n",
       "      <td>190358.10</td>\n",
       "      <td>85379.13</td>\n",
       "      <td>0</td>\n",
       "      <td>0</td>\n",
       "      <td>104978.97</td>\n",
       "      <td>-104978.97</td>\n",
       "      <td>0.007804</td>\n",
       "      <td>-0.551481</td>\n",
       "      <td>-104978.97</td>\n",
       "    </tr>\n",
       "    <tr>\n",
       "      <th>5450801</th>\n",
       "      <td>379</td>\n",
       "      <td>PAYMENT</td>\n",
       "      <td>10316.70</td>\n",
       "      <td>200215574</td>\n",
       "      <td>10636.00</td>\n",
       "      <td>319.30</td>\n",
       "      <td>M1084881591</td>\n",
       "      <td>0.00</td>\n",
       "      <td>0.00</td>\n",
       "      <td>0</td>\n",
       "      <td>0</td>\n",
       "      <td>-10316.70</td>\n",
       "      <td>0.00</td>\n",
       "      <td>-0.969979</td>\n",
       "      <td>NaN</td>\n",
       "      <td>10316.70</td>\n",
       "    </tr>\n",
       "    <tr>\n",
       "      <th>3240592</th>\n",
       "      <td>250</td>\n",
       "      <td>CASH_IN</td>\n",
       "      <td>103944.34</td>\n",
       "      <td>235399440</td>\n",
       "      <td>5642165.99</td>\n",
       "      <td>5746110.33</td>\n",
       "      <td>C2107442120</td>\n",
       "      <td>1041076.47</td>\n",
       "      <td>937132.12</td>\n",
       "      <td>0</td>\n",
       "      <td>0</td>\n",
       "      <td>103944.34</td>\n",
       "      <td>-103944.35</td>\n",
       "      <td>0.018423</td>\n",
       "      <td>-0.099843</td>\n",
       "      <td>-103944.34</td>\n",
       "    </tr>\n",
       "    <tr>\n",
       "      <th>...</th>\n",
       "      <td>...</td>\n",
       "      <td>...</td>\n",
       "      <td>...</td>\n",
       "      <td>...</td>\n",
       "      <td>...</td>\n",
       "      <td>...</td>\n",
       "      <td>...</td>\n",
       "      <td>...</td>\n",
       "      <td>...</td>\n",
       "      <td>...</td>\n",
       "      <td>...</td>\n",
       "      <td>...</td>\n",
       "      <td>...</td>\n",
       "      <td>...</td>\n",
       "      <td>...</td>\n",
       "      <td>...</td>\n",
       "    </tr>\n",
       "    <tr>\n",
       "      <th>6362609</th>\n",
       "      <td>742</td>\n",
       "      <td>CASH_OUT</td>\n",
       "      <td>258355.42</td>\n",
       "      <td>1113162093</td>\n",
       "      <td>258355.42</td>\n",
       "      <td>0.00</td>\n",
       "      <td>C797688696</td>\n",
       "      <td>25176.67</td>\n",
       "      <td>283532.09</td>\n",
       "      <td>1</td>\n",
       "      <td>0</td>\n",
       "      <td>-258355.42</td>\n",
       "      <td>258355.42</td>\n",
       "      <td>-1.000000</td>\n",
       "      <td>10.261699</td>\n",
       "      <td>258355.42</td>\n",
       "    </tr>\n",
       "    <tr>\n",
       "      <th>6362610</th>\n",
       "      <td>742</td>\n",
       "      <td>TRANSFER</td>\n",
       "      <td>63416.99</td>\n",
       "      <td>778071008</td>\n",
       "      <td>63416.99</td>\n",
       "      <td>0.00</td>\n",
       "      <td>C1812552860</td>\n",
       "      <td>0.00</td>\n",
       "      <td>0.00</td>\n",
       "      <td>1</td>\n",
       "      <td>0</td>\n",
       "      <td>-63416.99</td>\n",
       "      <td>0.00</td>\n",
       "      <td>-1.000000</td>\n",
       "      <td>NaN</td>\n",
       "      <td>63416.99</td>\n",
       "    </tr>\n",
       "    <tr>\n",
       "      <th>6362611</th>\n",
       "      <td>742</td>\n",
       "      <td>CASH_OUT</td>\n",
       "      <td>63416.99</td>\n",
       "      <td>994950684</td>\n",
       "      <td>63416.99</td>\n",
       "      <td>0.00</td>\n",
       "      <td>C1662241365</td>\n",
       "      <td>276433.18</td>\n",
       "      <td>339850.17</td>\n",
       "      <td>1</td>\n",
       "      <td>0</td>\n",
       "      <td>-63416.99</td>\n",
       "      <td>63416.99</td>\n",
       "      <td>-1.000000</td>\n",
       "      <td>0.229412</td>\n",
       "      <td>63416.99</td>\n",
       "    </tr>\n",
       "    <tr>\n",
       "      <th>6362614</th>\n",
       "      <td>743</td>\n",
       "      <td>TRANSFER</td>\n",
       "      <td>339682.13</td>\n",
       "      <td>2013999242</td>\n",
       "      <td>339682.13</td>\n",
       "      <td>0.00</td>\n",
       "      <td>C1850423904</td>\n",
       "      <td>0.00</td>\n",
       "      <td>0.00</td>\n",
       "      <td>1</td>\n",
       "      <td>0</td>\n",
       "      <td>-339682.13</td>\n",
       "      <td>0.00</td>\n",
       "      <td>-1.000000</td>\n",
       "      <td>NaN</td>\n",
       "      <td>339682.13</td>\n",
       "    </tr>\n",
       "    <tr>\n",
       "      <th>6362615</th>\n",
       "      <td>743</td>\n",
       "      <td>CASH_OUT</td>\n",
       "      <td>339682.13</td>\n",
       "      <td>786484425</td>\n",
       "      <td>339682.13</td>\n",
       "      <td>0.00</td>\n",
       "      <td>C776919290</td>\n",
       "      <td>0.00</td>\n",
       "      <td>339682.13</td>\n",
       "      <td>1</td>\n",
       "      <td>0</td>\n",
       "      <td>-339682.13</td>\n",
       "      <td>339682.13</td>\n",
       "      <td>-1.000000</td>\n",
       "      <td>inf</td>\n",
       "      <td>339682.13</td>\n",
       "    </tr>\n",
       "  </tbody>\n",
       "</table>\n",
       "<p>8718 rows × 16 columns</p>\n",
       "</div>"
      ],
      "text/plain": [
       "         step      type     amount   client_id  oldbalanceOrg  newbalanceOrig  \\\n",
       "4142340   303   PAYMENT   24021.72  2145671699       15178.00            0.00   \n",
       "650982     35  CASH_OUT  283175.85  1602046600       48443.00            0.00   \n",
       "5276662   372   CASH_IN  104978.97  1922301032    13452195.95     13557174.92   \n",
       "5450801   379   PAYMENT   10316.70   200215574       10636.00          319.30   \n",
       "3240592   250   CASH_IN  103944.34   235399440     5642165.99      5746110.33   \n",
       "...       ...       ...        ...         ...            ...             ...   \n",
       "6362609   742  CASH_OUT  258355.42  1113162093      258355.42            0.00   \n",
       "6362610   742  TRANSFER   63416.99   778071008       63416.99            0.00   \n",
       "6362611   742  CASH_OUT   63416.99   994950684       63416.99            0.00   \n",
       "6362614   743  TRANSFER  339682.13  2013999242      339682.13            0.00   \n",
       "6362615   743  CASH_OUT  339682.13   786484425      339682.13            0.00   \n",
       "\n",
       "        distination_client_id  oldbalanceDest  newbalanceDest  isFraud  \\\n",
       "4142340           M1467323787            0.00            0.00        0   \n",
       "650982            C1753889164      1213831.70      1627881.69        0   \n",
       "5276662           C1473141130       190358.10        85379.13        0   \n",
       "5450801           M1084881591            0.00            0.00        0   \n",
       "3240592           C2107442120      1041076.47       937132.12        0   \n",
       "...                       ...             ...             ...      ...   \n",
       "6362609            C797688696        25176.67       283532.09        1   \n",
       "6362610           C1812552860            0.00            0.00        1   \n",
       "6362611           C1662241365       276433.18       339850.17        1   \n",
       "6362614           C1850423904            0.00            0.00        1   \n",
       "6362615            C776919290            0.00       339682.13        1   \n",
       "\n",
       "         isFlaggedFraud  balance_change_org  balance_change_dest  \\\n",
       "4142340               0           -15178.00                 0.00   \n",
       "650982                0           -48443.00            414049.99   \n",
       "5276662               0           104978.97           -104978.97   \n",
       "5450801               0           -10316.70                 0.00   \n",
       "3240592               0           103944.34           -103944.35   \n",
       "...                 ...                 ...                  ...   \n",
       "6362609               0          -258355.42            258355.42   \n",
       "6362610               0           -63416.99                 0.00   \n",
       "6362611               0           -63416.99             63416.99   \n",
       "6362614               0          -339682.13                 0.00   \n",
       "6362615               0          -339682.13            339682.13   \n",
       "\n",
       "         rel_balance_change_org  rel_balance_change_dest  balance_diff  \n",
       "4142340               -1.000000                      NaN      15178.00  \n",
       "650982                -1.000000                 0.341110      48443.00  \n",
       "5276662                0.007804                -0.551481    -104978.97  \n",
       "5450801               -0.969979                      NaN      10316.70  \n",
       "3240592                0.018423                -0.099843    -103944.34  \n",
       "...                         ...                      ...           ...  \n",
       "6362609               -1.000000                10.261699     258355.42  \n",
       "6362610               -1.000000                      NaN      63416.99  \n",
       "6362611               -1.000000                 0.229412      63416.99  \n",
       "6362614               -1.000000                      NaN     339682.13  \n",
       "6362615               -1.000000                      inf     339682.13  \n",
       "\n",
       "[8718 rows x 16 columns]"
      ]
     },
     "execution_count": 137,
     "metadata": {},
     "output_type": "execute_result"
    }
   ],
   "source": [
    "balancing_data"
   ]
  },
  {
   "cell_type": "code",
   "execution_count": 138,
   "id": "67828073",
   "metadata": {},
   "outputs": [
    {
     "name": "stdout",
     "output_type": "stream",
     "text": [
      "<class 'pandas.core.frame.DataFrame'>\n",
      "Index: 8718 entries, 4142340 to 6362615\n",
      "Data columns (total 16 columns):\n",
      " #   Column                   Non-Null Count  Dtype  \n",
      "---  ------                   --------------  -----  \n",
      " 0   step                     8718 non-null   int64  \n",
      " 1   type                     8718 non-null   object \n",
      " 2   amount                   8718 non-null   float64\n",
      " 3   client_id                8718 non-null   int32  \n",
      " 4   oldbalanceOrg            8718 non-null   float64\n",
      " 5   newbalanceOrig           8718 non-null   float64\n",
      " 6   distination_client_id    8718 non-null   object \n",
      " 7   oldbalanceDest           8718 non-null   float64\n",
      " 8   newbalanceDest           8718 non-null   float64\n",
      " 9   isFraud                  8718 non-null   int64  \n",
      " 10  isFlaggedFraud           8718 non-null   int64  \n",
      " 11  balance_change_org       8718 non-null   float64\n",
      " 12  balance_change_dest      8718 non-null   float64\n",
      " 13  rel_balance_change_org   7284 non-null   float64\n",
      " 14  rel_balance_change_dest  4940 non-null   float64\n",
      " 15  balance_diff             8718 non-null   float64\n",
      "dtypes: float64(10), int32(1), int64(3), object(2)\n",
      "memory usage: 1.1+ MB\n"
     ]
    }
   ],
   "source": [
    "balancing_data.info()\n"
   ]
  },
  {
   "cell_type": "code",
   "execution_count": 139,
   "id": "76eeca9a",
   "metadata": {},
   "outputs": [
    {
     "data": {
      "text/plain": [
       "array(['PAYMENT', 'CASH_OUT', 'CASH_IN', 'TRANSFER', 'DEBIT'],\n",
       "      dtype=object)"
      ]
     },
     "execution_count": 139,
     "metadata": {},
     "output_type": "execute_result"
    }
   ],
   "source": [
    "balancing_data.type.unique()\n"
   ]
  },
  {
   "cell_type": "code",
   "execution_count": 140,
   "id": "09b469d5",
   "metadata": {},
   "outputs": [],
   "source": [
    "balancing_data[\"type\"] = balancing_data[\"type\"].map({\"CASH_OUT\": 1, \"PAYMENT\": 2, \"CASH_IN\": 3, \"TRANSFER\": 4, \"DEBIT\": 5})\n"
   ]
  },
  {
   "cell_type": "code",
   "execution_count": 141,
   "id": "9c5d79ab",
   "metadata": {},
   "outputs": [
    {
     "data": {
      "text/plain": [
       "dtype('int64')"
      ]
     },
     "execution_count": 141,
     "metadata": {},
     "output_type": "execute_result"
    }
   ],
   "source": [
    "#let's making our X and y variables and split the data into train-test split\n",
    "balancing_data.type.dtype"
   ]
  },
  {
   "cell_type": "code",
   "execution_count": 142,
   "id": "d480cef8",
   "metadata": {},
   "outputs": [],
   "source": [
    "X = balancing_data[['type', 'amount', 'oldbalanceOrg', 'newbalanceOrig', 'balance_diff']].values\n",
    "y = balancing_data.loc[:,'isFraud'].values"
   ]
  },
  {
   "cell_type": "code",
   "execution_count": 143,
   "id": "9051ee3b",
   "metadata": {},
   "outputs": [
    {
     "data": {
      "text/plain": [
       "array([[ 2.00000000e+00,  2.40217200e+04,  1.51780000e+04,\n",
       "         0.00000000e+00,  1.51780000e+04],\n",
       "       [ 1.00000000e+00,  2.83175850e+05,  4.84430000e+04,\n",
       "         0.00000000e+00,  4.84430000e+04],\n",
       "       [ 3.00000000e+00,  1.04978970e+05,  1.34521959e+07,\n",
       "         1.35571749e+07, -1.04978970e+05],\n",
       "       ...,\n",
       "       [ 1.00000000e+00,  6.34169900e+04,  6.34169900e+04,\n",
       "         0.00000000e+00,  6.34169900e+04],\n",
       "       [ 4.00000000e+00,  3.39682130e+05,  3.39682130e+05,\n",
       "         0.00000000e+00,  3.39682130e+05],\n",
       "       [ 1.00000000e+00,  3.39682130e+05,  3.39682130e+05,\n",
       "         0.00000000e+00,  3.39682130e+05]])"
      ]
     },
     "execution_count": 143,
     "metadata": {},
     "output_type": "execute_result"
    }
   ],
   "source": [
    "X"
   ]
  },
  {
   "cell_type": "code",
   "execution_count": 304,
   "id": "fb1aab73",
   "metadata": {},
   "outputs": [
    {
     "data": {
      "text/plain": [
       "array([0, 0, 0, ..., 1, 1, 1], dtype=int64)"
      ]
     },
     "execution_count": 304,
     "metadata": {},
     "output_type": "execute_result"
    }
   ],
   "source": [
    "y"
   ]
  },
  {
   "cell_type": "code",
   "execution_count": 144,
   "id": "924c2aac",
   "metadata": {},
   "outputs": [],
   "source": [
    "#splitting the data\n",
    "from sklearn.model_selection import train_test_split\n",
    "X_train, X_test, y_train, y_test = train_test_split(X, y, test_size=0.2, random_state=0)"
   ]
  },
  {
   "cell_type": "code",
   "execution_count": 145,
   "id": "a029f6af",
   "metadata": {},
   "outputs": [
    {
     "data": {
      "text/plain": [
       "((6974, 5), (1744, 5))"
      ]
     },
     "execution_count": 145,
     "metadata": {},
     "output_type": "execute_result"
    }
   ],
   "source": [
    "X_train.shape,X_test.shape"
   ]
  },
  {
   "cell_type": "code",
   "execution_count": 146,
   "id": "974d2e6b",
   "metadata": {},
   "outputs": [
    {
     "name": "stdout",
     "output_type": "stream",
     "text": [
      "[2.23415543e+00 1.45269521e+05 5.41286505e+05 4.67709017e+05\n",
      " 7.35774882e+04]\n"
     ]
    }
   ],
   "source": [
    "#encoding the data\n",
    "from sklearn.preprocessing import StandardScaler\n",
    "scaler= StandardScaler()\n",
    "scaler.fit(X_train)\n",
    "print(scaler.mean_)\n",
    "X_train = scaler.transform(X_train)\n",
    "X_test = scaler.transform(X_test)\n",
    "#we have standardized the features for use in ml model\n",
    "#After standardization, the mean of each feature becomes 0, and the standard deviation becomes 1.\n"
   ]
  },
  {
   "cell_type": "code",
   "execution_count": 147,
   "id": "033dfebc",
   "metadata": {},
   "outputs": [],
   "source": [
    "from sklearn import preprocessing\n",
    "from sklearn import utils\n",
    "\n",
    "#convert y values to categorical values\n",
    "lab = preprocessing.LabelEncoder()\n",
    "y_train = lab.fit_transform(y_train)\n",
    "y_test = lab.fit_transform(y_test)"
   ]
  },
  {
   "cell_type": "code",
   "execution_count": 311,
   "id": "1c2b87bf",
   "metadata": {},
   "outputs": [
    {
     "name": "stdout",
     "output_type": "stream",
     "text": [
      "Collecting package metadata (current_repodata.json): ...working... done\n",
      "Note: you may need to restart the kernel to use updated packages.\n",
      "Solving environment: ...working... done\n",
      "\n",
      "\n"
     ]
    },
    {
     "name": "stderr",
     "output_type": "stream",
     "text": [
      "\n",
      "\n",
      "==> WARNING: A newer version of conda exists. <==\n",
      "  current version: 4.12.0\n",
      "  latest version: 24.4.0\n",
      "\n",
      "Please update conda by running\n",
      "\n",
      "    $ conda update -n base -c defaults conda\n",
      "\n",
      "\n"
     ]
    },
    {
     "name": "stdout",
     "output_type": "stream",
     "text": [
      "## Package Plan ##\n",
      "\n",
      "  environment location: C:\\Users\\kharl\\anaconda3\n",
      "\n",
      "  added / updated specs:\n",
      "    - xgboost\n",
      "\n",
      "\n",
      "The following packages will be downloaded:\n",
      "\n",
      "    package                    |            build\n",
      "    ---------------------------|-----------------\n",
      "    _py-xgboost-mutex-2.0      |            cpu_0          11 KB  conda-forge\n",
      "    conda-4.14.0               |   py39hcbf5309_0         1.0 MB  conda-forge\n",
      "    libxgboost-2.0.3           |       h5da7b33_0         2.6 MB\n",
      "    py-xgboost-2.0.3           | cpu_pyh995e691_4         130 KB  conda-forge\n",
      "    python_abi-3.9             |           2_cp39           4 KB  conda-forge\n",
      "    xgboost-2.0.3              | cpu_pyhb8f9a19_4          16 KB  conda-forge\n",
      "    ------------------------------------------------------------\n",
      "                                           Total:         3.7 MB\n",
      "\n",
      "The following NEW packages will be INSTALLED:\n",
      "\n",
      "  _py-xgboost-mutex  conda-forge/win-64::_py-xgboost-mutex-2.0-cpu_0\n",
      "  libxgboost         pkgs/main/win-64::libxgboost-2.0.3-h5da7b33_0\n",
      "  py-xgboost         conda-forge/noarch::py-xgboost-2.0.3-cpu_pyh995e691_4\n",
      "  python_abi         conda-forge/win-64::python_abi-3.9-2_cp39\n",
      "  xgboost            conda-forge/noarch::xgboost-2.0.3-cpu_pyhb8f9a19_4\n",
      "\n",
      "The following packages will be UPDATED:\n",
      "\n",
      "  conda              pkgs/main::conda-4.12.0-py39haa95532_0 --> conda-forge::conda-4.14.0-py39hcbf5309_0\n",
      "\n",
      "\n",
      "\n",
      "Downloading and Extracting Packages\n",
      "\n",
      "xgboost-2.0.3        | 16 KB     |            |   0% \n",
      "xgboost-2.0.3        | 16 KB     | ########## | 100% \n",
      "xgboost-2.0.3        | 16 KB     | ########## | 100% \n",
      "\n",
      "conda-4.14.0         | 1.0 MB    |            |   0% \n",
      "conda-4.14.0         | 1.0 MB    | 1          |   2% \n",
      "conda-4.14.0         | 1.0 MB    | ########## | 100% \n",
      "conda-4.14.0         | 1.0 MB    | ########## | 100% \n",
      "\n",
      "py-xgboost-2.0.3     | 130 KB    |            |   0% \n",
      "py-xgboost-2.0.3     | 130 KB    | ########## | 100% \n",
      "py-xgboost-2.0.3     | 130 KB    | ########## | 100% \n",
      "\n",
      "_py-xgboost-mutex-2. | 11 KB     |            |   0% \n",
      "_py-xgboost-mutex-2. | 11 KB     | ########## | 100% \n",
      "_py-xgboost-mutex-2. | 11 KB     | ########## | 100% \n",
      "\n",
      "libxgboost-2.0.3     | 2.6 MB    |            |   0% \n",
      "libxgboost-2.0.3     | 2.6 MB    |            |   1% \n",
      "libxgboost-2.0.3     | 2.6 MB    | ####4      |  44% \n",
      "libxgboost-2.0.3     | 2.6 MB    | #########  |  90% \n",
      "libxgboost-2.0.3     | 2.6 MB    | ########## | 100% \n",
      "\n",
      "python_abi-3.9       | 4 KB      |            |   0% \n",
      "python_abi-3.9       | 4 KB      | ########## | 100% \n",
      "Preparing transaction: ...working... done\n",
      "Verifying transaction: ...working... done\n",
      "Executing transaction: ...working... done\n"
     ]
    }
   ],
   "source": [
    "conda install -c conda-forge xgboost\n"
   ]
  },
  {
   "cell_type": "code",
   "execution_count": 148,
   "id": "16f8ffd3",
   "metadata": {},
   "outputs": [],
   "source": [
    "#Building the algo and fitting the data\n",
    "from sklearn.linear_model import LogisticRegression\n",
    "from sklearn.neighbors import KNeighborsClassifier\n",
    "from sklearn.svm import SVC\n",
    "from sklearn.naive_bayes import GaussianNB\n",
    "from sklearn.tree import DecisionTreeClassifier\n",
    "from sklearn.ensemble import RandomForestClassifier\n",
    "from xgboost import XGBClassifier\n",
    "from sklearn.metrics import confusion_matrix, accuracy_score, precision_score, recall_score, f1_score, fbeta_score"
   ]
  },
  {
   "cell_type": "code",
   "execution_count": 149,
   "id": "ab246d0c",
   "metadata": {},
   "outputs": [],
   "source": [
    "models = {\n",
    "    \"LR\": LogisticRegression(),\n",
    "    \"KNN\": KNeighborsClassifier(),\n",
    "    \"DT\": DecisionTreeClassifier(),\n",
    "    \"RF\": RandomForestClassifier(),\n",
    "    \"XGB\": XGBClassifier(),\n",
    "    \"Naive Bayes\": GaussianNB(),\n",
    "    \"SVC\": SVC()\n",
    "\n",
    "}"
   ]
  },
  {
   "cell_type": "code",
   "execution_count": 150,
   "id": "383c71cd",
   "metadata": {},
   "outputs": [
    {
     "name": "stdout",
     "output_type": "stream",
     "text": [
      "Training Model LR \n",
      "--------------\n",
      "Training Accuracy: 0.9228563234872383\n",
      "Testing Accuracy: 0.9231651376146789\n",
      "Testing Confusion Matrix: \n",
      "[[847  30]\n",
      " [104 763]]\n",
      "Recall Score :  0.9231651376146789\n",
      "Precision Score :  0.9231651376146789\n",
      "Testing F-1: 0.9231651376146789\n",
      "Testing F-Beta: 0.9231651376146789\n",
      "------------------------------\n",
      "Training Model KNN \n",
      "--------------\n"
     ]
    },
    {
     "name": "stderr",
     "output_type": "stream",
     "text": [
      "C:\\Users\\kharl\\anaconda3\\lib\\site-packages\\sklearn\\metrics\\_classification.py:1370: UserWarning: Note that pos_label (set to 'positive') is ignored when average != 'binary' (got 'micro'). You may use labels=[pos_label] to specify a single positive class.\n",
      "  warnings.warn(\n",
      "C:\\Users\\kharl\\anaconda3\\lib\\site-packages\\sklearn\\metrics\\_classification.py:1370: UserWarning: Note that pos_label (set to 'positive') is ignored when average != 'binary' (got 'micro'). You may use labels=[pos_label] to specify a single positive class.\n",
      "  warnings.warn(\n",
      "C:\\Users\\kharl\\anaconda3\\lib\\site-packages\\sklearn\\metrics\\_classification.py:1370: UserWarning: Note that pos_label (set to 'positive') is ignored when average != 'binary' (got 'micro'). You may use labels=[pos_label] to specify a single positive class.\n",
      "  warnings.warn(\n",
      "C:\\Users\\kharl\\anaconda3\\lib\\site-packages\\sklearn\\metrics\\_classification.py:1370: UserWarning: Note that pos_label (set to 'positive') is ignored when average != 'binary' (got 'micro'). You may use labels=[pos_label] to specify a single positive class.\n",
      "  warnings.warn(\n"
     ]
    },
    {
     "name": "stdout",
     "output_type": "stream",
     "text": [
      "Training Accuracy: 0.9827932320045885\n",
      "Testing Accuracy: 0.9850917431192661\n",
      "Testing Confusion Matrix: \n",
      "[[855  22]\n",
      " [  4 863]]\n",
      "Recall Score :  0.9850917431192661\n",
      "Precision Score :  0.9850917431192661\n",
      "Testing F-1: 0.9850917431192661\n",
      "Testing F-Beta: 0.9850917431192661\n",
      "------------------------------\n",
      "Training Model DT \n",
      "--------------\n",
      "Training Accuracy: 1.0\n",
      "Testing Accuracy: 0.9931192660550459\n",
      "Testing Confusion Matrix: \n",
      "[[870   7]\n",
      " [  5 862]]\n",
      "Recall Score :  0.9931192660550459\n",
      "Precision Score :  0.9931192660550459\n",
      "Testing F-1: 0.9931192660550459\n",
      "Testing F-Beta: 0.993119266055046\n",
      "------------------------------\n",
      "Training Model RF \n",
      "--------------\n"
     ]
    },
    {
     "name": "stderr",
     "output_type": "stream",
     "text": [
      "C:\\Users\\kharl\\anaconda3\\lib\\site-packages\\sklearn\\metrics\\_classification.py:1370: UserWarning: Note that pos_label (set to 'positive') is ignored when average != 'binary' (got 'micro'). You may use labels=[pos_label] to specify a single positive class.\n",
      "  warnings.warn(\n",
      "C:\\Users\\kharl\\anaconda3\\lib\\site-packages\\sklearn\\metrics\\_classification.py:1370: UserWarning: Note that pos_label (set to 'positive') is ignored when average != 'binary' (got 'micro'). You may use labels=[pos_label] to specify a single positive class.\n",
      "  warnings.warn(\n",
      "C:\\Users\\kharl\\anaconda3\\lib\\site-packages\\sklearn\\metrics\\_classification.py:1370: UserWarning: Note that pos_label (set to 'positive') is ignored when average != 'binary' (got 'micro'). You may use labels=[pos_label] to specify a single positive class.\n",
      "  warnings.warn(\n",
      "C:\\Users\\kharl\\anaconda3\\lib\\site-packages\\sklearn\\metrics\\_classification.py:1370: UserWarning: Note that pos_label (set to 'positive') is ignored when average != 'binary' (got 'micro'). You may use labels=[pos_label] to specify a single positive class.\n",
      "  warnings.warn(\n",
      "C:\\Users\\kharl\\anaconda3\\lib\\site-packages\\sklearn\\metrics\\_classification.py:1370: UserWarning: Note that pos_label (set to 'positive') is ignored when average != 'binary' (got 'micro'). You may use labels=[pos_label] to specify a single positive class.\n",
      "  warnings.warn(\n",
      "C:\\Users\\kharl\\anaconda3\\lib\\site-packages\\sklearn\\metrics\\_classification.py:1370: UserWarning: Note that pos_label (set to 'positive') is ignored when average != 'binary' (got 'micro'). You may use labels=[pos_label] to specify a single positive class.\n",
      "  warnings.warn(\n",
      "C:\\Users\\kharl\\anaconda3\\lib\\site-packages\\sklearn\\metrics\\_classification.py:1370: UserWarning: Note that pos_label (set to 'positive') is ignored when average != 'binary' (got 'micro'). You may use labels=[pos_label] to specify a single positive class.\n",
      "  warnings.warn(\n",
      "C:\\Users\\kharl\\anaconda3\\lib\\site-packages\\sklearn\\metrics\\_classification.py:1370: UserWarning: Note that pos_label (set to 'positive') is ignored when average != 'binary' (got 'micro'). You may use labels=[pos_label] to specify a single positive class.\n",
      "  warnings.warn(\n"
     ]
    },
    {
     "name": "stdout",
     "output_type": "stream",
     "text": [
      "Training Accuracy: 1.0\n",
      "Testing Accuracy: 0.9931192660550459\n",
      "Testing Confusion Matrix: \n",
      "[[869   8]\n",
      " [  4 863]]\n",
      "Recall Score :  0.9931192660550459\n",
      "Precision Score :  0.9931192660550459\n",
      "Testing F-1: 0.9931192660550459\n",
      "Testing F-Beta: 0.993119266055046\n",
      "------------------------------\n",
      "Training Model XGB \n",
      "--------------\n"
     ]
    },
    {
     "name": "stderr",
     "output_type": "stream",
     "text": [
      "C:\\Users\\kharl\\anaconda3\\lib\\site-packages\\sklearn\\metrics\\_classification.py:1370: UserWarning: Note that pos_label (set to 'positive') is ignored when average != 'binary' (got 'micro'). You may use labels=[pos_label] to specify a single positive class.\n",
      "  warnings.warn(\n",
      "C:\\Users\\kharl\\anaconda3\\lib\\site-packages\\sklearn\\metrics\\_classification.py:1370: UserWarning: Note that pos_label (set to 'positive') is ignored when average != 'binary' (got 'micro'). You may use labels=[pos_label] to specify a single positive class.\n",
      "  warnings.warn(\n",
      "C:\\Users\\kharl\\anaconda3\\lib\\site-packages\\sklearn\\metrics\\_classification.py:1370: UserWarning: Note that pos_label (set to 'positive') is ignored when average != 'binary' (got 'micro'). You may use labels=[pos_label] to specify a single positive class.\n",
      "  warnings.warn(\n",
      "C:\\Users\\kharl\\anaconda3\\lib\\site-packages\\sklearn\\metrics\\_classification.py:1370: UserWarning: Note that pos_label (set to 'positive') is ignored when average != 'binary' (got 'micro'). You may use labels=[pos_label] to specify a single positive class.\n",
      "  warnings.warn(\n"
     ]
    },
    {
     "name": "stdout",
     "output_type": "stream",
     "text": [
      "Training Accuracy: 0.9964152566676227\n",
      "Testing Accuracy: 0.9942660550458715\n",
      "Testing Confusion Matrix: \n",
      "[[871   6]\n",
      " [  4 863]]\n",
      "Recall Score :  0.9942660550458715\n",
      "Precision Score :  0.9942660550458715\n",
      "Testing F-1: 0.9942660550458715\n",
      "Testing F-Beta: 0.9942660550458716\n",
      "------------------------------\n",
      "Training Model Naive Bayes \n",
      "--------------\n",
      "Training Accuracy: 0.5800114711786636\n",
      "Testing Accuracy: 0.5877293577981652\n",
      "Testing Confusion Matrix: \n",
      "[[158 719]\n",
      " [  0 867]]\n",
      "Recall Score :  0.5877293577981652\n",
      "Precision Score :  0.5877293577981652\n",
      "Testing F-1: 0.5877293577981652\n",
      "Testing F-Beta: 0.5877293577981652\n",
      "------------------------------\n",
      "Training Model SVC \n",
      "--------------\n"
     ]
    },
    {
     "name": "stderr",
     "output_type": "stream",
     "text": [
      "C:\\Users\\kharl\\anaconda3\\lib\\site-packages\\sklearn\\metrics\\_classification.py:1370: UserWarning: Note that pos_label (set to 'positive') is ignored when average != 'binary' (got 'micro'). You may use labels=[pos_label] to specify a single positive class.\n",
      "  warnings.warn(\n",
      "C:\\Users\\kharl\\anaconda3\\lib\\site-packages\\sklearn\\metrics\\_classification.py:1370: UserWarning: Note that pos_label (set to 'positive') is ignored when average != 'binary' (got 'micro'). You may use labels=[pos_label] to specify a single positive class.\n",
      "  warnings.warn(\n",
      "C:\\Users\\kharl\\anaconda3\\lib\\site-packages\\sklearn\\metrics\\_classification.py:1370: UserWarning: Note that pos_label (set to 'positive') is ignored when average != 'binary' (got 'micro'). You may use labels=[pos_label] to specify a single positive class.\n",
      "  warnings.warn(\n",
      "C:\\Users\\kharl\\anaconda3\\lib\\site-packages\\sklearn\\metrics\\_classification.py:1370: UserWarning: Note that pos_label (set to 'positive') is ignored when average != 'binary' (got 'micro'). You may use labels=[pos_label] to specify a single positive class.\n",
      "  warnings.warn(\n",
      "C:\\Users\\kharl\\anaconda3\\lib\\site-packages\\sklearn\\metrics\\_classification.py:1370: UserWarning: Note that pos_label (set to 'positive') is ignored when average != 'binary' (got 'micro'). You may use labels=[pos_label] to specify a single positive class.\n",
      "  warnings.warn(\n",
      "C:\\Users\\kharl\\anaconda3\\lib\\site-packages\\sklearn\\metrics\\_classification.py:1370: UserWarning: Note that pos_label (set to 'positive') is ignored when average != 'binary' (got 'micro'). You may use labels=[pos_label] to specify a single positive class.\n",
      "  warnings.warn(\n",
      "C:\\Users\\kharl\\anaconda3\\lib\\site-packages\\sklearn\\metrics\\_classification.py:1370: UserWarning: Note that pos_label (set to 'positive') is ignored when average != 'binary' (got 'micro'). You may use labels=[pos_label] to specify a single positive class.\n",
      "  warnings.warn(\n",
      "C:\\Users\\kharl\\anaconda3\\lib\\site-packages\\sklearn\\metrics\\_classification.py:1370: UserWarning: Note that pos_label (set to 'positive') is ignored when average != 'binary' (got 'micro'). You may use labels=[pos_label] to specify a single positive class.\n",
      "  warnings.warn(\n"
     ]
    },
    {
     "name": "stdout",
     "output_type": "stream",
     "text": [
      "Training Accuracy: 0.9577000286779467\n",
      "Testing Accuracy: 0.9661697247706422\n",
      "Testing Confusion Matrix: \n",
      "[[822  55]\n",
      " [  4 863]]\n",
      "Recall Score :  0.9661697247706422\n",
      "Precision Score :  0.9661697247706422\n",
      "Testing F-1: 0.9661697247706422\n",
      "Testing F-Beta: 0.9661697247706422\n",
      "------------------------------\n"
     ]
    },
    {
     "name": "stderr",
     "output_type": "stream",
     "text": [
      "C:\\Users\\kharl\\anaconda3\\lib\\site-packages\\sklearn\\metrics\\_classification.py:1370: UserWarning: Note that pos_label (set to 'positive') is ignored when average != 'binary' (got 'micro'). You may use labels=[pos_label] to specify a single positive class.\n",
      "  warnings.warn(\n",
      "C:\\Users\\kharl\\anaconda3\\lib\\site-packages\\sklearn\\metrics\\_classification.py:1370: UserWarning: Note that pos_label (set to 'positive') is ignored when average != 'binary' (got 'micro'). You may use labels=[pos_label] to specify a single positive class.\n",
      "  warnings.warn(\n",
      "C:\\Users\\kharl\\anaconda3\\lib\\site-packages\\sklearn\\metrics\\_classification.py:1370: UserWarning: Note that pos_label (set to 'positive') is ignored when average != 'binary' (got 'micro'). You may use labels=[pos_label] to specify a single positive class.\n",
      "  warnings.warn(\n",
      "C:\\Users\\kharl\\anaconda3\\lib\\site-packages\\sklearn\\metrics\\_classification.py:1370: UserWarning: Note that pos_label (set to 'positive') is ignored when average != 'binary' (got 'micro'). You may use labels=[pos_label] to specify a single positive class.\n",
      "  warnings.warn(\n"
     ]
    }
   ],
   "source": [
    "for name, model in models.items():\n",
    "    print(f'Training Model {name} \\n--------------')\n",
    "    model.fit(X_train, y_train)\n",
    "    y_pred = model.predict(X_test)\n",
    "    print(f'Training Accuracy: {accuracy_score(y_train, model.predict(X_train))}')\n",
    "    print(f'Testing Accuracy: {accuracy_score(y_test, y_pred)}')\n",
    "    print(f'Testing Confusion Matrix: \\n{confusion_matrix(y_test, y_pred)}')\n",
    "    print(\"Recall Score : \",recall_score(y_test, y_pred, pos_label='positive', average='micro'))    \n",
    "    print(\"Precision Score : \",precision_score(y_test, y_pred,  pos_label='positive',average='micro'))     \n",
    "    print(f\"Testing F-1:\", f1_score(y_test, y_pred, pos_label='positive', average='micro' )        )\n",
    "    print(f\"Testing F-Beta:\", fbeta_score(y_test, y_pred, beta=0.5, pos_label='positive', average='micro'))\n",
    "    print('-'*30)"
   ]
  },
  {
   "cell_type": "code",
   "execution_count": 315,
   "id": "b1911e19",
   "metadata": {},
   "outputs": [
    {
     "name": "stdout",
     "output_type": "stream",
     "text": [
      "XGBClassifier(base_score=None, booster=None, callbacks=None,\n",
      "              colsample_bylevel=None, colsample_bynode=None,\n",
      "              colsample_bytree=None, device=None, early_stopping_rounds=None,\n",
      "              enable_categorical=False, eval_metric=None, feature_types=None,\n",
      "              gamma=None, grow_policy=None, importance_type=None,\n",
      "              interaction_constraints=None, learning_rate=None, max_bin=None,\n",
      "              max_cat_threshold=None, max_cat_to_onehot=None,\n",
      "              max_delta_step=None, max_depth=None, max_leaves=None,\n",
      "              min_child_weight=None, missing=nan, monotone_constraints=None,\n",
      "              multi_strategy=None, n_estimators=None, n_jobs=None,\n",
      "              num_parallel_tree=None, random_state=None, ...)\n"
     ]
    }
   ],
   "source": [
    "#as we see the XGBoost is the best algorithm with :\n",
    "# * accuracy : 99%\n",
    "# * F1 score : 99%\n",
    "model = XGBClassifier()\n",
    "model.fit(X_train, y_train)\n",
    "print(model)"
   ]
  },
  {
   "cell_type": "code",
   "execution_count": 151,
   "id": "83663646",
   "metadata": {},
   "outputs": [],
   "source": [
    "# make predictions for test data\n",
    "y_pred = model.predict(X_test)\n",
    "predictions = [round(value) for value in y_pred]"
   ]
  },
  {
   "cell_type": "code",
   "execution_count": 152,
   "id": "62810ca5",
   "metadata": {},
   "outputs": [
    {
     "name": "stdout",
     "output_type": "stream",
     "text": [
      "Accuracy: 96.62%\n"
     ]
    }
   ],
   "source": [
    "# evaluate predictions\n",
    "accuracy = accuracy_score(y_test, predictions)\n",
    "print(\"Accuracy: %.2f%%\" % (accuracy * 100.0))"
   ]
  },
  {
   "cell_type": "code",
   "execution_count": 153,
   "id": "35344ff5",
   "metadata": {},
   "outputs": [
    {
     "data": {
      "text/plain": [
       "array([1, 0], dtype=int64)"
      ]
     },
     "execution_count": 153,
     "metadata": {},
     "output_type": "execute_result"
    }
   ],
   "source": [
    "rounded_y = np.round(y_pred)\n",
    "unique_val = pd.DataFrame(y_test)\n",
    "unique_val[0].unique()\n"
   ]
  },
  {
   "cell_type": "code",
   "execution_count": null,
   "id": "09b4ce71",
   "metadata": {},
   "outputs": [],
   "source": []
  },
  {
   "cell_type": "code",
   "execution_count": null,
   "id": "d80ca8b5",
   "metadata": {},
   "outputs": [],
   "source": []
  },
  {
   "cell_type": "code",
   "execution_count": 155,
   "id": "1b30f51a",
   "metadata": {},
   "outputs": [
    {
     "data": {
      "text/plain": [
       "array([[[822,  55],\n",
       "        [  4, 863]],\n",
       "\n",
       "       [[863,   4],\n",
       "        [ 55, 822]]], dtype=int64)"
      ]
     },
     "execution_count": 155,
     "metadata": {},
     "output_type": "execute_result"
    }
   ],
   "source": [
    "#the multiple confusion metrices\n",
    "# [tp,fn]\n",
    "# [fp,tn]\n",
    "\n",
    "from sklearn.metrics import multilabel_confusion_matrix\n",
    "y_unique = unique_val[0].unique()\n",
    "mcm = multilabel_confusion_matrix(y_test, y_pred, labels = y_unique)\n",
    "mcm"
   ]
  },
  {
   "cell_type": "code",
   "execution_count": 156,
   "id": "7d81048e",
   "metadata": {},
   "outputs": [
    {
     "data": {
      "text/html": [
       "<div>\n",
       "<style scoped>\n",
       "    .dataframe tbody tr th:only-of-type {\n",
       "        vertical-align: middle;\n",
       "    }\n",
       "\n",
       "    .dataframe tbody tr th {\n",
       "        vertical-align: top;\n",
       "    }\n",
       "\n",
       "    .dataframe thead th {\n",
       "        text-align: right;\n",
       "    }\n",
       "</style>\n",
       "<table border=\"1\" class=\"dataframe\">\n",
       "  <thead>\n",
       "    <tr style=\"text-align: right;\">\n",
       "      <th></th>\n",
       "      <th>step</th>\n",
       "      <th>type</th>\n",
       "      <th>amount</th>\n",
       "      <th>client_id</th>\n",
       "      <th>oldbalanceOrg</th>\n",
       "      <th>newbalanceOrig</th>\n",
       "      <th>distination_client_id</th>\n",
       "      <th>oldbalanceDest</th>\n",
       "      <th>newbalanceDest</th>\n",
       "      <th>isFraud</th>\n",
       "      <th>isFlaggedFraud</th>\n",
       "      <th>balance_change_org</th>\n",
       "      <th>balance_change_dest</th>\n",
       "      <th>rel_balance_change_org</th>\n",
       "      <th>rel_balance_change_dest</th>\n",
       "      <th>balance_diff</th>\n",
       "    </tr>\n",
       "  </thead>\n",
       "  <tbody>\n",
       "    <tr>\n",
       "      <th>0</th>\n",
       "      <td>1</td>\n",
       "      <td>PAYMENT</td>\n",
       "      <td>9839.64</td>\n",
       "      <td>1231006815</td>\n",
       "      <td>170136.0</td>\n",
       "      <td>160296.36</td>\n",
       "      <td>M1979787155</td>\n",
       "      <td>0.0</td>\n",
       "      <td>0.0</td>\n",
       "      <td>0</td>\n",
       "      <td>0</td>\n",
       "      <td>-9839.64</td>\n",
       "      <td>0.0</td>\n",
       "      <td>-0.057834</td>\n",
       "      <td>NaN</td>\n",
       "      <td>9839.64</td>\n",
       "    </tr>\n",
       "    <tr>\n",
       "      <th>1</th>\n",
       "      <td>1</td>\n",
       "      <td>PAYMENT</td>\n",
       "      <td>1864.28</td>\n",
       "      <td>1666544295</td>\n",
       "      <td>21249.0</td>\n",
       "      <td>19384.72</td>\n",
       "      <td>M2044282225</td>\n",
       "      <td>0.0</td>\n",
       "      <td>0.0</td>\n",
       "      <td>0</td>\n",
       "      <td>0</td>\n",
       "      <td>-1864.28</td>\n",
       "      <td>0.0</td>\n",
       "      <td>-0.087735</td>\n",
       "      <td>NaN</td>\n",
       "      <td>1864.28</td>\n",
       "    </tr>\n",
       "    <tr>\n",
       "      <th>2</th>\n",
       "      <td>1</td>\n",
       "      <td>TRANSFER</td>\n",
       "      <td>181.00</td>\n",
       "      <td>1305486145</td>\n",
       "      <td>181.0</td>\n",
       "      <td>0.00</td>\n",
       "      <td>C553264065</td>\n",
       "      <td>0.0</td>\n",
       "      <td>0.0</td>\n",
       "      <td>1</td>\n",
       "      <td>0</td>\n",
       "      <td>-181.00</td>\n",
       "      <td>0.0</td>\n",
       "      <td>-1.000000</td>\n",
       "      <td>NaN</td>\n",
       "      <td>181.00</td>\n",
       "    </tr>\n",
       "    <tr>\n",
       "      <th>3</th>\n",
       "      <td>1</td>\n",
       "      <td>CASH_OUT</td>\n",
       "      <td>181.00</td>\n",
       "      <td>840083671</td>\n",
       "      <td>181.0</td>\n",
       "      <td>0.00</td>\n",
       "      <td>C38997010</td>\n",
       "      <td>21182.0</td>\n",
       "      <td>0.0</td>\n",
       "      <td>1</td>\n",
       "      <td>0</td>\n",
       "      <td>-181.00</td>\n",
       "      <td>-21182.0</td>\n",
       "      <td>-1.000000</td>\n",
       "      <td>-1.0</td>\n",
       "      <td>181.00</td>\n",
       "    </tr>\n",
       "    <tr>\n",
       "      <th>4</th>\n",
       "      <td>1</td>\n",
       "      <td>PAYMENT</td>\n",
       "      <td>11668.14</td>\n",
       "      <td>2048537720</td>\n",
       "      <td>41554.0</td>\n",
       "      <td>29885.86</td>\n",
       "      <td>M1230701703</td>\n",
       "      <td>0.0</td>\n",
       "      <td>0.0</td>\n",
       "      <td>0</td>\n",
       "      <td>0</td>\n",
       "      <td>-11668.14</td>\n",
       "      <td>0.0</td>\n",
       "      <td>-0.280795</td>\n",
       "      <td>NaN</td>\n",
       "      <td>11668.14</td>\n",
       "    </tr>\n",
       "  </tbody>\n",
       "</table>\n",
       "</div>"
      ],
      "text/plain": [
       "   step      type    amount   client_id  oldbalanceOrg  newbalanceOrig  \\\n",
       "0     1   PAYMENT   9839.64  1231006815       170136.0       160296.36   \n",
       "1     1   PAYMENT   1864.28  1666544295        21249.0        19384.72   \n",
       "2     1  TRANSFER    181.00  1305486145          181.0            0.00   \n",
       "3     1  CASH_OUT    181.00   840083671          181.0            0.00   \n",
       "4     1   PAYMENT  11668.14  2048537720        41554.0        29885.86   \n",
       "\n",
       "  distination_client_id  oldbalanceDest  newbalanceDest  isFraud  \\\n",
       "0           M1979787155             0.0             0.0        0   \n",
       "1           M2044282225             0.0             0.0        0   \n",
       "2            C553264065             0.0             0.0        1   \n",
       "3             C38997010         21182.0             0.0        1   \n",
       "4           M1230701703             0.0             0.0        0   \n",
       "\n",
       "   isFlaggedFraud  balance_change_org  balance_change_dest  \\\n",
       "0               0            -9839.64                  0.0   \n",
       "1               0            -1864.28                  0.0   \n",
       "2               0             -181.00                  0.0   \n",
       "3               0             -181.00             -21182.0   \n",
       "4               0           -11668.14                  0.0   \n",
       "\n",
       "   rel_balance_change_org  rel_balance_change_dest  balance_diff  \n",
       "0               -0.057834                      NaN       9839.64  \n",
       "1               -0.087735                      NaN       1864.28  \n",
       "2               -1.000000                      NaN        181.00  \n",
       "3               -1.000000                     -1.0        181.00  \n",
       "4               -0.280795                      NaN      11668.14  "
      ]
     },
     "execution_count": 156,
     "metadata": {},
     "output_type": "execute_result"
    }
   ],
   "source": [
    "df.head()\n"
   ]
  },
  {
   "cell_type": "code",
   "execution_count": 157,
   "id": "da2233f3",
   "metadata": {},
   "outputs": [
    {
     "name": "stdout",
     "output_type": "stream",
     "text": [
      "not Fraud\n"
     ]
    }
   ],
   "source": [
    "if  model.predict([[2,9839.64,170136.0,160296.36,9839.64]])[0] == 0:\n",
    "    print('not Fraud')\n",
    "else: print('is Fraud')"
   ]
  },
  {
   "cell_type": "code",
   "execution_count": null,
   "id": "5085b59f",
   "metadata": {},
   "outputs": [],
   "source": []
  }
 ],
 "metadata": {
  "kernelspec": {
   "display_name": "Python 3 (ipykernel)",
   "language": "python",
   "name": "python3"
  },
  "language_info": {
   "codemirror_mode": {
    "name": "ipython",
    "version": 3
   },
   "file_extension": ".py",
   "mimetype": "text/x-python",
   "name": "python",
   "nbconvert_exporter": "python",
   "pygments_lexer": "ipython3",
   "version": "3.9.12"
  }
 },
 "nbformat": 4,
 "nbformat_minor": 5
}
